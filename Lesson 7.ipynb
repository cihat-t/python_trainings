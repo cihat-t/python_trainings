{
 "cells": [
  {
   "cell_type": "markdown",
   "id": "b23575ff",
   "metadata": {},
   "source": [
    "#### <div class=\"alert alert-block alert-info\"><h1><p style=\"text-align: center; color:purple\">Collection Types - Lists<br><br>Indexing & Slicing a List<br><br>Tuples</p>"
   ]
  },
  {
   "cell_type": "markdown",
   "id": "a7d7cb0c",
   "metadata": {},
   "source": [
    "<a id=\"toc\"></a>\n",
    "\n",
    "## <p style=\"background-color:#9d4f8c; font-family:newtimeroman; color:#FFF9ED; font-size:175%; text-align:center; border-radius:10px 10px;\">List - Indexing & Slicing a List</p>"
   ]
  },
  {
   "cell_type": "code",
   "execution_count": 1,
   "id": "a0161b2a",
   "metadata": {},
   "outputs": [
    {
     "name": "stderr",
     "output_type": "stream",
     "text": [
      "<>:1: SyntaxWarning: 'int' object is not subscriptable; perhaps you missed a comma?\n",
      "<>:1: SyntaxWarning: 'int' object is not subscriptable; perhaps you missed a comma?\n",
      "C:\\Users\\tasci\\AppData\\Local\\Temp\\ipykernel_10904\\1517910283.py:1: SyntaxWarning: 'int' object is not subscriptable; perhaps you missed a comma?\n",
      "  2134[1]  # integer data tipleri iterable değildir. Elemanları yoktur. Dolayısıyla indekslenemez.\n",
      "C:\\Users\\tasci\\AppData\\Local\\Temp\\ipykernel_10904\\1517910283.py:1: SyntaxWarning: 'int' object is not subscriptable; perhaps you missed a comma?\n",
      "  2134[1]  # integer data tipleri iterable değildir. Elemanları yoktur. Dolayısıyla indekslenemez.\n",
      "C:\\Users\\tasci\\AppData\\Local\\Temp\\ipykernel_10904\\1517910283.py:1: SyntaxWarning: 'int' object is not subscriptable; perhaps you missed a comma?\n",
      "  2134[1]  # integer data tipleri iterable değildir. Elemanları yoktur. Dolayısıyla indekslenemez.\n",
      "C:\\Users\\tasci\\AppData\\Local\\Temp\\ipykernel_10904\\1517910283.py:1: SyntaxWarning: 'int' object is not subscriptable; perhaps you missed a comma?\n",
      "  2134[1]  # integer data tipleri iterable değildir. Elemanları yoktur. Dolayısıyla indekslenemez.\n",
      "C:\\Users\\tasci\\AppData\\Local\\Temp\\ipykernel_10904\\1517910283.py:1: SyntaxWarning: 'int' object is not subscriptable; perhaps you missed a comma?\n",
      "  2134[1]  # integer data tipleri iterable değildir. Elemanları yoktur. Dolayısıyla indekslenemez.\n"
     ]
    },
    {
     "ename": "TypeError",
     "evalue": "'int' object is not subscriptable",
     "output_type": "error",
     "traceback": [
      "\u001b[1;31m---------------------------------------------------------------------------\u001b[0m",
      "\u001b[1;31mTypeError\u001b[0m                                 Traceback (most recent call last)",
      "Cell \u001b[1;32mIn[1], line 1\u001b[0m\n\u001b[1;32m----> 1\u001b[0m \u001b[38;5;241m2134\u001b[39m[\u001b[38;5;241m1\u001b[39m]\n",
      "\u001b[1;31mTypeError\u001b[0m: 'int' object is not subscriptable"
     ]
    }
   ],
   "source": [
    "2134[1]  # integer data tipleri iterable değildir. Elemanları yoktur. Dolayısıyla indekslenemez."
   ]
  },
  {
   "cell_type": "code",
   "execution_count": 2,
   "id": "b229ad86",
   "metadata": {},
   "outputs": [
    {
     "ename": "TypeError",
     "evalue": "object of type 'int' has no len()",
     "output_type": "error",
     "traceback": [
      "\u001b[1;31m---------------------------------------------------------------------------\u001b[0m",
      "\u001b[1;31mTypeError\u001b[0m                                 Traceback (most recent call last)",
      "Cell \u001b[1;32mIn[2], line 1\u001b[0m\n\u001b[1;32m----> 1\u001b[0m \u001b[38;5;28mlen\u001b[39m(\u001b[38;5;241m2134\u001b[39m)\n",
      "\u001b[1;31mTypeError\u001b[0m: object of type 'int' has no len()"
     ]
    }
   ],
   "source": [
    "len(2134)  # iterable olmadıkları için len() fonksiyonu ile uzunluklarına da bakılamaz!"
   ]
  },
  {
   "cell_type": "code",
   "execution_count": 3,
   "id": "03648c25",
   "metadata": {},
   "outputs": [],
   "source": [
    "colors = [\"red\", \"purple\", \"blue\", \"yellow\", \"green\"]"
   ]
  },
  {
   "cell_type": "code",
   "execution_count": 4,
   "id": "0391560b",
   "metadata": {},
   "outputs": [
    {
     "data": {
      "text/plain": [
       "'yellow'"
      ]
     },
     "execution_count": 4,
     "metadata": {},
     "output_type": "execute_result"
    }
   ],
   "source": [
    "colors[3]"
   ]
  },
  {
   "cell_type": "code",
   "execution_count": 5,
   "id": "f6ee5995",
   "metadata": {},
   "outputs": [
    {
     "data": {
      "text/plain": [
       "'yellow'"
      ]
     },
     "execution_count": 5,
     "metadata": {},
     "output_type": "execute_result"
    }
   ],
   "source": [
    " [\"red\", \"purple\", \"blue\", \"yellow\", \"green\"][3]"
   ]
  },
  {
   "cell_type": "code",
   "execution_count": 6,
   "id": "a658f1ec",
   "metadata": {},
   "outputs": [
    {
     "name": "stdout",
     "output_type": "stream",
     "text": [
      "[['New York', 'London', 'Istanbul', 'Seoul', 'Sydney']]\n"
     ]
    }
   ],
   "source": [
    "city =  [\"New York\", \"London\", \"Istanbul\", \"Seoul\", \"Sydney\"]\n",
    "\n",
    "city_list = []\n",
    "\n",
    "city_list.append(city)  # boş listenin içine bir liste object'i append ettik. Artık city_list tek elemanlı bir liste.\n",
    "\n",
    "print(city_list)"
   ]
  },
  {
   "cell_type": "code",
   "execution_count": 7,
   "id": "7faf018d",
   "metadata": {},
   "outputs": [
    {
     "data": {
      "text/plain": [
       "1"
      ]
     },
     "execution_count": 7,
     "metadata": {},
     "output_type": "execute_result"
    }
   ],
   "source": [
    "len(city_list)"
   ]
  },
  {
   "cell_type": "code",
   "execution_count": 8,
   "id": "5df75da2",
   "metadata": {},
   "outputs": [
    {
     "name": "stdout",
     "output_type": "stream",
     "text": [
      "[['New York', 'London', 'Istanbul', 'Seoul', 'Sydney']]\n"
     ]
    }
   ],
   "source": [
    "city_list = []\n",
    "\n",
    "city_list.append([\"New York\", \"London\", \"Istanbul\", \"Seoul\", \"Sydney\"])\n",
    "\n",
    "print(city_list)"
   ]
  },
  {
   "cell_type": "code",
   "execution_count": 9,
   "id": "96070ece",
   "metadata": {},
   "outputs": [],
   "source": [
    "city_list = [  [\"New York\", \"London\", \"Istanbul\", \"Seoul\", \"Sydney\"] ]"
   ]
  },
  {
   "cell_type": "code",
   "execution_count": 10,
   "id": "5c51fd77",
   "metadata": {},
   "outputs": [
    {
     "ename": "IndexError",
     "evalue": "list index out of range",
     "output_type": "error",
     "traceback": [
      "\u001b[1;31m---------------------------------------------------------------------------\u001b[0m",
      "\u001b[1;31mIndexError\u001b[0m                                Traceback (most recent call last)",
      "Cell \u001b[1;32mIn[10], line 1\u001b[0m\n\u001b[1;32m----> 1\u001b[0m city_list[\u001b[38;5;241m1\u001b[39m]\n",
      "\u001b[1;31mIndexError\u001b[0m: list index out of range"
     ]
    }
   ],
   "source": [
    "city_list[1]  # listem tek elemanlı olduğu için 1. indeksi yok! yalnızca 0. indeksi var."
   ]
  },
  {
   "cell_type": "code",
   "execution_count": 11,
   "id": "7c9e17b7",
   "metadata": {},
   "outputs": [
    {
     "data": {
      "text/plain": [
       "['New York', 'London', 'Istanbul', 'Seoul', 'Sydney']"
      ]
     },
     "execution_count": 11,
     "metadata": {},
     "output_type": "execute_result"
    }
   ],
   "source": [
    "city_list[0]  # city_list listesinin tek elemanı 5 string value'dan oluşan bir liste."
   ]
  },
  {
   "cell_type": "code",
   "execution_count": 12,
   "id": "dba61ffe",
   "metadata": {},
   "outputs": [
    {
     "data": {
      "text/plain": [
       "list"
      ]
     },
     "execution_count": 12,
     "metadata": {},
     "output_type": "execute_result"
    }
   ],
   "source": [
    "type(city_list[0])"
   ]
  },
  {
   "cell_type": "code",
   "execution_count": 13,
   "id": "56841695",
   "metadata": {},
   "outputs": [],
   "source": [
    "benzer_iş = [2]"
   ]
  },
  {
   "cell_type": "code",
   "execution_count": 14,
   "id": "ef6e238f",
   "metadata": {},
   "outputs": [
    {
     "data": {
      "text/plain": [
       "2"
      ]
     },
     "execution_count": 14,
     "metadata": {},
     "output_type": "execute_result"
    }
   ],
   "source": [
    "benzer_iş[0]"
   ]
  },
  {
   "cell_type": "code",
   "execution_count": 15,
   "id": "d27c9184",
   "metadata": {},
   "outputs": [
    {
     "data": {
      "text/plain": [
       "list"
      ]
     },
     "execution_count": 15,
     "metadata": {},
     "output_type": "execute_result"
    }
   ],
   "source": [
    "type(benzer_iş)  # listemin tipi list class."
   ]
  },
  {
   "cell_type": "code",
   "execution_count": 16,
   "id": "c2d998ba",
   "metadata": {},
   "outputs": [
    {
     "data": {
      "text/plain": [
       "int"
      ]
     },
     "execution_count": 16,
     "metadata": {},
     "output_type": "execute_result"
    }
   ],
   "source": [
    "type(benzer_iş[0])  # listemin 0. indeksindeki elemanının tipi bir integer."
   ]
  },
  {
   "cell_type": "code",
   "execution_count": 17,
   "id": "3972101a",
   "metadata": {},
   "outputs": [
    {
     "data": {
      "text/plain": [
       "[['New York', 'London', 'Istanbul', 'Seoul', 'Sydney']]"
      ]
     },
     "execution_count": 17,
     "metadata": {},
     "output_type": "execute_result"
    }
   ],
   "source": [
    "city_list"
   ]
  },
  {
   "cell_type": "code",
   "execution_count": 18,
   "id": "770e2ed3",
   "metadata": {},
   "outputs": [
    {
     "data": {
      "text/plain": [
       "'Istanbul'"
      ]
     },
     "execution_count": 18,
     "metadata": {},
     "output_type": "execute_result"
    }
   ],
   "source": [
    "city_list[0][2]  "
   ]
  },
  {
   "cell_type": "code",
   "execution_count": 19,
   "id": "c7427c27",
   "metadata": {},
   "outputs": [
    {
     "data": {
      "text/plain": [
       "str"
      ]
     },
     "execution_count": 19,
     "metadata": {},
     "output_type": "execute_result"
    }
   ],
   "source": [
    "type(city_list[0][2])"
   ]
  },
  {
   "cell_type": "code",
   "execution_count": 20,
   "id": "3cf5b19c",
   "metadata": {},
   "outputs": [
    {
     "data": {
      "text/plain": [
       "str"
      ]
     },
     "execution_count": 20,
     "metadata": {},
     "output_type": "execute_result"
    }
   ],
   "source": [
    "type(city_list[0][2][3])"
   ]
  },
  {
   "cell_type": "code",
   "execution_count": 21,
   "id": "586ede7d",
   "metadata": {},
   "outputs": [
    {
     "data": {
      "text/plain": [
       "range(1, 11)"
      ]
     },
     "execution_count": 21,
     "metadata": {},
     "output_type": "execute_result"
    }
   ],
   "source": [
    "range(1, 11)  # havada, on the air bir object üretti. "
   ]
  },
  {
   "cell_type": "code",
   "execution_count": 22,
   "id": "a225c20c",
   "metadata": {},
   "outputs": [
    {
     "data": {
      "text/plain": [
       "range"
      ]
     },
     "execution_count": 22,
     "metadata": {},
     "output_type": "execute_result"
    }
   ],
   "source": [
    "type(range(1, 11))  # range fonksiyonunun ürettiği object'in tipi range type'dır."
   ]
  },
  {
   "cell_type": "code",
   "execution_count": 23,
   "id": "d2b0ba49",
   "metadata": {},
   "outputs": [
    {
     "data": {
      "text/plain": [
       "[1, 2, 3, 4, 5, 6, 7, 8, 9, 10]"
      ]
     },
     "execution_count": 23,
     "metadata": {},
     "output_type": "execute_result"
    }
   ],
   "source": [
    "list(range(1, 11))  # on the air nesneleri bir collection'a çevirerek görünür yapabiliriz."
   ]
  },
  {
   "cell_type": "code",
   "execution_count": 24,
   "id": "268c96be",
   "metadata": {},
   "outputs": [
    {
     "data": {
      "text/plain": [
       "[0, 1, 2, 3, 4, 5, 6, 7, 8, 9, 10]"
      ]
     },
     "execution_count": 24,
     "metadata": {},
     "output_type": "execute_result"
    }
   ],
   "source": [
    "list(range(11))"
   ]
  },
  {
   "cell_type": "code",
   "execution_count": 25,
   "id": "2b4f6750",
   "metadata": {},
   "outputs": [
    {
     "data": {
      "text/plain": [
       "[1, 2, 3, 4, 5, 6, 7, 8, 9, 10]"
      ]
     },
     "execution_count": 25,
     "metadata": {},
     "output_type": "execute_result"
    }
   ],
   "source": [
    "sayılar = list(range(1, 11))\n",
    "sayılar"
   ]
  },
  {
   "cell_type": "code",
   "execution_count": 26,
   "id": "0213ca95",
   "metadata": {},
   "outputs": [
    {
     "data": {
      "text/plain": [
       "[1, 3, 5, 7, 9]"
      ]
     },
     "execution_count": 26,
     "metadata": {},
     "output_type": "execute_result"
    }
   ],
   "source": [
    "diğer_sayılar = list(range(1, 11, 2))\n",
    "diğer_sayılar"
   ]
  },
  {
   "cell_type": "code",
   "execution_count": 27,
   "id": "ef505534",
   "metadata": {},
   "outputs": [
    {
     "data": {
      "text/plain": [
       "range(0, 11)"
      ]
     },
     "execution_count": 27,
     "metadata": {},
     "output_type": "execute_result"
    }
   ],
   "source": [
    "range(11)"
   ]
  },
  {
   "cell_type": "code",
   "execution_count": 28,
   "id": "a0903eba",
   "metadata": {},
   "outputs": [
    {
     "data": {
      "text/plain": [
       "range(11, -1)"
      ]
     },
     "execution_count": 28,
     "metadata": {},
     "output_type": "execute_result"
    }
   ],
   "source": [
    "range(11, -1)"
   ]
  },
  {
   "cell_type": "code",
   "execution_count": 29,
   "id": "399ad0fb",
   "metadata": {},
   "outputs": [
    {
     "data": {
      "text/plain": [
       "[]"
      ]
     },
     "execution_count": 29,
     "metadata": {},
     "output_type": "execute_result"
    }
   ],
   "source": [
    "list(range(11, -1))"
   ]
  },
  {
   "cell_type": "code",
   "execution_count": 30,
   "id": "64194cc1",
   "metadata": {},
   "outputs": [
    {
     "data": {
      "text/plain": [
       "[11, 10, 9, 8, 7, 6, 5, 4, 3, 2, 1]"
      ]
     },
     "execution_count": 30,
     "metadata": {},
     "output_type": "execute_result"
    }
   ],
   "source": [
    "list(range(11, 0, -1))"
   ]
  },
  {
   "cell_type": "code",
   "execution_count": 31,
   "id": "23b02d15",
   "metadata": {},
   "outputs": [
    {
     "name": "stdout",
     "output_type": "stream",
     "text": [
      "1\n"
     ]
    }
   ],
   "source": [
    "print(len([[1, 2, 3]]))  # len() fonksiyonu, en dıştaki listenin eleman sayısına bakar. "
   ]
  },
  {
   "cell_type": "code",
   "execution_count": 32,
   "id": "36fe4b3e",
   "metadata": {},
   "outputs": [
    {
     "name": "stdout",
     "output_type": "stream",
     "text": [
      "3\n"
     ]
    }
   ],
   "source": [
    "print(len([[1, 2, 3]][0]))  \n",
    "\n",
    "# dıştaki listenin 0. indeksindeki elemanın (yani [1,2,3) listesinin) eleman sayısına len() fonk. ile baktık."
   ]
  },
  {
   "cell_type": "code",
   "execution_count": 33,
   "id": "c05afa24",
   "metadata": {},
   "outputs": [
    {
     "data": {
      "text/plain": [
       "[1, 2, 3]"
      ]
     },
     "execution_count": 33,
     "metadata": {},
     "output_type": "execute_result"
    }
   ],
   "source": [
    "[[1, 2, 3]][0]"
   ]
  },
  {
   "cell_type": "code",
   "execution_count": 34,
   "id": "2574c24a",
   "metadata": {},
   "outputs": [],
   "source": [
    "a = [1,2,3,4,5]"
   ]
  },
  {
   "cell_type": "code",
   "execution_count": 35,
   "id": "f50e093e",
   "metadata": {},
   "outputs": [],
   "source": [
    "a[2:2] = []"
   ]
  },
  {
   "cell_type": "code",
   "execution_count": 36,
   "id": "1d5303d3",
   "metadata": {},
   "outputs": [
    {
     "data": {
      "text/plain": [
       "[1, 2, 3, 4, 5]"
      ]
     },
     "execution_count": 36,
     "metadata": {},
     "output_type": "execute_result"
    }
   ],
   "source": [
    "a"
   ]
  },
  {
   "cell_type": "code",
   "execution_count": 37,
   "id": "2a7a819a",
   "metadata": {},
   "outputs": [],
   "source": [
    "a[2:3] = []"
   ]
  },
  {
   "cell_type": "code",
   "execution_count": 38,
   "id": "b5a6140e",
   "metadata": {},
   "outputs": [
    {
     "data": {
      "text/plain": [
       "[1, 2, 4, 5]"
      ]
     },
     "execution_count": 38,
     "metadata": {},
     "output_type": "execute_result"
    }
   ],
   "source": [
    "a"
   ]
  },
  {
   "cell_type": "markdown",
   "id": "a59a6b4b",
   "metadata": {},
   "source": [
    "<a id=\"toc\"></a>\n",
    "\n",
    "## <p style=\"background-color:#9d4f8c; font-family:newtimeroman; color:#FFF9ED; font-size:175%; text-align:center; border-radius:10px 10px;\">Tuples</p>"
   ]
  },
  {
   "cell_type": "markdown",
   "id": "ff25a8d7",
   "metadata": {},
   "source": [
    "**python documentation link - Tuples and Sequences: https://docs.python.org/3/tutorial/datastructures.html#tuples-and-sequences**"
   ]
  },
  {
   "cell_type": "code",
   "execution_count": 50,
   "id": "5963ad6a",
   "metadata": {},
   "outputs": [],
   "source": [
    "import sys"
   ]
  },
  {
   "cell_type": "code",
   "execution_count": 51,
   "id": "482a7c53",
   "metadata": {},
   "outputs": [],
   "source": [
    "x = [1, 2, 3]\n",
    "\n",
    "y = (1, 2, 3)"
   ]
  },
  {
   "cell_type": "code",
   "execution_count": 52,
   "id": "58d8b7b4",
   "metadata": {},
   "outputs": [
    {
     "name": "stdout",
     "output_type": "stream",
     "text": [
      "88\n",
      "64\n"
     ]
    }
   ],
   "source": [
    "print(sys.getsizeof(x))  # shift tab tab ile docstringini oku.\n",
    "print(sys.getsizeof(y))\n",
    "\n",
    "# liste, aynı elemanlara sahip bir tuple'a göre hafızada 2 katı alan kaplıyor."
   ]
  },
  {
   "cell_type": "code",
   "execution_count": 53,
   "id": "cabd5b86",
   "metadata": {},
   "outputs": [
    {
     "data": {
      "text/plain": [
       "10"
      ]
     },
     "execution_count": 53,
     "metadata": {},
     "output_type": "execute_result"
    }
   ],
   "source": [
    "c = 10\n",
    "c"
   ]
  },
  {
   "cell_type": "code",
   "execution_count": 54,
   "id": "6b64ecf9",
   "metadata": {},
   "outputs": [],
   "source": [
    "a, b, c = 1, 2, 3  # tuple unpacking"
   ]
  },
  {
   "cell_type": "code",
   "execution_count": 55,
   "id": "c84d82d3",
   "metadata": {},
   "outputs": [
    {
     "data": {
      "text/plain": [
       "1"
      ]
     },
     "execution_count": 55,
     "metadata": {},
     "output_type": "execute_result"
    }
   ],
   "source": [
    "a"
   ]
  },
  {
   "cell_type": "code",
   "execution_count": 56,
   "id": "a63398d5",
   "metadata": {},
   "outputs": [
    {
     "data": {
      "text/plain": [
       "3"
      ]
     },
     "execution_count": 56,
     "metadata": {},
     "output_type": "execute_result"
    }
   ],
   "source": [
    "c"
   ]
  },
  {
   "cell_type": "code",
   "execution_count": 57,
   "id": "6de69f95",
   "metadata": {},
   "outputs": [
    {
     "ename": "NameError",
     "evalue": "name 'lis' is not defined",
     "output_type": "error",
     "traceback": [
      "\u001b[1;31m---------------------------------------------------------------------------\u001b[0m",
      "\u001b[1;31mNameError\u001b[0m                                 Traceback (most recent call last)",
      "Cell \u001b[1;32mIn[57], line 1\u001b[0m\n\u001b[1;32m----> 1\u001b[0m lis\n",
      "\u001b[1;31mNameError\u001b[0m: name 'lis' is not defined"
     ]
    }
   ],
   "source": [
    "lis"
   ]
  },
  {
   "cell_type": "code",
   "execution_count": 58,
   "id": "74e5d78a",
   "metadata": {},
   "outputs": [],
   "source": [
    "x = 1, 2, 3  # parantez kullanmasanız da python, araları virgül ile ayrılmış nesneleri bir tuple olarak görür."
   ]
  },
  {
   "cell_type": "code",
   "execution_count": 59,
   "id": "5e222b62",
   "metadata": {},
   "outputs": [
    {
     "data": {
      "text/plain": [
       "(1, 2, 3)"
      ]
     },
     "execution_count": 59,
     "metadata": {},
     "output_type": "execute_result"
    }
   ],
   "source": [
    "x"
   ]
  },
  {
   "cell_type": "code",
   "execution_count": 49,
   "id": "c0f08f76",
   "metadata": {
    "scrolled": true
   },
   "outputs": [
    {
     "ename": "TypeError",
     "evalue": "cannot unpack non-iterable int object",
     "output_type": "error",
     "traceback": [
      "\u001b[1;31m---------------------------------------------------------------------------\u001b[0m",
      "\u001b[1;31mTypeError\u001b[0m                                 Traceback (most recent call last)",
      "Cell \u001b[1;32mIn[49], line 1\u001b[0m\n\u001b[1;32m----> 1\u001b[0m x, y \u001b[38;5;241m=\u001b[39m \u001b[38;5;241m3\u001b[39m\n",
      "\u001b[1;31mTypeError\u001b[0m: cannot unpack non-iterable int object"
     ]
    }
   ],
   "source": [
    "x, y = 3  # bir value, iki değişkene atanamaz. \n",
    "\n",
    "# tuple unpacking'de; eşitliğin sağında değişken sayısı kadar value olmalı."
   ]
  },
  {
   "cell_type": "code",
   "execution_count": null,
   "id": "21226c08",
   "metadata": {},
   "outputs": [],
   "source": []
  }
 ],
 "metadata": {
  "kernelspec": {
   "display_name": "Python 3 (ipykernel)",
   "language": "python",
   "name": "python3"
  },
  "language_info": {
   "codemirror_mode": {
    "name": "ipython",
    "version": 3
   },
   "file_extension": ".py",
   "mimetype": "text/x-python",
   "name": "python",
   "nbconvert_exporter": "python",
   "pygments_lexer": "ipython3",
   "version": "3.11.5"
  }
 },
 "nbformat": 4,
 "nbformat_minor": 5
}
