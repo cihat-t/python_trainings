{
 "cells": [
  {
   "cell_type": "markdown",
   "id": "97d2a08c",
   "metadata": {},
   "source": [
    "<a id=\"toc\"></a>\n",
    "\n",
    "## <p style=\"background-color:#0D8D99; font-family:newtimeroman; color:#FFF9ED; font-size:175%; text-align:center; border-radius:10px 10px;\">11 Python Exercises for Bootcamp Break</p>"
   ]
  },
  {
   "cell_type": "markdown",
   "id": "ce458967",
   "metadata": {},
   "source": [
    "**Task 1: Girilen 3 harfli bir kelimenin harflerinin içinde ünlü harf olup olmadığını ve eğer ünlü harf var ise bunun kaçıncı harf olduğunu yazdırınız.**"
   ]
  },
  {
   "cell_type": "code",
   "execution_count": 1,
   "id": "cf0e6ba5",
   "metadata": {
    "scrolled": true
   },
   "outputs": [
    {
     "name": "stdout",
     "output_type": "stream",
     "text": [
      "3 harften oluşan bir kelime giriniz: 1011100\n",
      "3 harften farklı kelime girdiniz!\n",
      "Lütfen yeniden giriniz: aak\n",
      "aak kelimesinde 2 adet ünlü vardır: \n",
      "        Birinci ünlü a ünlüsüdür ve kelimenin 1. sırasındadır. \n",
      "        İkinci ünlü a ünlüsüdür ve kelimenin 1. sırasındadır.\n"
     ]
    }
   ],
   "source": [
    "vocal = {\"a\",\"e\",\"u\",\"ü\",\"o\",\"ö\",\"ı\",\"i\"}\n",
    "text = str(input(\"3 harften oluşan bir kelime giriniz: \")).lower()\n",
    "\n",
    "while len(text)!= 3:\n",
    "    print(\"3 harften farklı kelime girdiniz!\")\n",
    "    text= str(input(\"Lütfen yeniden giriniz: \")).lower()\n",
    "list_vocal = []\n",
    "for i in text:\n",
    "    if i in vocal:\n",
    "        list_vocal.append(i)\n",
    "\n",
    "for j in list_vocal:\n",
    "        \n",
    "    if len(list_vocal)==1:\n",
    "        print(f\"{text} kelimesinde {len(list_vocal)} adet ünlü vardır:\\n\\\n",
    "        {j} ünlüsü kelimenin {text.index(j) + 1}. sırasındadır.\")\n",
    "        break\n",
    "    elif len(list_vocal) == 2:\n",
    "        print(f\"{text} kelimesinde {len(list_vocal)} adet ünlü vardır: \\n\\\n",
    "        Birinci ünlü {list_vocal[0]} ünlüsüdür ve kelimenin {text.index(list_vocal[1]) + 1 if list_vocal[0]==list_vocal[1] else 2 }. sırasındadır. \\n\\\n",
    "        İkinci ünlü {list_vocal[1]} ünlüsüdür ve kelimenin {3 if text[0]==text[2] else text.index(list_vocal[1]) + 1 }. sırasındadır.\")\n",
    "        break\n",
    "    else:\n",
    "        print(f\"{text} kelimesinde {len(list_vocal)} adet ünlü vardır: \\n\\\n",
    "        Birinci ünlü: {list_vocal[0]} ünlüsüdür ve kelimenin {text.index(list_vocal[0]) + 1}. sırasındadır. \\n\\\n",
    "        İkinci ünlü: {list_vocal[1]} ünlüsüdür ve kelimenin {2 if list_vocal[0]==list_vocal[1] else text.index(list_vocal[1]) + 1}. sırasındadır.\\n\\\n",
    "        Üçüncü ünlü: {list_vocal[2]} ünlüsüdür ve kelimenin {3 if list_vocal[0]==list_vocal[1] and list_vocal[1]==list_vocal[2]  else text.index(list_vocal[1]) + 1}. sırasındadır. \")\n",
    "        break       "
   ]
  },
  {
   "cell_type": "markdown",
   "id": "6be36aa0",
   "metadata": {},
   "source": [
    "**Task 2 :Kullanıcıdan binary bir numara girmesini isteyelim ve onu decimal sayıya \n",
    "convert edelim**\n",
    "\n",
    "**Örnek: Input= 1011001 Output = 89 olmalı**"
   ]
  },
  {
   "cell_type": "code",
   "execution_count": 2,
   "id": "0049b22b",
   "metadata": {},
   "outputs": [
    {
     "name": "stdout",
     "output_type": "stream",
     "text": [
      "Give a binary number: 101111\n",
      "47\n"
     ]
    }
   ],
   "source": [
    "binary = input(\"Give a binary number: \")\n",
    "str_bin = str(binary)\n",
    "list_bin = []\n",
    "for i in str_bin:\n",
    "    list_bin.append(int(i))\n",
    "    \n",
    "list_bin = list_bin[::-1]    \n",
    "sayaç = 1\n",
    "sum_liste = []\n",
    "for j in list_bin:\n",
    "    j = j * sayaç\n",
    "    sayaç *= 2\n",
    "    sum_liste.append(j)\n",
    "print(sum(sum_liste))"
   ]
  },
  {
   "cell_type": "code",
   "execution_count": 3,
   "id": "f8f4b48a",
   "metadata": {},
   "outputs": [
    {
     "name": "stdout",
     "output_type": "stream",
     "text": [
      "Enter a binary number to see its decimal equal : 100001\n"
     ]
    },
    {
     "data": {
      "text/plain": [
       "33"
      ]
     },
     "execution_count": 3,
     "metadata": {},
     "output_type": "execute_result"
    }
   ],
   "source": [
    "# my own solution:\n",
    "user_number = input(\"Enter a binary number to see its decimal equal : \")[::-1]\n",
    "def converter(n):\n",
    "    index = 0\n",
    "    total = 0\n",
    "    for i in user_number:\n",
    "        total += int(i)*(2**index)\n",
    "        index += 1\n",
    "    return total\n",
    "converter(user_number) "
   ]
  },
  {
   "cell_type": "markdown",
   "id": "67d01305",
   "metadata": {},
   "source": [
    "**Task 3 : 1000 den küçük olan 3 ve 5 e bölünen tüm sayıların toplamını bulan program yazınız?**"
   ]
  },
  {
   "cell_type": "code",
   "execution_count": 4,
   "id": "85f3b5a2",
   "metadata": {},
   "outputs": [
    {
     "name": "stdout",
     "output_type": "stream",
     "text": [
      "33165\n"
     ]
    }
   ],
   "source": [
    "numbers = list(range(0,1000))\n",
    "sayaç = 0\n",
    "toplam = 0\n",
    "for i in numbers:\n",
    "    if i % 3 == 0 and i % 5 == 0 :\n",
    "        toplam += i\n",
    "        sayaç += 1\n",
    "print(toplam)\n",
    "        \n",
    "        "
   ]
  },
  {
   "cell_type": "markdown",
   "id": "614f833e",
   "metadata": {},
   "source": [
    "**Task 4 : Sort() metodunu kullanmadan; karışık sayıların olduğu bir listedeki elemanları, yine aynı liste içerisinde büyükten küçüğe sıralayan bir kod yazalım.**"
   ]
  },
  {
   "cell_type": "code",
   "execution_count": 5,
   "id": "d08b141c",
   "metadata": {
    "scrolled": true
   },
   "outputs": [
    {
     "name": "stdout",
     "output_type": "stream",
     "text": [
      "[89, 76, 60, 45, 23, 21, 11, 9, 4]\n"
     ]
    }
   ],
   "source": [
    "number_list = [11,23,45,21,76,9,4,89,60]\n",
    "\n",
    "new_list = []\n",
    "\n",
    "for i in range(len(number_list)):\n",
    "    i = max(number_list)\n",
    "    new_list.append(i)\n",
    "    number_list.remove(i)\n",
    "        \n",
    "       \n",
    "\n",
    "print(new_list)"
   ]
  },
  {
   "cell_type": "markdown",
   "id": "df60dfe8",
   "metadata": {},
   "source": [
    "**Task 5 : Girilen sayıya kadar olan Fibonacci sayılarını bulan bir kod yazınız**\n",
    "- 0, 1, 1, 2, 3, 5, 8, 13, 21, 34, ..."
   ]
  },
  {
   "cell_type": "code",
   "execution_count": 6,
   "id": "328fdea7",
   "metadata": {},
   "outputs": [],
   "source": [
    "def fibonacci(num):\n",
    "    terim_say = num\n",
    "    # first two terms\n",
    "    n1, n2 = 0, 1\n",
    "    count = 0\n",
    "    flist =[]\n",
    "    while count < terim_say:\n",
    "        flist.append(n1)\n",
    "        nth = n1 + n2\n",
    "       # update values\n",
    "        n1 = n2\n",
    "        n2 = nth\n",
    "        count += 1\n",
    "        if n1 > num:\n",
    "            break\n",
    "    return flist"
   ]
  },
  {
   "cell_type": "code",
   "execution_count": 7,
   "id": "17fe9efd",
   "metadata": {},
   "outputs": [
    {
     "data": {
      "text/plain": [
       "[0, 1, 1, 2, 3, 5, 8, 13, 21, 34, 55, 89, 144]"
      ]
     },
     "execution_count": 7,
     "metadata": {},
     "output_type": "execute_result"
    }
   ],
   "source": [
    "fibonacci(150)"
   ]
  },
  {
   "cell_type": "markdown",
   "id": "7ace470c",
   "metadata": {},
   "source": [
    "**Task 6 : Kullanıcı tarafından girilen bir sayının basamaklarının sayı adlarını görüntüleyen bir program yazın**\n",
    "\n",
    "**Örneğin sayı 231 ise çıktısı İki Üç Bir olmalıdır.**"
   ]
  },
  {
   "cell_type": "code",
   "execution_count": 8,
   "id": "b369dda3",
   "metadata": {},
   "outputs": [
    {
     "name": "stdout",
     "output_type": "stream",
     "text": [
      "9899999\n",
      "Dokuz Sekiz Dokuz Dokuz Dokuz Dokuz Dokuz "
     ]
    }
   ],
   "source": [
    "basamak = [\"Sıfır\",\"Bir\",\"İki\",\"Üç\",\"Dört\",\"Beş\",\"Altı\",\"Yedi\",\"Sekiz\",\"Dokuz\"]\n",
    "rakam = [\"0\",\"1\",\"2\",\"3\",\"4\",\"5\",\"6\",\"7\",\"8\",\"9\"]\n",
    "basamak_adları = dict(zip(rakam, basamak))\n",
    "\n",
    "sayı = int(input())\n",
    "\n",
    "str_sayı = str(sayı)\n",
    "list_sayı = list(str_sayı)\n",
    "\n",
    "for j in list_sayı:\n",
    "    print(basamak_adları[j], end = \" \")"
   ]
  },
  {
   "cell_type": "code",
   "execution_count": null,
   "id": "d4556692",
   "metadata": {},
   "outputs": [],
   "source": [
    "list(str_sayı)"
   ]
  },
  {
   "cell_type": "markdown",
   "id": "93b802aa",
   "metadata": {},
   "source": [
    "**Task 7 :  İşverenimiz bizden, kullanıcı tarafından girilen bir metni şifreleyen bir program istedi. İstenen şartlar şunlar:**\n",
    "\n",
    "**Girilen Türkçe metinlerde her harf alfabetik sıraya göre kendisinden iki sonraki harfe dönüştürülecek. (Örneğin 'a' harfi 'c', 'z' harfi 'b' olacak)**\n",
    "\n",
    "**Girilen metinde harf dışında bir karakter varsa 'Lütfen Sadece Harflerden Oluşan Bir Metin Giriniz!' uyarısından sonra tekrar input istenecek.**\n",
    "\n",
    "**Büyük harfler büyük, küçük harfler küçük harf olarak dönüştürülecek.**\n",
    "\n",
    "**Boşluklar boşluk olarak korunacak.**"
   ]
  },
  {
   "cell_type": "code",
   "execution_count": null,
   "id": "ac392e45",
   "metadata": {},
   "outputs": [],
   "source": [
    "alfabe = ['a', 'b', 'c', 'ç','d', 'e', 'f', 'g','ğ', 'h','ı', 'i', 'j', 'k', 'l',\\\n",
    " 'm', 'n', 'o', 'ö','p', 'r', 's','ş', 't', 'u', 'ü','v', 'y', 'z',\\\n",
    " 'A', 'B', 'C', 'Ç','D', 'E', 'F', 'G', 'Ğ', 'H', 'I', 'İ', 'J', 'K', 'L',\\\n",
    " 'M', 'N', 'O', 'Ö','P', 'R', 'S','Ş', 'T', 'U', 'Ü','V','Y', 'Z']\n",
    "\n",
    "convert_alf = ['c', 'ç','d', 'e', 'f', 'g','ğ', 'h','ı', 'i', 'j', 'k', 'l',\\\n",
    " 'm', 'n', 'o', 'ö','p', 'r', 's','ş', 't', 'u', 'ü','v', 'y', 'z', 'a', 'b', \\\n",
    " 'C', 'Ç','D', 'E', 'F', 'G', 'Ğ', 'H', 'I', 'İ', 'J', 'K', 'L',\\\n",
    " 'M', 'N', 'O', 'Ö','P', 'R', 'S','Ş', 'T', 'U', 'Ü','V','Y', 'Z','A', 'B']\n",
    "\n",
    "dict_alf = dict(zip(alfabe,convert_alf))\n",
    "\n",
    "metin = input(\"Bir metin giriniz:  \")\n",
    "\n",
    "while True:\n",
    "    \n",
    "    for i in metin:\n",
    "        \n",
    "        if i not in dict_alf.keys():\n",
    "            print(\"Lütfen Sadece Harflerden Oluşan Bir Metin Giriniz!\")\n",
    "            metin = input(\"Bir metin giriniz:  \")\n",
    "        \n",
    "            \n",
    "    else:\n",
    "        for i in metin:\n",
    "            for j in dict_alf.values():\n",
    "            \n",
    "                if j in dict_alf.values():\n",
    "              \n",
    "                    dict_alf[i] = j\n",
    "                    print(i, end= \"\")\n",
    "                    break          \n",
    "                \n",
    "                    \n",
    "                \n",
    "                else:\n",
    "                    i = i\n",
    "                    print(i, end= \"\")\n",
    "                    break\n",
    "\n"
   ]
  },
  {
   "cell_type": "code",
   "execution_count": 25,
   "id": "2e579ff6",
   "metadata": {},
   "outputs": [
    {
     "name": "stdout",
     "output_type": "stream",
     "text": [
      "üüüüü"
     ]
    }
   ],
   "source": [
    "for i in \"cihat\":\n",
    "    for j in \"dkicü\":\n",
    "              \n",
    "        j\n",
    "    print(j, end= \"\")"
   ]
  },
  {
   "cell_type": "markdown",
   "id": "5c43bfb6",
   "metadata": {},
   "source": [
    "**Task 8: Bir palindromik sayı sağdan ve soldan her iki şekilde de aynı okunur.** \n",
    "\n",
    "**İki basamaklı iki sayının çarpımından yapılan en büyük palindrom 9009 = 91 × 99'dur.** \n",
    "\n",
    "**İki 3 basamaklı sayının çarpımından yapılmış en büyük palindromu bulun. (edited)** "
   ]
  },
  {
   "cell_type": "code",
   "execution_count": 9,
   "id": "c37681df",
   "metadata": {},
   "outputs": [],
   "source": [
    "def en_büyük_pal(x,y):\n",
    "    çarpım = x*y\n",
    "    sonuç = list(range(10000,çarpım+1)) # 3 basamaklı en küçük iki sayının çarpımını range in başlangıcına alıyoruz\n",
    "    pal_list = []\n",
    "    for i in sonuç:\n",
    "        i = str(i)\n",
    "        if i == i[::-1]:\n",
    "            i = int(i)\n",
    "            pal_list.append(i)\n",
    "    return max(pal_list)"
   ]
  },
  {
   "cell_type": "code",
   "execution_count": 10,
   "id": "be042adc",
   "metadata": {},
   "outputs": [
    {
     "data": {
      "text/plain": [
       "997799"
      ]
     },
     "execution_count": 10,
     "metadata": {},
     "output_type": "execute_result"
    }
   ],
   "source": [
    "en_büyük_pal(999,999)"
   ]
  },
  {
   "cell_type": "markdown",
   "id": "f9544cdd",
   "metadata": {},
   "source": [
    "**Task 9 : Sayılar teorisinde, aritmetik sayı, pozitif bölenlerinin ortalaması da bir tam sayı olan bir tam sayıdır.**\n",
    "\n",
    "**Başka bir deyişle, bölenlerin sayısı bölenlerin toplamını bölüyorsa, n sayısı aritmetiktir.**\n",
    "\n",
    "**Pozitif bir n tamsayısı verildiğinde; n'nin Aritmetik sayı olup olmadığını kontrol eden bir program yazınız.**\n",
    "\n",
    "**Input : n = 6**\n",
    "**Output : Yes 6 is an arithmetic number.**\n",
    "\n",
    "**(Sum of divisor of 6 --> 1 + 2 + 3 + 6 = 12. Number of divisor of 6 is 4. 12/4 = 3. 3 is an integer, so 6 is an arithmetic number**\n"
   ]
  },
  {
   "cell_type": "code",
   "execution_count": 14,
   "id": "5297ab8b",
   "metadata": {},
   "outputs": [
    {
     "name": "stdout",
     "output_type": "stream",
     "text": [
      "Bir sayı giriniz:  10000\n",
      "10000 sayısı aritmetik bir sayı değildir.\n"
     ]
    }
   ],
   "source": [
    "sayı = int(input(\"Bir sayı giriniz:  \"))\n",
    "sayı_aralık = list(range(1,sayı+1))\n",
    "bölen_list = []\n",
    "for i in sayı_aralık:\n",
    "    \n",
    "    if sayı % i == 0:\n",
    "        bölen_list.append(i)\n",
    "count = len(bölen_list)\n",
    "toplam = sum(bölen_list)\n",
    "        \n",
    "sonuç = toplam / count\n",
    "if sonuç in bölen_list:\n",
    "    print(f\"{sayı} sayısı aritmetik bir sayıdır.\")\n",
    "else:\n",
    "    print(f\"{sayı} sayısı aritmetik bir sayı değildir.\")"
   ]
  },
  {
   "cell_type": "markdown",
   "id": "68063356",
   "metadata": {},
   "source": [
    "**Task 10: Write a function for Sum of squares of first n natural numbers.**\n",
    "\n",
    "**Kullanıcıdan n sayısını alın ve n dahil n'e kadar olan tüm doğal sayıların karelerinin\n",
    "toplamını veren bir fonksiyon yazın**"
   ]
  },
  {
   "cell_type": "code",
   "execution_count": 15,
   "id": "181a7aaa",
   "metadata": {},
   "outputs": [],
   "source": [
    "def square_of_n():\n",
    "    n = int(input(\"Bir sayı giriniz: \"))\n",
    "    list_n = list(range(0,n+1))\n",
    "    sum_of_n = []\n",
    "    for i in list_n:\n",
    "        sum_of_n.append(i**2)\n",
    "    return sum(sum_of_n)\n"
   ]
  },
  {
   "cell_type": "code",
   "execution_count": 16,
   "id": "5cd148b7",
   "metadata": {},
   "outputs": [
    {
     "name": "stdout",
     "output_type": "stream",
     "text": [
      "Bir sayı giriniz: 10\n"
     ]
    },
    {
     "data": {
      "text/plain": [
       "385"
      ]
     },
     "execution_count": 16,
     "metadata": {},
     "output_type": "execute_result"
    }
   ],
   "source": [
    "square_of_n()"
   ]
  },
  {
   "cell_type": "markdown",
   "id": "6f5e4655",
   "metadata": {},
   "source": [
    "**Task 11 : 100 tane kapı var. Bu kapılar 1'den 100'e kadar numaralandırılmış ve kapıların hepsi kilitli.**\n",
    "\n",
    "**Elimizde 1'den 20'ye kadar numaralandırılmış 20 tane anahtar var. Bir kapının numarası bir \n",
    "anahtarın numarasına tam bölünüyorsa o anahtar o kapıyı açabiliyor (ya da kilitleyebiliyor!)** \n",
    "\n",
    "**1 numaralı anahtardan başlayarak her anahtar için kapıları dolaşılıyor. Anahtar ile kapı açılıyor\n",
    "ya da kilitleniyor. Yani kapı açıksa kilitleniyor kapı kilitli ise kapı açılıyor.**\n",
    "\n",
    "**1 : 20. turdan sonra, yani son anahtarın kullanılmasından sonra açık olan kapıların numaralarını ekrana yazdırın**\n",
    "\n",
    "**2 : Hangi kapılar açık hangi kapılar kilitlidir?**"
   ]
  },
  {
   "cell_type": "code",
   "execution_count": 119,
   "id": "6ec8d5d3",
   "metadata": {},
   "outputs": [
    {
     "name": "stdout",
     "output_type": "stream",
     "text": [
      "[1, 4, 9, 16, 21, 22, 23, 24, 26, 27, 28, 29, 30, 31, 32, 33, 34, 35, 37, 38, 39, 40, 41, 43, 45, 47, 51, 53, 55, 57, 59, 61, 64, 65, 66, 67, 71, 72, 73, 77, 78, 79, 81, 83, 85, 88, 89, 90, 91, 92, 95, 97]\n",
      "\n",
      "[2, 3, 5, 6, 7, 8, 10, 11, 12, 13, 14, 15, 17, 18, 19, 20, 25, 36, 42, 44, 46, 48, 49, 50, 52, 54, 56, 58, 60, 62, 63, 68, 69, 70, 74, 75, 76, 80, 82, 84, 86, 87, 93, 94, 96, 98, 99, 100]\n"
     ]
    }
   ],
   "source": [
    "import numpy as np\n",
    "\n",
    "kapı = list(range(1,101))\n",
    "anahtar = list(range(1,21))\n",
    "işlem_kapı = []\n",
    "for i in kapı:\n",
    "    for j in anahtar:\n",
    "        if i % j == 0:\n",
    "            işlem_kapı.append(i)\n",
    "\n",
    "values, counts = np.unique(işlem_kapı, return_counts=True) \n",
    "açık_kapı = []\n",
    "kapalı_kapı = []\n",
    "res = dict(zip(values, counts))\n",
    "for i,j in res.items():\n",
    "    if j%2 == 0:\n",
    "        kapalı_kapı.append(i)\n",
    "    else: \n",
    "        açık_kapı.append(i)\n",
    "print(açık_kapı)\n",
    "print()\n",
    "print(kapalı_kapı)"
   ]
  },
  {
   "cell_type": "code",
   "execution_count": null,
   "id": "1fed7321",
   "metadata": {},
   "outputs": [],
   "source": []
  }
 ],
 "metadata": {
  "kernelspec": {
   "display_name": "Python 3",
   "language": "python",
   "name": "python3"
  },
  "language_info": {
   "codemirror_mode": {
    "name": "ipython",
    "version": 3
   },
   "file_extension": ".py",
   "mimetype": "text/x-python",
   "name": "python",
   "nbconvert_exporter": "python",
   "pygments_lexer": "ipython3",
   "version": "3.8.8"
  }
 },
 "nbformat": 4,
 "nbformat_minor": 5
}
