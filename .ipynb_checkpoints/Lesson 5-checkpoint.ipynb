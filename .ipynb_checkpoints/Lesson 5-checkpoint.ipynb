{
 "cells": [
  {
   "cell_type": "markdown",
   "id": "97d2a08c",
   "metadata": {},
   "source": [
    "<a id=\"toc\"></a>\n",
    "\n",
    "## <p style=\"background-color:#0D8D99; font-family:newtimeroman; color:#FFF9ED; font-size:175%; text-align:center; border-radius:10px 10px;\">Python Session-5 & 6 (12 & 17 Oct 2022)</p>"
   ]
  },
  {
   "cell_type": "markdown",
   "id": "770163b8",
   "metadata": {},
   "source": [
    "#### <div class=\"alert alert-block alert-info\"><h1><p style=\"text-align: center; color:purple\">String Formatting with string.format() Method<br><br>String Formatting with f-string Method<br><br>Immutability<br><br>Searching & Changing & Editing a String<br><br>Collection Types (List & Creating a List)</p>"
   ]
  },
  {
   "cell_type": "markdown",
   "id": "a7d7cb0c",
   "metadata": {},
   "source": [
    "<a id=\"toc\"></a>\n",
    "\n",
    "## <p style=\"background-color:#9d4f8c; font-family:newtimeroman; color:#FFF9ED; font-size:175%; text-align:center; border-radius:10px 10px;\">String Formatting with string.format() Method</p>"
   ]
  },
  {
   "cell_type": "markdown",
   "id": "b821575b",
   "metadata": {},
   "source": [
    "**Python documentation link - String Formatting: https://docs.python.org/3/library/string.html#custom-string-formatting**\n",
    "\n",
    "**Link 2: https://www.w3schools.com/python/ref_string_format.asp**\n",
    "\n",
    "**Link 3: https://www.geeksforgeeks.org/string-formatting-in-python/**"
   ]
  },
  {
   "cell_type": "code",
   "execution_count": 1,
   "id": "df7f7475",
   "metadata": {},
   "outputs": [
    {
     "data": {
      "text/plain": [
       "'metodlar'"
      ]
     },
     "execution_count": 1,
     "metadata": {},
     "output_type": "execute_result"
    }
   ],
   "source": [
    "\"metodlar\".format()"
   ]
  },
  {
   "cell_type": "code",
   "execution_count": 2,
   "id": "82e8f0f1",
   "metadata": {},
   "outputs": [],
   "source": [
    "saat = \"05:00\"\n",
    "yer = \"okul\"\n",
    "miktar = 3"
   ]
  },
  {
   "cell_type": "code",
   "execution_count": 3,
   "id": "6567d751",
   "metadata": {},
   "outputs": [
    {
     "data": {
      "text/plain": [
       "\"Ben sabah 05:00 de uyandım. okul'gittim. Gelirken de 3 kg. elma aldım.\""
      ]
     },
     "execution_count": 3,
     "metadata": {},
     "output_type": "execute_result"
    }
   ],
   "source": [
    "\"Ben sabah {} de uyandım. {}'gittim. Gelirken de {} kg. elma aldım.\".format(saat, yer, miktar)"
   ]
  },
  {
   "cell_type": "code",
   "execution_count": 4,
   "id": "5b80a631",
   "metadata": {},
   "outputs": [
    {
     "data": {
      "text/plain": [
       "\"Ben sabah 05:00 de uyandım. okul'gittim. Gelirken de 3 kg. elma aldım.\""
      ]
     },
     "execution_count": 4,
     "metadata": {},
     "output_type": "execute_result"
    }
   ],
   "source": [
    "\"Ben sabah {} de uyandım. {}'gittim. Gelirken de {} kg. elma aldım.\".format(\"05:00\", \"okul\", 3)"
   ]
  },
  {
   "cell_type": "code",
   "execution_count": 5,
   "id": "357d5a02",
   "metadata": {},
   "outputs": [
    {
     "data": {
      "text/plain": [
       "\"Ben sabah 06:30 de uyandım. kütüphane'gittim. Gelirken de 2 kg. elma aldım.\""
      ]
     },
     "execution_count": 5,
     "metadata": {},
     "output_type": "execute_result"
    }
   ],
   "source": [
    "\"Ben sabah {saat} de uyandım. {yer}'gittim. Gelirken de {miktar} kg. elma aldım.\".format(yer = \"kütüphane\", miktar = 2, saat = \"06:30\")"
   ]
  },
  {
   "cell_type": "code",
   "execution_count": 6,
   "id": "d9e71cb7",
   "metadata": {},
   "outputs": [
    {
     "data": {
      "text/plain": [
       "\"Ben sabah 06:30 de uyandım. kütüphane'gittim. Gelirken de 2 kg. elma aldım.\""
      ]
     },
     "execution_count": 6,
     "metadata": {},
     "output_type": "execute_result"
    }
   ],
   "source": [
    "\"Ben sabah {saat} de uyandım. {yer}'gittim. Gelirken de {miktar} kg. elma aldım.\".format(saat = \"06:30\", miktar = 2, yer = \"kütüphane\")"
   ]
  },
  {
   "cell_type": "code",
   "execution_count": 7,
   "id": "8411eb5e",
   "metadata": {},
   "outputs": [
    {
     "data": {
      "text/plain": [
       "\"Ben sabah 05:00 de uyandım. okul'gittim. Gelirken de 3 kg. elma aldım.\""
      ]
     },
     "execution_count": 7,
     "metadata": {},
     "output_type": "execute_result"
    }
   ],
   "source": [
    "\"Ben sabah {1} de uyandım. {0}'gittim. Gelirken de {2} kg. elma aldım.\".format(\"okul\", \"05:00\", 3)"
   ]
  },
  {
   "cell_type": "code",
   "execution_count": 8,
   "id": "1b579553",
   "metadata": {},
   "outputs": [
    {
     "data": {
      "text/plain": [
       "'Benim güzel öğrencilerimin maşallahı var mı acaba?'"
      ]
     },
     "execution_count": 8,
     "metadata": {},
     "output_type": "execute_result"
    }
   ],
   "source": [
    "\"Benim {} öğrencilerimin maşallahı var {}\".format(\"güzel\", \"mı acaba?\")"
   ]
  },
  {
   "cell_type": "code",
   "execution_count": 9,
   "id": "b0d0b34a",
   "metadata": {},
   "outputs": [
    {
     "data": {
      "text/plain": [
       "'Benim güzel öğrencilerimin maşallahı var mı acaba?'"
      ]
     },
     "execution_count": 9,
     "metadata": {},
     "output_type": "execute_result"
    }
   ],
   "source": [
    "x = \"güzel\"\n",
    "y = \"mı acaba?\"\n",
    "\n",
    "\"Benim {} öğrencilerimin maşallahı var {}\".format(x, y)"
   ]
  },
  {
   "cell_type": "code",
   "execution_count": 10,
   "id": "d11c358d",
   "metadata": {},
   "outputs": [],
   "source": [
    "stringim = \"Benim {} öğrencilerimin maşallahı var {}\""
   ]
  },
  {
   "cell_type": "code",
   "execution_count": 11,
   "id": "36b850db",
   "metadata": {},
   "outputs": [
    {
     "data": {
      "text/plain": [
       "'Benim güzel öğrencilerimin maşallahı var mı acaba?'"
      ]
     },
     "execution_count": 11,
     "metadata": {},
     "output_type": "execute_result"
    }
   ],
   "source": [
    "stringim.format(x, y)"
   ]
  },
  {
   "cell_type": "code",
   "execution_count": 12,
   "id": "199590f5",
   "metadata": {},
   "outputs": [
    {
     "ename": "SyntaxError",
     "evalue": "invalid syntax (3607389196.py, line 1)",
     "output_type": "error",
     "traceback": [
      "\u001b[1;36m  Cell \u001b[1;32mIn[12], line 1\u001b[1;36m\u001b[0m\n\u001b[1;33m    \"abc\".\u001b[0m\n\u001b[1;37m          ^\u001b[0m\n\u001b[1;31mSyntaxError\u001b[0m\u001b[1;31m:\u001b[0m invalid syntax\n"
     ]
    }
   ],
   "source": [
    "\"abc\"."
   ]
  },
  {
   "cell_type": "code",
   "execution_count": 13,
   "id": "41c4d5df",
   "metadata": {},
   "outputs": [
    {
     "ename": "SyntaxError",
     "evalue": "invalid syntax (38267837.py, line 1)",
     "output_type": "error",
     "traceback": [
      "\u001b[1;36m  Cell \u001b[1;32mIn[13], line 1\u001b[1;36m\u001b[0m\n\u001b[1;33m    [\"abc\", 5].\u001b[0m\n\u001b[1;37m               ^\u001b[0m\n\u001b[1;31mSyntaxError\u001b[0m\u001b[1;31m:\u001b[0m invalid syntax\n"
     ]
    }
   ],
   "source": [
    "[\"abc\", 5]."
   ]
  },
  {
   "cell_type": "code",
   "execution_count": 14,
   "id": "3ba9a62c",
   "metadata": {},
   "outputs": [
    {
     "name": "stdout",
     "output_type": "stream",
     "text": [
      "Generosity wins in all circumstances\n"
     ]
    }
   ],
   "source": [
    "phrase = \"{morality} {1} {0} {condition}\".format(\"in all\", \"wins\", morality = \"Generosity\", condition = \"circumstances\")\n",
    "\n",
    "print(phrase)"
   ]
  },
  {
   "cell_type": "code",
   "execution_count": 15,
   "id": "2e6693b1",
   "metadata": {},
   "outputs": [
    {
     "ename": "SyntaxError",
     "evalue": "positional argument follows keyword argument (12200751.py, line 1)",
     "output_type": "error",
     "traceback": [
      "\u001b[1;36m  Cell \u001b[1;32mIn[15], line 1\u001b[1;36m\u001b[0m\n\u001b[1;33m    phrase = \"{moral} {1} {0} {cond}\".format(moral =  \"Generosity\", cond =  \"circumstances\", \"in all\", \"wins\",)\u001b[0m\n\u001b[1;37m                                                                                                              ^\u001b[0m\n\u001b[1;31mSyntaxError\u001b[0m\u001b[1;31m:\u001b[0m positional argument follows keyword argument\n"
     ]
    }
   ],
   "source": [
    "phrase = \"{moral} {1} {0} {cond}\".format(moral =  \"Generosity\", cond =  \"circumstances\", \"in all\", \"wins\",)\n",
    "\n",
    "print(phrase)\n",
    "\n",
    "# hata koduna dikkat!! (positional argument follows keyword argument)"
   ]
  },
  {
   "cell_type": "code",
   "execution_count": 16,
   "id": "204fa86f",
   "metadata": {},
   "outputs": [
    {
     "name": "stdout",
     "output_type": "stream",
     "text": [
      "The sum of 3 + 7 is = 10\n"
     ]
    }
   ],
   "source": [
    "a = 3\n",
    "b = 7\n",
    "\n",
    "print(\"The sum of {} + {} is = {}\".format(a, b, a + b))"
   ]
  },
  {
   "cell_type": "code",
   "execution_count": 17,
   "id": "b9f5c06e",
   "metadata": {},
   "outputs": [
    {
     "name": "stdout",
     "output_type": "stream",
     "text": [
      "The sum of 3 * 7 is = 21\n"
     ]
    }
   ],
   "source": [
    "a = 3\n",
    "b = 7\n",
    "\n",
    "print(\"The sum of {} * {} is = {}\".format(a, b, a * b))"
   ]
  },
  {
   "cell_type": "code",
   "execution_count": 18,
   "id": "f480705f",
   "metadata": {},
   "outputs": [
    {
     "name": "stdout",
     "output_type": "stream",
     "text": [
      "The sum of 2 ** 3 is = 8\n"
     ]
    }
   ],
   "source": [
    "a = 2\n",
    "b = 3\n",
    "\n",
    "print(\"The sum of {} ** {} is = {}\".format(a, b, a ** b))"
   ]
  },
  {
   "cell_type": "markdown",
   "id": "59607ecb",
   "metadata": {},
   "source": [
    "<a id=\"toc\"></a>\n",
    "\n",
    "## <p style=\"background-color:#9d4f8c; font-family:newtimeroman; color:#FFF9ED; font-size:175%; text-align:center; border-radius:10px 10px;\">String Formatting with f-string Method</p>"
   ]
  },
  {
   "cell_type": "markdown",
   "id": "3020fae3",
   "metadata": {},
   "source": [
    "**Link 1 - F string formatting: https://networklessons.com/python/python-f-string-formatting**"
   ]
  },
  {
   "cell_type": "code",
   "execution_count": 19,
   "id": "9f64b5cb",
   "metadata": {},
   "outputs": [
    {
     "name": "stdout",
     "output_type": "stream",
     "text": [
      "Mariam\n"
     ]
    }
   ],
   "source": [
    "my_name = \"mariam\"\n",
    "\n",
    "my_name = my_name.capitalize()\n",
    "\n",
    "print(my_name)"
   ]
  },
  {
   "cell_type": "code",
   "execution_count": 20,
   "id": "7b5d3db0",
   "metadata": {},
   "outputs": [
    {
     "name": "stdout",
     "output_type": "stream",
     "text": [
      "My name is Mariam\n"
     ]
    }
   ],
   "source": [
    "output = f\"My name is {my_name}\"\n",
    "print(output)"
   ]
  },
  {
   "cell_type": "code",
   "execution_count": 21,
   "id": "accffc8f",
   "metadata": {},
   "outputs": [
    {
     "name": "stdout",
     "output_type": "stream",
     "text": [
      "My name is MARIAM\n"
     ]
    }
   ],
   "source": [
    "print(f\"My name is {my_name.upper()}\")"
   ]
  },
  {
   "cell_type": "code",
   "execution_count": 22,
   "id": "d09ebb7e",
   "metadata": {},
   "outputs": [
    {
     "data": {
      "text/plain": [
       "'Hi Edwin. Are you ill?'"
      ]
     },
     "execution_count": 22,
     "metadata": {},
     "output_type": "execute_result"
    }
   ],
   "source": [
    "name = \"Edwin\"\n",
    "status = \"ill\"\n",
    "\n",
    "message = f\"Hi {name}. Are you {status}?\"\n",
    "message"
   ]
  },
  {
   "cell_type": "code",
   "execution_count": 23,
   "id": "10b0704b",
   "metadata": {},
   "outputs": [
    {
     "data": {
      "text/plain": [
       "'hiEdwin. Are youill?'"
      ]
     },
     "execution_count": 23,
     "metadata": {},
     "output_type": "execute_result"
    }
   ],
   "source": [
    "message = f\"hi\\\n",
    "{name}. \\\n",
    "Are you\\\n",
    "{status}?\"\n",
    "\n",
    "message"
   ]
  },
  {
   "cell_type": "code",
   "execution_count": 24,
   "id": "5c1dda3b",
   "metadata": {},
   "outputs": [
    {
     "name": "stdout",
     "output_type": "stream",
     "text": [
      "Hi Edwin. Are you ill?\n"
     ]
    }
   ],
   "source": [
    "message = (\n",
    "    f\"Hi {name}. \"\n",
    "    f\"Are you {status}?\"\n",
    ")\n",
    "\n",
    "print(message)"
   ]
  },
  {
   "cell_type": "markdown",
   "id": "3321670c",
   "metadata": {},
   "source": [
    "<a id=\"toc\"></a>\n",
    "\n",
    "## <p style=\"background-color:#9d4f8c; font-family:newtimeroman; color:#FFF9ED; font-size:175%; text-align:center; border-radius:10px 10px;\">Immutability</p>\n",
    "Python'da immutability, bazı nesnelerin oluşturulduktan sonra değiştirilememesi anlamına gelir ve bu, yazılım geliştirme sürecinde hem avantajlar hem de dezavantajlar sunar. Immutable nesneler güvenli, hata ayıklaması kolay ve optimize edilebilirken, mutable nesneler esneklik ve doğrudan değişiklik yapma yeteneği sağlar."
   ]
  },
  {
   "cell_type": "markdown",
   "id": "4f15d559",
   "metadata": {},
   "source": [
    "**Python documentation link - Immutable Objects: https://docs.python.org/3/reference/datamodel.html**\n",
    "\n",
    "**Link 2 - Mutable-immutable objects: https://towardsdatascience.com/https-towardsdatascience-com-python-basics-mutable-vs-immutable-objects-829a0cb1530a**"
   ]
  },
  {
   "cell_type": "code",
   "execution_count": 29,
   "id": "87b3ae72",
   "metadata": {},
   "outputs": [],
   "source": [
    "isim = \"ALİ veli\""
   ]
  },
  {
   "cell_type": "code",
   "execution_count": 30,
   "id": "013717b0",
   "metadata": {},
   "outputs": [
    {
     "data": {
      "text/plain": [
       "'ali̇ VELI'"
      ]
     },
     "execution_count": 30,
     "metadata": {},
     "output_type": "execute_result"
    }
   ],
   "source": [
    "isim.swapcase()"
   ]
  },
  {
   "cell_type": "code",
   "execution_count": 31,
   "id": "7d75c756",
   "metadata": {},
   "outputs": [
    {
     "name": "stdout",
     "output_type": "stream",
     "text": [
      "ALİ veli\n"
     ]
    }
   ],
   "source": [
    "print(isim)"
   ]
  },
  {
   "cell_type": "code",
   "execution_count": 32,
   "id": "9bb436af",
   "metadata": {},
   "outputs": [],
   "source": [
    "soyisim = \"Davis\""
   ]
  },
  {
   "cell_type": "code",
   "execution_count": 33,
   "id": "26bf7cd7",
   "metadata": {},
   "outputs": [
    {
     "data": {
      "text/plain": [
       "'dAVIS'"
      ]
     },
     "execution_count": 33,
     "metadata": {},
     "output_type": "execute_result"
    }
   ],
   "source": [
    "soy = soyisim.swapcase()\n",
    "\n",
    "soy"
   ]
  },
  {
   "cell_type": "code",
   "execution_count": 34,
   "id": "5aa08958",
   "metadata": {},
   "outputs": [
    {
     "data": {
      "text/plain": [
       "True"
      ]
     },
     "execution_count": 34,
     "metadata": {},
     "output_type": "execute_result"
    }
   ],
   "source": [
    "email = \"clarusway@clarusway.com is my e-mail address\" \n",
    "email.startswith(\"@\", 9)\n",
    "\n",
    "# sadece stringin 9. indeksine bak. orada belirtilen karakter var mı?"
   ]
  },
  {
   "cell_type": "code",
   "execution_count": 35,
   "id": "1697d3f1",
   "metadata": {},
   "outputs": [
    {
     "data": {
      "text/plain": [
       "True"
      ]
     },
     "execution_count": 35,
     "metadata": {},
     "output_type": "execute_result"
    }
   ],
   "source": [
    "email.endswith(\"-\", 10, 32)\n",
    "\n",
    "# stringin içinde 10. indeks ile başlayan 32. indekse kadar olan bölümde endswith'i uyguladık. \n",
    "# stringin bu bölümünün sonunda \"-\" karakteri var mı?"
   ]
  },
  {
   "cell_type": "markdown",
   "id": "94db6962",
   "metadata": {},
   "source": [
    "<a id=\"toc\"></a>\n",
    "\n",
    "## <p style=\"background-color:#9d4f8c; font-family:newtimeroman; color:#FFF9ED; font-size:175%; text-align:center; border-radius:10px 10px;\">Searching & Changing & Editing a String</p>"
   ]
  },
  {
   "cell_type": "markdown",
   "id": "60547207",
   "metadata": {},
   "source": [
    "**Python documentation link - Strings: https://docs.python.org/3/tutorial/introduction.html#strings**"
   ]
  },
  {
   "cell_type": "code",
   "execution_count": 36,
   "id": "a964a0c4",
   "metadata": {},
   "outputs": [],
   "source": [
    "text = \"Clarusway\""
   ]
  },
  {
   "cell_type": "code",
   "execution_count": 37,
   "id": "ae65d9fc",
   "metadata": {},
   "outputs": [
    {
     "data": {
      "text/plain": [
       "'clarusway'"
      ]
     },
     "execution_count": 37,
     "metadata": {},
     "output_type": "execute_result"
    }
   ],
   "source": [
    "text.replace(\"C\", \"c\")"
   ]
  },
  {
   "cell_type": "code",
   "execution_count": 38,
   "id": "d540c05e",
   "metadata": {},
   "outputs": [
    {
     "data": {
      "text/plain": [
       "'Clarusway'"
      ]
     },
     "execution_count": 38,
     "metadata": {},
     "output_type": "execute_result"
    }
   ],
   "source": [
    "text"
   ]
  },
  {
   "cell_type": "code",
   "execution_count": 39,
   "id": "846b182e",
   "metadata": {},
   "outputs": [
    {
     "data": {
      "text/plain": [
       "'Cl*rusw*y'"
      ]
     },
     "execution_count": 39,
     "metadata": {},
     "output_type": "execute_result"
    }
   ],
   "source": [
    "text.replace(\"a\", \"*\")"
   ]
  },
  {
   "cell_type": "code",
   "execution_count": 40,
   "id": "7e221f21",
   "metadata": {},
   "outputs": [
    {
     "data": {
      "text/plain": [
       "str"
      ]
     },
     "execution_count": 40,
     "metadata": {},
     "output_type": "execute_result"
    }
   ],
   "source": [
    "type(text.replace(\"a\", \"*\"))"
   ]
  },
  {
   "cell_type": "code",
   "execution_count": 41,
   "id": "78f8325d",
   "metadata": {},
   "outputs": [
    {
     "data": {
      "text/plain": [
       "'Clarusway'"
      ]
     },
     "execution_count": 41,
     "metadata": {},
     "output_type": "execute_result"
    }
   ],
   "source": [
    "text"
   ]
  },
  {
   "cell_type": "code",
   "execution_count": 42,
   "id": "a8b04b3f",
   "metadata": {},
   "outputs": [
    {
     "data": {
      "text/plain": [
       "'CL--RUW--Y'"
      ]
     },
     "execution_count": 42,
     "metadata": {},
     "output_type": "execute_result"
    }
   ],
   "source": [
    "text.replace(\"a\", \"--\").replace(\"s\", \"\").upper()"
   ]
  },
  {
   "cell_type": "code",
   "execution_count": 43,
   "id": "815199e0",
   "metadata": {},
   "outputs": [],
   "source": [
    "a = \"clarusway\""
   ]
  },
  {
   "cell_type": "code",
   "execution_count": 44,
   "id": "d4846ef0",
   "metadata": {},
   "outputs": [
    {
     "data": {
      "text/plain": [
       "'clurusway'"
      ]
     },
     "execution_count": 44,
     "metadata": {},
     "output_type": "execute_result"
    }
   ],
   "source": [
    "a.replace(\"a\", \"u\", 1)"
   ]
  },
  {
   "cell_type": "code",
   "execution_count": 45,
   "id": "2efd2098",
   "metadata": {},
   "outputs": [
    {
     "data": {
      "text/plain": [
       "'Cihat Tasci̇'"
      ]
     },
     "execution_count": 45,
     "metadata": {},
     "output_type": "execute_result"
    }
   ],
   "source": [
    "\"cihat TASCİ\".title()"
   ]
  },
  {
   "cell_type": "code",
   "execution_count": 46,
   "id": "13b5f85f",
   "metadata": {},
   "outputs": [
    {
     "data": {
      "text/plain": [
       "'Ben Bu Kursta Öğrenci Olmaktan Dolayı Çok Mutluyum. Ben De Edwin Hoca Olarak Sizelere Ders Anlatmaktan Büyük Zevk Duyuyorum'"
      ]
     },
     "execution_count": 46,
     "metadata": {},
     "output_type": "execute_result"
    }
   ],
   "source": [
    "\"ben bu kursta öğrenci olmaktan dolayı \\\n",
    "çok mutluyum. ben de edwin hoca olarak \\\n",
    "sizelere ders anlatmaktan büyük zevk duyuyorum\".title()"
   ]
  },
  {
   "cell_type": "code",
   "execution_count": 47,
   "id": "da6d9594",
   "metadata": {},
   "outputs": [],
   "source": [
    "my_string = \"        listen first         \""
   ]
  },
  {
   "cell_type": "code",
   "execution_count": 48,
   "id": "8d2497bb",
   "metadata": {},
   "outputs": [
    {
     "data": {
      "text/plain": [
       "'listen first'"
      ]
     },
     "execution_count": 48,
     "metadata": {},
     "output_type": "execute_result"
    }
   ],
   "source": [
    "my_string.strip()"
   ]
  },
  {
   "cell_type": "code",
   "execution_count": 49,
   "id": "a50820a6",
   "metadata": {},
   "outputs": [],
   "source": [
    "my_string1 = \"\\n     listen first     \\t\""
   ]
  },
  {
   "cell_type": "code",
   "execution_count": 50,
   "id": "8ee29a2c",
   "metadata": {},
   "outputs": [
    {
     "data": {
      "text/plain": [
       "'\\n     listen first     \\t'"
      ]
     },
     "execution_count": 50,
     "metadata": {},
     "output_type": "execute_result"
    }
   ],
   "source": [
    "my_string1"
   ]
  },
  {
   "cell_type": "code",
   "execution_count": 51,
   "id": "abf27a36",
   "metadata": {},
   "outputs": [
    {
     "name": "stdout",
     "output_type": "stream",
     "text": [
      "\n",
      "     listen first     \t\n"
     ]
    }
   ],
   "source": [
    "print(my_string1)"
   ]
  },
  {
   "cell_type": "code",
   "execution_count": 52,
   "id": "047705fd",
   "metadata": {},
   "outputs": [
    {
     "data": {
      "text/plain": [
       "'listen first'"
      ]
     },
     "execution_count": 52,
     "metadata": {},
     "output_type": "execute_result"
    }
   ],
   "source": [
    "my_string1.strip()"
   ]
  },
  {
   "cell_type": "code",
   "execution_count": 53,
   "id": "549e3295",
   "metadata": {},
   "outputs": [],
   "source": [
    "var = \"\\n\\nahmet\\nmehmet     \""
   ]
  },
  {
   "cell_type": "code",
   "execution_count": 54,
   "id": "73d51451",
   "metadata": {},
   "outputs": [
    {
     "name": "stdout",
     "output_type": "stream",
     "text": [
      "\n",
      "\n",
      "ahmet\n",
      "mehmet     \n"
     ]
    }
   ],
   "source": [
    "print(var)"
   ]
  },
  {
   "cell_type": "code",
   "execution_count": 55,
   "id": "6aa90c6d",
   "metadata": {},
   "outputs": [
    {
     "data": {
      "text/plain": [
       "'ahmet\\nmehmet'"
      ]
     },
     "execution_count": 55,
     "metadata": {},
     "output_type": "execute_result"
    }
   ],
   "source": [
    "var.strip()"
   ]
  },
  {
   "cell_type": "code",
   "execution_count": 56,
   "id": "8da2ba51",
   "metadata": {},
   "outputs": [
    {
     "data": {
      "text/plain": [
       "'clarsway'"
      ]
     },
     "execution_count": 56,
     "metadata": {},
     "output_type": "execute_result"
    }
   ],
   "source": [
    "\"clar   sway\".replace(\" \", \"\")"
   ]
  },
  {
   "cell_type": "code",
   "execution_count": 57,
   "id": "f89ffa57",
   "metadata": {},
   "outputs": [
    {
     "data": {
      "text/plain": [
       "'teroperabilit'"
      ]
     },
     "execution_count": 57,
     "metadata": {},
     "output_type": "execute_result"
    }
   ],
   "source": [
    "\"imteroperability\".strip(\"yim\")"
   ]
  },
  {
   "cell_type": "code",
   "execution_count": 58,
   "id": "6dea4db9",
   "metadata": {},
   "outputs": [],
   "source": [
    "text = 'In God wee Trust'"
   ]
  },
  {
   "cell_type": "code",
   "execution_count": 59,
   "id": "cd96c006",
   "metadata": {},
   "outputs": [
    {
     "name": "stdout",
     "output_type": "stream",
     "text": [
      "In God we Trust\n"
     ]
    }
   ],
   "source": [
    "# replace metodu ile çözüm\n",
    "\n",
    "print(text.replace(\"ee\", \"e\"))"
   ]
  },
  {
   "cell_type": "code",
   "execution_count": 60,
   "id": "d6656004",
   "metadata": {},
   "outputs": [
    {
     "name": "stdout",
     "output_type": "stream",
     "text": [
      "In God we Trust\n"
     ]
    }
   ],
   "source": [
    "# alternatif çözüm\n",
    "\n",
    "text1 = text[:9]\n",
    "text2 = text[10:]\n",
    "print(text1 + text2)"
   ]
  },
  {
   "cell_type": "markdown",
   "id": "c8f72089",
   "metadata": {},
   "source": [
    "<a id=\"toc\"></a>\n",
    "\n",
    "## <p style=\"background-color:#9d4f8c; font-family:newtimeroman; color:#FFF9ED; font-size:175%; text-align:center; border-radius:10px 10px;\">List & Creating a List</p>"
   ]
  },
  {
   "cell_type": "markdown",
   "id": "7ccc3da7",
   "metadata": {},
   "source": [
    "**Python documentation link - Lists: https://docs.python.org/3/tutorial/introduction.html#lists**\n",
    "\n",
    "**Python documentation link - More on Lists: https://docs.python.org/3/tutorial/datastructures.html#more-on-lists**"
   ]
  },
  {
   "cell_type": "code",
   "execution_count": 61,
   "id": "1517d0e8",
   "metadata": {},
   "outputs": [],
   "source": [
    "x = \"Clarusway\""
   ]
  },
  {
   "cell_type": "code",
   "execution_count": 62,
   "id": "2edd96a3",
   "metadata": {},
   "outputs": [],
   "source": [
    "y = 168"
   ]
  },
  {
   "cell_type": "code",
   "execution_count": 63,
   "id": "54da7e0c",
   "metadata": {},
   "outputs": [],
   "source": [
    "x = [\"ali\", \"veli\"]"
   ]
  },
  {
   "cell_type": "code",
   "execution_count": 64,
   "id": "5adcc913",
   "metadata": {},
   "outputs": [
    {
     "data": {
      "text/plain": [
       "['ali', 'deli', 'veli']"
      ]
     },
     "execution_count": 64,
     "metadata": {},
     "output_type": "execute_result"
    }
   ],
   "source": [
    "[\"ali\", \"deli\", \"veli\"]"
   ]
  },
  {
   "cell_type": "code",
   "execution_count": 65,
   "id": "886ba0ee",
   "metadata": {},
   "outputs": [
    {
     "data": {
      "text/plain": [
       "['c', 'l', 'a', 'r', 'u', 's']"
      ]
     },
     "execution_count": 65,
     "metadata": {},
     "output_type": "execute_result"
    }
   ],
   "source": [
    "list(\"clarus\")"
   ]
  },
  {
   "cell_type": "code",
   "execution_count": 66,
   "id": "450dee72",
   "metadata": {},
   "outputs": [],
   "source": [
    "a = [1, 2, 3]"
   ]
  },
  {
   "cell_type": "code",
   "execution_count": 67,
   "id": "2c91c01d",
   "metadata": {},
   "outputs": [
    {
     "data": {
      "text/plain": [
       "[1, 2, 3]"
      ]
     },
     "execution_count": 67,
     "metadata": {},
     "output_type": "execute_result"
    }
   ],
   "source": [
    "list(a)"
   ]
  },
  {
   "cell_type": "code",
   "execution_count": 68,
   "id": "2b9e15fa",
   "metadata": {},
   "outputs": [
    {
     "ename": "TypeError",
     "evalue": "'int' object is not iterable",
     "output_type": "error",
     "traceback": [
      "\u001b[1;31m---------------------------------------------------------------------------\u001b[0m",
      "\u001b[1;31mTypeError\u001b[0m                                 Traceback (most recent call last)",
      "Cell \u001b[1;32mIn[68], line 1\u001b[0m\n\u001b[1;32m----> 1\u001b[0m \u001b[38;5;28mlist\u001b[39m(\u001b[38;5;241m1234\u001b[39m)\n",
      "\u001b[1;31mTypeError\u001b[0m: 'int' object is not iterable"
     ]
    }
   ],
   "source": [
    "list(1234)"
   ]
  },
  {
   "cell_type": "code",
   "execution_count": null,
   "id": "cb1b9b07",
   "metadata": {
    "scrolled": true
   },
   "outputs": [],
   "source": [
    "len(1230)"
   ]
  }
 ],
 "metadata": {
  "kernelspec": {
   "display_name": "Python 3 (ipykernel)",
   "language": "python",
   "name": "python3"
  },
  "language_info": {
   "codemirror_mode": {
    "name": "ipython",
    "version": 3
   },
   "file_extension": ".py",
   "mimetype": "text/x-python",
   "name": "python",
   "nbconvert_exporter": "python",
   "pygments_lexer": "ipython3",
   "version": "3.11.5"
  }
 },
 "nbformat": 4,
 "nbformat_minor": 5
}
