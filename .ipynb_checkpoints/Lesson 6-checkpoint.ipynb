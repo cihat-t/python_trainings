{
 "cells": [
  {
   "cell_type": "markdown",
   "id": "97d2a08c",
   "metadata": {},
   "source": [
    "<a id=\"toc\"></a>\n",
    "\n",
    "## <p style=\"background-color:#0D8D99; font-family:newtimeroman; color:#FFF9ED; font-size:175%; text-align:center; border-radius:10px 10px;\">Python Session-6 & 7 (17 & 19 Oct 2022)</p>"
   ]
  },
  {
   "cell_type": "markdown",
   "id": "93bf8f83",
   "metadata": {},
   "source": [
    "#### <div class=\"alert alert-block alert-info\"><h1><p style=\"text-align: center; color:purple\">Collection Types - Lists<br><br>Creating a List<br><br>Basic Operations with Lists<br><br>Some additioanal features about Strings</p>"
   ]
  },
  {
   "cell_type": "markdown",
   "id": "a7d7cb0c",
   "metadata": {},
   "source": [
    "<a id=\"toc\"></a>\n",
    "\n",
    "## <p style=\"background-color:#9d4f8c; font-family:newtimeroman; color:#FFF9ED; font-size:175%; text-align:center; border-radius:10px 10px;\">Creating a List</p>"
   ]
  },
  {
   "cell_type": "markdown",
   "id": "cf70321c",
   "metadata": {},
   "source": [
    "**python documentation link - Lists: https://docs.python.org/3/tutorial/introduction.html#lists**"
   ]
  },
  {
   "cell_type": "code",
   "execution_count": 1,
   "id": "1517d0e8",
   "metadata": {},
   "outputs": [],
   "source": [
    "x = \"Clarusway\""
   ]
  },
  {
   "cell_type": "code",
   "execution_count": 2,
   "id": "2edd96a3",
   "metadata": {},
   "outputs": [],
   "source": [
    "y = 168"
   ]
  },
  {
   "cell_type": "code",
   "execution_count": 3,
   "id": "54da7e0c",
   "metadata": {},
   "outputs": [],
   "source": [
    "x = [\"ali\", \"veli\"]"
   ]
  },
  {
   "cell_type": "code",
   "execution_count": 4,
   "id": "5adcc913",
   "metadata": {},
   "outputs": [
    {
     "data": {
      "text/plain": [
       "['ali', 'deli', 'veli']"
      ]
     },
     "execution_count": 4,
     "metadata": {},
     "output_type": "execute_result"
    }
   ],
   "source": [
    "[\"ali\", \"deli\", \"veli\"]"
   ]
  },
  {
   "cell_type": "code",
   "execution_count": 5,
   "id": "886ba0ee",
   "metadata": {},
   "outputs": [
    {
     "data": {
      "text/plain": [
       "['c', 'l', 'a', 'r', 'u', 's']"
      ]
     },
     "execution_count": 5,
     "metadata": {},
     "output_type": "execute_result"
    }
   ],
   "source": [
    "list(\"clarus\")"
   ]
  },
  {
   "cell_type": "code",
   "execution_count": 6,
   "id": "450dee72",
   "metadata": {},
   "outputs": [],
   "source": [
    "a = [1, 2, 3]"
   ]
  },
  {
   "cell_type": "code",
   "execution_count": 7,
   "id": "2c91c01d",
   "metadata": {},
   "outputs": [
    {
     "data": {
      "text/plain": [
       "[1, 2, 3]"
      ]
     },
     "execution_count": 7,
     "metadata": {},
     "output_type": "execute_result"
    }
   ],
   "source": [
    "list(a)"
   ]
  },
  {
   "cell_type": "code",
   "execution_count": 8,
   "id": "2b9e15fa",
   "metadata": {},
   "outputs": [
    {
     "ename": "TypeError",
     "evalue": "'int' object is not iterable",
     "output_type": "error",
     "traceback": [
      "\u001b[1;31m---------------------------------------------------------------------------\u001b[0m",
      "\u001b[1;31mTypeError\u001b[0m                                 Traceback (most recent call last)",
      "Cell \u001b[1;32mIn[8], line 1\u001b[0m\n\u001b[1;32m----> 1\u001b[0m \u001b[38;5;28mlist\u001b[39m(\u001b[38;5;241m1234\u001b[39m)\n",
      "\u001b[1;31mTypeError\u001b[0m: 'int' object is not iterable"
     ]
    }
   ],
   "source": [
    "list(1234)"
   ]
  },
  {
   "cell_type": "code",
   "execution_count": null,
   "id": "cb1b9b07",
   "metadata": {},
   "outputs": [],
   "source": [
    "len(1230)"
   ]
  },
  {
   "cell_type": "code",
   "execution_count": null,
   "id": "b362bb73",
   "metadata": {},
   "outputs": [],
   "source": [
    "type(None)"
   ]
  },
  {
   "cell_type": "code",
   "execution_count": 9,
   "id": "18c65d1e",
   "metadata": {},
   "outputs": [],
   "source": [
    "mesela = [[1, 2, 4],  False, \"ali\", 11, [\"veli\", [\"deli\"]]]"
   ]
  },
  {
   "cell_type": "code",
   "execution_count": 10,
   "id": "78d9c83d",
   "metadata": {},
   "outputs": [
    {
     "data": {
      "text/plain": [
       "5"
      ]
     },
     "execution_count": 10,
     "metadata": {},
     "output_type": "execute_result"
    }
   ],
   "source": [
    "len(mesela)"
   ]
  },
  {
   "cell_type": "code",
   "execution_count": 11,
   "id": "5b2eae5f",
   "metadata": {},
   "outputs": [
    {
     "data": {
      "text/plain": [
       "1"
      ]
     },
     "execution_count": 11,
     "metadata": {},
     "output_type": "execute_result"
    }
   ],
   "source": [
    "len([[[\"  \"]]])"
   ]
  },
  {
   "cell_type": "code",
   "execution_count": 12,
   "id": "95e858c9",
   "metadata": {},
   "outputs": [
    {
     "data": {
      "text/plain": [
       "1"
      ]
     },
     "execution_count": 12,
     "metadata": {},
     "output_type": "execute_result"
    }
   ],
   "source": [
    "len([[[\"  \", 1, 3]]])"
   ]
  },
  {
   "cell_type": "markdown",
   "id": "59607ecb",
   "metadata": {},
   "source": [
    "<a id=\"toc\"></a>\n",
    "\n",
    "## <p style=\"background-color:#9d4f8c; font-family:newtimeroman; color:#FFF9ED; font-size:175%; text-align:center; border-radius:10px 10px;\">Basic Operations with Lists</p>"
   ]
  },
  {
   "cell_type": "markdown",
   "id": "644f5b96",
   "metadata": {},
   "source": [
    "**python documentation link - More on Lists: https://docs.python.org/3/tutorial/datastructures.html#more-on-lists**\n",
    "\n",
    "**Link 2 : https://python.plainenglish.io/5-list-operations-in-python-5644de1ccc44**"
   ]
  },
  {
   "cell_type": "code",
   "execution_count": 13,
   "id": "9cc019c9",
   "metadata": {},
   "outputs": [
    {
     "data": {
      "text/plain": [
       "[]"
      ]
     },
     "execution_count": 13,
     "metadata": {},
     "output_type": "execute_result"
    }
   ],
   "source": [
    "bos = []\n",
    "bos"
   ]
  },
  {
   "cell_type": "code",
   "execution_count": 14,
   "id": "a158a57e",
   "metadata": {},
   "outputs": [
    {
     "data": {
      "text/plain": [
       "[]"
      ]
     },
     "execution_count": 14,
     "metadata": {},
     "output_type": "execute_result"
    }
   ],
   "source": [
    "bos2 = list()\n",
    "bos2"
   ]
  },
  {
   "cell_type": "code",
   "execution_count": 15,
   "id": "ee6b0f1d",
   "metadata": {},
   "outputs": [
    {
     "data": {
      "text/plain": [
       "'Ali deli veli'"
      ]
     },
     "execution_count": 15,
     "metadata": {},
     "output_type": "execute_result"
    }
   ],
   "source": [
    "\"ali deli veli\".capitalize()"
   ]
  },
  {
   "cell_type": "code",
   "execution_count": 16,
   "id": "861eba53",
   "metadata": {},
   "outputs": [],
   "source": [
    "listem = []"
   ]
  },
  {
   "cell_type": "code",
   "execution_count": 17,
   "id": "ef2742ba",
   "metadata": {},
   "outputs": [],
   "source": [
    "listem.append(11)"
   ]
  },
  {
   "cell_type": "code",
   "execution_count": 18,
   "id": "846b182e",
   "metadata": {},
   "outputs": [
    {
     "data": {
      "text/plain": [
       "[11]"
      ]
     },
     "execution_count": 18,
     "metadata": {},
     "output_type": "execute_result"
    }
   ],
   "source": [
    "listem"
   ]
  },
  {
   "cell_type": "code",
   "execution_count": 19,
   "id": "0bfa1a8f",
   "metadata": {},
   "outputs": [
    {
     "data": {
      "text/plain": [
       "'al+ del+ vel+'"
      ]
     },
     "execution_count": 19,
     "metadata": {},
     "output_type": "execute_result"
    }
   ],
   "source": [
    "\"ali deli veli\".replace(\"i\", \"+\")"
   ]
  },
  {
   "cell_type": "code",
   "execution_count": 20,
   "id": "13c2d6d0",
   "metadata": {},
   "outputs": [],
   "source": [
    "listem.append(22)"
   ]
  },
  {
   "cell_type": "code",
   "execution_count": 21,
   "id": "d8f6d6fd",
   "metadata": {},
   "outputs": [
    {
     "data": {
      "text/plain": [
       "[11, 22]"
      ]
     },
     "execution_count": 21,
     "metadata": {},
     "output_type": "execute_result"
    }
   ],
   "source": [
    "listem"
   ]
  },
  {
   "cell_type": "code",
   "execution_count": 22,
   "id": "57256a5b",
   "metadata": {},
   "outputs": [],
   "source": [
    "karındaşlar = [\"ali\", \"deli\"]"
   ]
  },
  {
   "cell_type": "code",
   "execution_count": 23,
   "id": "91046533",
   "metadata": {},
   "outputs": [
    {
     "data": {
      "text/plain": [
       "['ali', 'deli', 'veli']"
      ]
     },
     "execution_count": 23,
     "metadata": {},
     "output_type": "execute_result"
    }
   ],
   "source": [
    "karındaşlar.append(\"veli\")\n",
    "\n",
    "karındaşlar"
   ]
  },
  {
   "cell_type": "code",
   "execution_count": 24,
   "id": "942c6f63",
   "metadata": {},
   "outputs": [
    {
     "data": {
      "text/plain": [
       "['ali', 'deli', 'veli', True]"
      ]
     },
     "execution_count": 24,
     "metadata": {},
     "output_type": "execute_result"
    }
   ],
   "source": [
    "karındaşlar.append(True)\n",
    "karındaşlar"
   ]
  },
  {
   "cell_type": "code",
   "execution_count": 25,
   "id": "eb2c2512",
   "metadata": {},
   "outputs": [
    {
     "data": {
      "text/plain": [
       "['ali', 'deli', 'veli', True, 3.14]"
      ]
     },
     "execution_count": 25,
     "metadata": {},
     "output_type": "execute_result"
    }
   ],
   "source": [
    "karındaşlar.append(3.14)\n",
    "karındaşlar"
   ]
  },
  {
   "cell_type": "code",
   "execution_count": 26,
   "id": "70974cc9",
   "metadata": {},
   "outputs": [
    {
     "data": {
      "text/plain": [
       "3.14"
      ]
     },
     "execution_count": 26,
     "metadata": {},
     "output_type": "execute_result"
    }
   ],
   "source": [
    "karındaşlar.pop()"
   ]
  },
  {
   "cell_type": "code",
   "execution_count": 27,
   "id": "cc7da905",
   "metadata": {},
   "outputs": [
    {
     "data": {
      "text/plain": [
       "['ali', 'deli', 'veli', True]"
      ]
     },
     "execution_count": 27,
     "metadata": {},
     "output_type": "execute_result"
    }
   ],
   "source": [
    "karındaşlar"
   ]
  },
  {
   "cell_type": "code",
   "execution_count": 28,
   "id": "fd39a5d6",
   "metadata": {},
   "outputs": [
    {
     "data": {
      "text/plain": [
       "True"
      ]
     },
     "execution_count": 28,
     "metadata": {},
     "output_type": "execute_result"
    }
   ],
   "source": [
    "karındaşlar.pop()"
   ]
  },
  {
   "cell_type": "code",
   "execution_count": 29,
   "id": "315ca97a",
   "metadata": {},
   "outputs": [
    {
     "data": {
      "text/plain": [
       "['ali', 'deli', 'veli']"
      ]
     },
     "execution_count": 29,
     "metadata": {},
     "output_type": "execute_result"
    }
   ],
   "source": [
    "karındaşlar"
   ]
  },
  {
   "cell_type": "code",
   "execution_count": 30,
   "id": "528bcbb6",
   "metadata": {},
   "outputs": [
    {
     "data": {
      "text/plain": [
       "'deli'"
      ]
     },
     "execution_count": 30,
     "metadata": {},
     "output_type": "execute_result"
    }
   ],
   "source": [
    "karındaşlar.pop(1)"
   ]
  },
  {
   "cell_type": "code",
   "execution_count": 31,
   "id": "ec8e37b0",
   "metadata": {},
   "outputs": [
    {
     "data": {
      "text/plain": [
       "['ali', 'veli']"
      ]
     },
     "execution_count": 31,
     "metadata": {},
     "output_type": "execute_result"
    }
   ],
   "source": [
    "karındaşlar"
   ]
  },
  {
   "cell_type": "code",
   "execution_count": 32,
   "id": "f810947f",
   "metadata": {},
   "outputs": [
    {
     "data": {
      "text/plain": [
       "['ali', 'deli', 'veli']"
      ]
     },
     "execution_count": 32,
     "metadata": {},
     "output_type": "execute_result"
    }
   ],
   "source": [
    "karındaşlar.insert(1, \"deli\")\n",
    "\n",
    "karındaşlar"
   ]
  },
  {
   "cell_type": "code",
   "execution_count": 33,
   "id": "3006ea69",
   "metadata": {},
   "outputs": [],
   "source": [
    "sayılar = [1, 2, 3 ,4]"
   ]
  },
  {
   "cell_type": "code",
   "execution_count": 34,
   "id": "ac39643d",
   "metadata": {},
   "outputs": [
    {
     "data": {
      "text/plain": [
       "[1, 2, 3, 5, 4]"
      ]
     },
     "execution_count": 34,
     "metadata": {},
     "output_type": "execute_result"
    }
   ],
   "source": [
    "sayılar.insert(-1, 5)\n",
    "sayılar"
   ]
  },
  {
   "cell_type": "code",
   "execution_count": 35,
   "id": "ed9d7b33",
   "metadata": {},
   "outputs": [
    {
     "data": {
      "text/plain": [
       "[1, 2, 3, 4, 5]"
      ]
     },
     "execution_count": 35,
     "metadata": {},
     "output_type": "execute_result"
    }
   ],
   "source": [
    "sayılar = [1, 2, 3 ,4]\n",
    "\n",
    "sayılar.insert(15, 5)\n",
    "sayılar"
   ]
  },
  {
   "cell_type": "code",
   "execution_count": 36,
   "id": "ed8d9d30",
   "metadata": {},
   "outputs": [],
   "source": [
    "yeni = [3, 5, 1, 7, 4]"
   ]
  },
  {
   "cell_type": "code",
   "execution_count": 37,
   "id": "08280cac",
   "metadata": {},
   "outputs": [],
   "source": [
    "yeni.sort()"
   ]
  },
  {
   "cell_type": "code",
   "execution_count": 38,
   "id": "45419ebf",
   "metadata": {},
   "outputs": [
    {
     "data": {
      "text/plain": [
       "[1, 3, 4, 5, 7]"
      ]
     },
     "execution_count": 38,
     "metadata": {},
     "output_type": "execute_result"
    }
   ],
   "source": [
    "yeni"
   ]
  },
  {
   "cell_type": "code",
   "execution_count": 39,
   "id": "b859d3a7",
   "metadata": {},
   "outputs": [],
   "source": [
    "eski = [\"behçet\", \"cavidan\", \"ali\", \"deli\", \"veli\"]"
   ]
  },
  {
   "cell_type": "code",
   "execution_count": 40,
   "id": "35a4a0a3",
   "metadata": {},
   "outputs": [],
   "source": [
    "eski.sort()"
   ]
  },
  {
   "cell_type": "code",
   "execution_count": 41,
   "id": "cada20dd",
   "metadata": {},
   "outputs": [
    {
     "data": {
      "text/plain": [
       "['ali', 'behçet', 'cavidan', 'deli', 'veli']"
      ]
     },
     "execution_count": 41,
     "metadata": {},
     "output_type": "execute_result"
    }
   ],
   "source": [
    "eski"
   ]
  },
  {
   "cell_type": "code",
   "execution_count": 42,
   "id": "b082e35c",
   "metadata": {},
   "outputs": [],
   "source": [
    "list1 = [\"one\", \"four\", \"nine\"]"
   ]
  },
  {
   "cell_type": "code",
   "execution_count": 43,
   "id": "9023d878",
   "metadata": {},
   "outputs": [
    {
     "data": {
      "text/plain": [
       "['one', 'nine', 'four']"
      ]
     },
     "execution_count": 43,
     "metadata": {},
     "output_type": "execute_result"
    }
   ],
   "source": [
    "list1.sort(reverse=True)\n",
    "list1"
   ]
  },
  {
   "cell_type": "code",
   "execution_count": 44,
   "id": "6e8901ae",
   "metadata": {},
   "outputs": [],
   "source": [
    "list2 = [\"@\", \"*_\", \"False\"]"
   ]
  },
  {
   "cell_type": "code",
   "execution_count": 45,
   "id": "c829de0d",
   "metadata": {},
   "outputs": [],
   "source": [
    "list2.sort()"
   ]
  },
  {
   "cell_type": "code",
   "execution_count": 46,
   "id": "0c2b6c71",
   "metadata": {},
   "outputs": [
    {
     "data": {
      "text/plain": [
       "['*_', '@', 'False']"
      ]
     },
     "execution_count": 46,
     "metadata": {},
     "output_type": "execute_result"
    }
   ],
   "source": [
    "list2"
   ]
  },
  {
   "cell_type": "code",
   "execution_count": 47,
   "id": "db8ad5ac",
   "metadata": {},
   "outputs": [
    {
     "data": {
      "text/plain": [
       "64"
      ]
     },
     "execution_count": 47,
     "metadata": {},
     "output_type": "execute_result"
    }
   ],
   "source": [
    "ord(\"@\")"
   ]
  },
  {
   "cell_type": "code",
   "execution_count": 48,
   "id": "92762bfd",
   "metadata": {},
   "outputs": [
    {
     "data": {
      "text/plain": [
       "42"
      ]
     },
     "execution_count": 48,
     "metadata": {},
     "output_type": "execute_result"
    }
   ],
   "source": [
    "ord(\"*\")"
   ]
  },
  {
   "cell_type": "code",
   "execution_count": 49,
   "id": "90b1d906",
   "metadata": {},
   "outputs": [
    {
     "data": {
      "text/plain": [
       "70"
      ]
     },
     "execution_count": 49,
     "metadata": {},
     "output_type": "execute_result"
    }
   ],
   "source": [
    "ord(\"F\")"
   ]
  },
  {
   "cell_type": "code",
   "execution_count": 50,
   "id": "f43d7742",
   "metadata": {},
   "outputs": [],
   "source": [
    "list3 = [True, False]"
   ]
  },
  {
   "cell_type": "code",
   "execution_count": 51,
   "id": "d9512cd1",
   "metadata": {},
   "outputs": [],
   "source": [
    "list3.sort()"
   ]
  },
  {
   "cell_type": "code",
   "execution_count": 52,
   "id": "29f073d3",
   "metadata": {},
   "outputs": [
    {
     "data": {
      "text/plain": [
       "[False, True]"
      ]
     },
     "execution_count": 52,
     "metadata": {},
     "output_type": "execute_result"
    }
   ],
   "source": [
    "list3"
   ]
  },
  {
   "cell_type": "code",
   "execution_count": 53,
   "id": "24de7a01",
   "metadata": {},
   "outputs": [
    {
     "ename": "TypeError",
     "evalue": "ord() expected string of length 1, but bool found",
     "output_type": "error",
     "traceback": [
      "\u001b[1;31m---------------------------------------------------------------------------\u001b[0m",
      "\u001b[1;31mTypeError\u001b[0m                                 Traceback (most recent call last)",
      "Cell \u001b[1;32mIn[53], line 1\u001b[0m\n\u001b[1;32m----> 1\u001b[0m \u001b[38;5;28mord\u001b[39m(\u001b[38;5;28;01mTrue\u001b[39;00m)\n",
      "\u001b[1;31mTypeError\u001b[0m: ord() expected string of length 1, but bool found"
     ]
    }
   ],
   "source": [
    "ord(True)  # ord() fonksiyonu içine yalnızca string bir karakter alır."
   ]
  },
  {
   "cell_type": "code",
   "execution_count": 54,
   "id": "4c6e4527",
   "metadata": {},
   "outputs": [
    {
     "data": {
      "text/plain": [
       "49"
      ]
     },
     "execution_count": 54,
     "metadata": {},
     "output_type": "execute_result"
    }
   ],
   "source": [
    "ord(\"1\")"
   ]
  },
  {
   "cell_type": "code",
   "execution_count": 55,
   "id": "1a5c30b4",
   "metadata": {},
   "outputs": [],
   "source": [
    "list4 = [[3], [44], [-12]]"
   ]
  },
  {
   "cell_type": "code",
   "execution_count": 56,
   "id": "0c48aa0b",
   "metadata": {},
   "outputs": [],
   "source": [
    "list4.sort()"
   ]
  },
  {
   "cell_type": "code",
   "execution_count": 57,
   "id": "dbc4f479",
   "metadata": {},
   "outputs": [
    {
     "data": {
      "text/plain": [
       "[[-12], [3], [44]]"
      ]
     },
     "execution_count": 57,
     "metadata": {},
     "output_type": "execute_result"
    }
   ],
   "source": [
    "list4"
   ]
  },
  {
   "cell_type": "code",
   "execution_count": 58,
   "id": "1c6fc48b",
   "metadata": {},
   "outputs": [],
   "source": [
    "list5 = [[1, 3], [44, -40], [-12, 1]]"
   ]
  },
  {
   "cell_type": "code",
   "execution_count": 59,
   "id": "c4ecc448",
   "metadata": {},
   "outputs": [
    {
     "data": {
      "text/plain": [
       "[[-12, 1], [1, 3], [44, -40]]"
      ]
     },
     "execution_count": 59,
     "metadata": {},
     "output_type": "execute_result"
    }
   ],
   "source": [
    "list5.sort()\n",
    "list5"
   ]
  },
  {
   "cell_type": "code",
   "execution_count": 60,
   "id": "7c8a6b71",
   "metadata": {},
   "outputs": [
    {
     "data": {
      "text/plain": [
       "'F'"
      ]
     },
     "execution_count": 60,
     "metadata": {},
     "output_type": "execute_result"
    }
   ],
   "source": [
    "chr(70)"
   ]
  },
  {
   "cell_type": "code",
   "execution_count": 61,
   "id": "ce905f20",
   "metadata": {},
   "outputs": [
    {
     "data": {
      "text/plain": [
       "'ƻ'"
      ]
     },
     "execution_count": 61,
     "metadata": {},
     "output_type": "execute_result"
    }
   ],
   "source": [
    "chr(443)"
   ]
  },
  {
   "cell_type": "markdown",
   "id": "7b389fbc",
   "metadata": {},
   "source": [
    "<a id=\"toc\"></a>\n",
    "\n",
    "## <p style=\"background-color:#9d4f8c; font-family:newtimeroman; color:#FFF9ED; font-size:175%; text-align:center; border-radius:10px 10px;\">Some additional features about Strings</p>"
   ]
  },
  {
   "cell_type": "code",
   "execution_count": 62,
   "id": "629765d8",
   "metadata": {},
   "outputs": [
    {
     "name": "stdout",
     "output_type": "stream",
     "text": [
      "clarusway\n",
      "Clausway\n"
     ]
    }
   ],
   "source": [
    "# Clarusway stringininin 3. indeksindeki \"r\" karakterini kaldıralım.\n",
    "\n",
    "full = \"Clarusway\"\n",
    "\n",
    "head = \"clarus\"\n",
    "\n",
    "bottom = \"way\"\n",
    "\n",
    "print(head + bottom)\n",
    "\n",
    "print(full[:3] + full[4:])"
   ]
  },
  {
   "cell_type": "code",
   "execution_count": 63,
   "id": "68449371",
   "metadata": {},
   "outputs": [
    {
     "name": "stdout",
     "output_type": "stream",
     "text": [
      "Clausway\n"
     ]
    }
   ],
   "source": [
    "# replace() metodu ile çözüm:\n",
    "\n",
    "full = \"Clarusway\"\n",
    "\n",
    "print(full.replace(\"r\", \"\"))"
   ]
  },
  {
   "cell_type": "code",
   "execution_count": 64,
   "id": "4f31fc6f",
   "metadata": {},
   "outputs": [
    {
     "data": {
      "text/plain": [
       "11"
      ]
     },
     "execution_count": 64,
     "metadata": {},
     "output_type": "execute_result"
    }
   ],
   "source": [
    "a = 11\n",
    "a"
   ]
  },
  {
   "cell_type": "code",
   "execution_count": 65,
   "id": "9dc0609b",
   "metadata": {},
   "outputs": [
    {
     "name": "stdout",
     "output_type": "stream",
     "text": [
      "-11\n"
     ]
    }
   ],
   "source": [
    "print(-a)"
   ]
  },
  {
   "cell_type": "code",
   "execution_count": 66,
   "id": "cf27b94f",
   "metadata": {},
   "outputs": [
    {
     "data": {
      "text/plain": [
       "-11"
      ]
     },
     "execution_count": 66,
     "metadata": {},
     "output_type": "execute_result"
    }
   ],
   "source": [
    "b = -11\n",
    "b"
   ]
  },
  {
   "cell_type": "code",
   "execution_count": 67,
   "id": "459c1d11",
   "metadata": {},
   "outputs": [
    {
     "name": "stdout",
     "output_type": "stream",
     "text": [
      "11\n"
     ]
    }
   ],
   "source": [
    "print(-b)"
   ]
  },
  {
   "cell_type": "code",
   "execution_count": 68,
   "id": "6eb5dce0",
   "metadata": {},
   "outputs": [
    {
     "name": "stdout",
     "output_type": "stream",
     "text": [
      "The multiplication of 11 x -11 is = -121\n"
     ]
    }
   ],
   "source": [
    "print(\"The multiplication of {} x {} is = {}\".format(a, b, a * b))"
   ]
  },
  {
   "cell_type": "code",
   "execution_count": 69,
   "id": "cdb2ba3c",
   "metadata": {},
   "outputs": [
    {
     "data": {
      "text/plain": [
       "'3.1463, 5.367, 7.324324'"
      ]
     },
     "execution_count": 69,
     "metadata": {},
     "output_type": "execute_result"
    }
   ],
   "source": [
    "text = \"{}, {}, {}\".format(3.1463, 5.367, 7.324324)\n",
    "\n",
    "text"
   ]
  },
  {
   "cell_type": "code",
   "execution_count": 70,
   "id": "2d16f942",
   "metadata": {},
   "outputs": [
    {
     "data": {
      "text/plain": [
       "'3.15, 5.367, 7.3243'"
      ]
     },
     "execution_count": 70,
     "metadata": {},
     "output_type": "execute_result"
    }
   ],
   "source": [
    "text = \"{:.2f}, {:.3f}, {:.4f}\".format(3.1463, 5.367, 7.324324)\n",
    "text"
   ]
  },
  {
   "cell_type": "code",
   "execution_count": 71,
   "id": "d346d873",
   "metadata": {},
   "outputs": [
    {
     "data": {
      "text/plain": [
       "'3.1, 5.37, 7.324'"
      ]
     },
     "execution_count": 71,
     "metadata": {},
     "output_type": "execute_result"
    }
   ],
   "source": [
    "text = \"{:.2}, {:.3}, {:.4}\".format(3.1463, 5.367, 7.324324)\n",
    "text"
   ]
  },
  {
   "cell_type": "code",
   "execution_count": 72,
   "id": "38465dd7",
   "metadata": {},
   "outputs": [
    {
     "data": {
      "text/plain": [
       "'a3, 5.b, 7.32'"
      ]
     },
     "execution_count": 72,
     "metadata": {},
     "output_type": "execute_result"
    }
   ],
   "source": [
    "text = \"{:.2s}, {:.3s}, {:.4s}\".format(\"a3.1463\", \"5.b367\", \"7.324324\")\n",
    "text"
   ]
  },
  {
   "cell_type": "code",
   "execution_count": 73,
   "id": "a39d9bd8",
   "metadata": {},
   "outputs": [
    {
     "data": {
      "text/plain": [
       "'a3, 5.b, 7.32'"
      ]
     },
     "execution_count": 73,
     "metadata": {},
     "output_type": "execute_result"
    }
   ],
   "source": [
    "text = \"{:.2}, {:.3}, {:.4}\".format(\"a3.1463\", \"5.b367\", \"7.324324\")\n",
    "text"
   ]
  },
  {
   "cell_type": "code",
   "execution_count": 74,
   "id": "0297d081",
   "metadata": {},
   "outputs": [
    {
     "data": {
      "text/plain": [
       "'      test'"
      ]
     },
     "execution_count": 74,
     "metadata": {},
     "output_type": "execute_result"
    }
   ],
   "source": [
    "text = \"{:>10}\".format(\"test\")\n",
    "text"
   ]
  },
  {
   "cell_type": "code",
   "execution_count": 75,
   "id": "43cf2d86",
   "metadata": {},
   "outputs": [
    {
     "data": {
      "text/plain": [
       "'test                '"
      ]
     },
     "execution_count": 75,
     "metadata": {},
     "output_type": "execute_result"
    }
   ],
   "source": [
    "text = \"{:<20}\".format(\"test\")\n",
    "text"
   ]
  },
  {
   "cell_type": "code",
   "execution_count": 76,
   "id": "dcd06a12",
   "metadata": {},
   "outputs": [
    {
     "data": {
      "text/plain": [
       "\"formatlama satırı '        perseverance' <-- burada ilk kelime bitti. Burada da ikinci kelime başlıyor --> 'success        '\""
      ]
     },
     "execution_count": 76,
     "metadata": {},
     "output_type": "execute_result"
    }
   ],
   "source": [
    "text = \"formatlama satırı '{:>20}' <-- burada ilk kelime bitti.\\\n",
    " Burada da ikinci kelime başlıyor --> '{:<15}'\".format(\"perseverance\", \"success\")\n",
    "\n",
    "text"
   ]
  },
  {
   "cell_type": "code",
   "execution_count": 77,
   "id": "c8ae9f46",
   "metadata": {},
   "outputs": [
    {
     "data": {
      "text/plain": [
       "'    be upright!     '"
      ]
     },
     "execution_count": 77,
     "metadata": {},
     "output_type": "execute_result"
    }
   ],
   "source": [
    "text = \"{:^20}\".format(\"be upright!\")\n",
    "text"
   ]
  },
  {
   "cell_type": "code",
   "execution_count": 78,
   "id": "ce435987",
   "metadata": {},
   "outputs": [
    {
     "data": {
      "text/plain": [
       "'hippo     '"
      ]
     },
     "execution_count": 78,
     "metadata": {},
     "output_type": "execute_result"
    }
   ],
   "source": [
    "text = \"{:10.5}\".format(\"hippopotamus\")\n",
    "text"
   ]
  },
  {
   "cell_type": "code",
   "execution_count": 79,
   "id": "0a32b780",
   "metadata": {},
   "outputs": [
    {
     "data": {
      "text/plain": [
       "'               hippo'"
      ]
     },
     "execution_count": 79,
     "metadata": {},
     "output_type": "execute_result"
    }
   ],
   "source": [
    "\"{:>20.5}\".format(\"hippopotamus\")"
   ]
  }
 ],
 "metadata": {
  "kernelspec": {
   "display_name": "Python 3 (ipykernel)",
   "language": "python",
   "name": "python3"
  },
  "language_info": {
   "codemirror_mode": {
    "name": "ipython",
    "version": 3
   },
   "file_extension": ".py",
   "mimetype": "text/x-python",
   "name": "python",
   "nbconvert_exporter": "python",
   "pygments_lexer": "ipython3",
   "version": "3.11.5"
  }
 },
 "nbformat": 4,
 "nbformat_minor": 5
}
