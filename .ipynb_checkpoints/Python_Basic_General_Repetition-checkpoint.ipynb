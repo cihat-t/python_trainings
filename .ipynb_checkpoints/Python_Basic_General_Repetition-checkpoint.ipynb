{
 "cells": [
  {
   "cell_type": "code",
   "execution_count": 16,
   "metadata": {
    "scrolled": true
   },
   "outputs": [
    {
     "name": "stdout",
     "output_type": "stream",
     "text": [
      "hello world\n"
     ]
    }
   ],
   "source": [
    "print(\"hello world\")"
   ]
  },
  {
   "cell_type": "markdown",
   "metadata": {},
   "source": [
    "Write a Python program that takes a number from the user and checks whether it is odd or even and whether it is divisible by 3. The program should inform the user in a meaningful way whether the number is odd or even and whether it can be divided by 3."
   ]
  },
  {
   "cell_type": "code",
   "execution_count": 17,
   "metadata": {
    "colab": {
     "base_uri": "https://localhost:8080/"
    },
    "id": "HWvpoAt7AOHp",
    "outputId": "0fb986bf-3928-40cd-bffe-a86fa52a0f03"
   },
   "outputs": [
    {
     "name": "stdout",
     "output_type": "stream",
     "text": [
      "enter a number: 8\n",
      "8 is an even number and it cannot be divided by 3\n"
     ]
    }
   ],
   "source": [
    "\n",
    "number = int(input(\"enter a number: \"))\n",
    "is_even = number % 2 == 0\n",
    "is_divisible_by_3 = number % 3 == 0\n",
    "\n",
    "if is_even:\n",
    "    odd_or_even = \"even\"\n",
    "else:\n",
    "    odd_or_even = \"odd\"\n",
    "\n",
    "if is_divisible_by_3:\n",
    "    divisible_by_3 = \"can be divided by 3\"\n",
    "else:\n",
    "    divisible_by_3 = \"cannot be divided by 3\"\n",
    "\n",
    "print(\"{} is an {} number and it {}\".format(number, odd_or_even, divisible_by_3))\n"
   ]
  },
  {
   "cell_type": "code",
   "execution_count": 18,
   "metadata": {
    "colab": {
     "base_uri": "https://localhost:8080/"
    },
    "id": "OQeUZpE-jlb-",
    "outputId": "6c3bcb1c-7475-4a14-9014-06e11fadbcf3",
    "scrolled": true
   },
   "outputs": [
    {
     "name": "stdout",
     "output_type": "stream",
     "text": [
      "Being a good person\n"
     ]
    }
   ],
   "source": [
    "print('Being a good person')"
   ]
  },
  {
   "cell_type": "code",
   "execution_count": 19,
   "metadata": {
    "colab": {
     "base_uri": "https://localhost:8080/"
    },
    "id": "uzyBfJX2kSvw",
    "outputId": "043e99cf-74e4-4817-e451-9b17b65a90ab"
   },
   "outputs": [
    {
     "name": "stdout",
     "output_type": "stream",
     "text": [
      "   .   \n"
     ]
    }
   ],
   "source": [
    "print(\"   .   \") # tırnak içerisinde yazılan her şey string veri tipidir. Boşluklar da dahil...\n",
    "# tek tırnakla başlayan tekle, çiftle başlayan çiftle bitecek"
   ]
  },
  {
   "cell_type": "code",
   "execution_count": 20,
   "metadata": {
    "colab": {
     "base_uri": "https://localhost:8080/"
    },
    "id": "1i-FbZeCkpSi",
    "outputId": "fc12fbfe-0775-426e-d7f4-8d5fbecb75a8"
   },
   "outputs": [
    {
     "name": "stdout",
     "output_type": "stream",
     "text": [
      "I'm happy to learn...\n"
     ]
    }
   ],
   "source": [
    "print(\"I'm happy to learn...\")"
   ]
  },
  {
   "cell_type": "code",
   "execution_count": 21,
   "metadata": {
    "colab": {
     "base_uri": "https://localhost:8080/"
    },
    "id": "5VL9LnxdkjJ5",
    "outputId": "30b0c7d0-823c-4ed9-bb4c-a77a1366fcee"
   },
   "outputs": [
    {
     "name": "stdout",
     "output_type": "stream",
     "text": [
      "Arkadaşım \"merhaba\" dedi...\n"
     ]
    }
   ],
   "source": [
    "print('Arkadaşım \"merhaba\" dedi...')"
   ]
  },
  {
   "cell_type": "code",
   "execution_count": 22,
   "metadata": {
    "colab": {
     "base_uri": "https://localhost:8080/"
    },
    "id": "zDik78zMc06M",
    "outputId": "2e58936c-0f41-40a9-b21a-b10ab9206356"
   },
   "outputs": [
    {
     "name": "stdout",
     "output_type": "stream",
     "text": [
      "Arkadaşım 'merhaba' dedi\n"
     ]
    }
   ],
   "source": [
    "print(\"Arkadaşım 'merhaba' dedi\")"
   ]
  },
  {
   "cell_type": "markdown",
   "metadata": {
    "id": "VMUNH9Tal9VS"
   },
   "source": [
    "''' Üç tırnak kullanmak uzun metinlerde her zaman daha mantıklı olabilir.\n",
    "Dörtlü tırnak yoktur. Çalışmaz..."
   ]
  },
  {
   "cell_type": "code",
   "execution_count": 23,
   "metadata": {
    "colab": {
     "base_uri": "https://localhost:8080/"
    },
    "id": "pE5zOGRe6dZ-",
    "outputId": "7f04b43a-f8de-4e35-deb3-7806ca0c33ba"
   },
   "outputs": [
    {
     "name": "stdout",
     "output_type": "stream",
     "text": [
      "tekrar yapıyorum\n"
     ]
    }
   ],
   "source": [
    "print('''tekrar yapıyorum''')"
   ]
  },
  {
   "cell_type": "code",
   "execution_count": 24,
   "metadata": {
    "colab": {
     "base_uri": "https://localhost:8080/"
    },
    "id": "rfzququmkn8B",
    "outputId": "7279afb0-0178-4098-bcb1-51e92048766f"
   },
   "outputs": [
    {
     "name": "stdout",
     "output_type": "stream",
     "text": [
      "Bana \"topçu\" diye bağırdı. I'm happy to see you\n"
     ]
    }
   ],
   "source": [
    "print(\"\"\"Bana \"topçu\" diye bağırdı. I'm happy to see you\"\"\")"
   ]
  },
  {
   "cell_type": "code",
   "execution_count": 25,
   "metadata": {
    "colab": {
     "base_uri": "https://localhost:8080/"
    },
    "id": "7M6FAb_Olj7e",
    "outputId": "701ba3d5-f08c-47d7-91c2-dc8751857ac9"
   },
   "outputs": [
    {
     "name": "stdout",
     "output_type": "stream",
     "text": [
      "Bana \"topçu\" diye bağırdı. I'm happy to see you\n"
     ]
    }
   ],
   "source": [
    "print('''Bana \"topçu\" diye bağırdı. I'm happy to see you''')#Tekli üçlü tırnak da çıktı alır."
   ]
  },
  {
   "cell_type": "code",
   "execution_count": 26,
   "metadata": {
    "colab": {
     "base_uri": "https://localhost:8080/"
    },
    "id": "Py4nGFI2mgx0",
    "outputId": "02f259ab-1e28-4dea-aa53-2737cd4c1338"
   },
   "outputs": [
    {
     "name": "stdout",
     "output_type": "stream",
     "text": [
      "3.14\n",
      "3.14\n"
     ]
    }
   ],
   "source": [
    "print(\"3.14\")\n",
    "print(3.14)"
   ]
  },
  {
   "cell_type": "code",
   "execution_count": 27,
   "metadata": {
    "colab": {
     "base_uri": "https://localhost:8080/"
    },
    "id": "XIux1WU-nXXK",
    "outputId": "8855c819-a32e-40f1-cd5f-f10cb9b4b3ba"
   },
   "outputs": [
    {
     "name": "stdout",
     "output_type": "stream",
     "text": [
      "print(3.14)\n"
     ]
    }
   ],
   "source": [
    "print(\"print(3.14)\")"
   ]
  },
  {
   "cell_type": "code",
   "execution_count": 28,
   "metadata": {
    "colab": {
     "base_uri": "https://localhost:8080/"
    },
    "id": "7Rvufcm_oDkN",
    "outputId": "ab52982d-9e36-42ca-e097-67e5c859a452"
   },
   "outputs": [
    {
     "name": "stdout",
     "output_type": "stream",
     "text": [
      "'We should have enough time for our family\"\n"
     ]
    }
   ],
   "source": [
    "print(''''We should have enough time for our family\"''')"
   ]
  },
  {
   "cell_type": "code",
   "execution_count": 29,
   "metadata": {
    "colab": {
     "base_uri": "https://localhost:8080/"
    },
    "id": "H3cbi4NsoNNI",
    "outputId": "690350fa-e2ef-4f8a-f8b0-6945f9ae203b"
   },
   "outputs": [
    {
     "name": "stdout",
     "output_type": "stream",
     "text": [
      "\n"
     ]
    }
   ],
   "source": [
    "print('''''''''''')# tırnaklar birbirini karşıladığı için boş string aldı..."
   ]
  },
  {
   "cell_type": "code",
   "execution_count": 30,
   "metadata": {
    "colab": {
     "base_uri": "https://localhost:8080/",
     "height": 133
    },
    "id": "tq5o4DURonTz",
    "outputId": "2b5e728d-6076-44ed-ed62-499ed6e0567a"
   },
   "outputs": [
    {
     "ename": "SyntaxError",
     "evalue": "unterminated string literal (detected at line 1) (3699068048.py, line 1)",
     "output_type": "error",
     "traceback": [
      "\u001b[1;36m  Cell \u001b[1;32mIn[30], line 1\u001b[1;36m\u001b[0m\n\u001b[1;33m    print('We should have enough time for our family\")\u001b[0m\n\u001b[1;37m          ^\u001b[0m\n\u001b[1;31mSyntaxError\u001b[0m\u001b[1;31m:\u001b[0m unterminated string literal (detected at line 1)\n"
     ]
    }
   ],
   "source": [
    "print('We should have enough time for our family\")\n",
    "# tek tırnakla başlayıp çiftle bittiği için hata verir"
   ]
  },
  {
   "cell_type": "code",
   "execution_count": 31,
   "metadata": {
    "colab": {
     "base_uri": "https://localhost:8080/"
    },
    "id": "Sm556DktpFGT",
    "outputId": "5722944a-cd6a-493a-e308-9f9a295e7561"
   },
   "outputs": [
    {
     "name": "stdout",
     "output_type": "stream",
     "text": [
      "first line\n",
      "\n",
      "third line\n"
     ]
    }
   ],
   "source": [
    "print('first line')\n",
    "print()\n",
    "print('third line')"
   ]
  },
  {
   "cell_type": "code",
   "execution_count": 32,
   "metadata": {
    "colab": {
     "base_uri": "https://localhost:8080/"
    },
    "id": "n1VWBorJppVt",
    "outputId": "914f82fd-0d74-4c82-d23e-82a2f76ea682"
   },
   "outputs": [
    {
     "name": "stdout",
     "output_type": "stream",
     "text": [
      "\n",
      "\n"
     ]
    }
   ],
   "source": [
    "print()\n",
    "print('') # iki boş satır çıktı verir..."
   ]
  },
  {
   "cell_type": "code",
   "execution_count": 33,
   "metadata": {
    "colab": {
     "base_uri": "https://localhost:8080/"
    },
    "id": "gQfJVaf5pxHW",
    "outputId": "9559b837-1df1-4c23-ab4e-8c97d2215897"
   },
   "outputs": [
    {
     "name": "stdout",
     "output_type": "stream",
     "text": [
      "first line\n",
      "second line\n"
     ]
    }
   ],
   "source": [
    "print('first line')\n",
    "print(\"second line\")\n"
   ]
  },
  {
   "cell_type": "markdown",
   "metadata": {
    "id": "MXLI6eRdrB_W"
   },
   "source": [
    "# PEP 8 - Python Kodlama Stili Rehberi\n",
    "\n",
    "## Kod Düzeni\n",
    "\n",
    "    Satır uzunluğu en fazla 79 karakter olmalı.\n",
    "    Fonksiyon ve sınıf tanımları arasında iki boşluk bırakılmalı.\n",
    "    Sınıf içi metodlar arasında bir boşluk bırakılmalı.\n",
    "\n",
    "## Girintileme\n",
    "\n",
    "    Girintileme için 4 boşluk kullanılmalı (tab kullanılmamalı).\n",
    "    \n",
    "## Satır Sonu Karakterleri\n",
    "\n",
    "    Unix stili satır sonu karakterleri (LF) kullanılmalı.\n",
    "    \n",
    "## Kod Yapısı\n",
    "\n",
    "    İçe aktarımlar (import) her zaman dosyanın en başında olmalı.\n",
    "    İçe aktarımlar standart kütüphaneler, üçüncü parti kütüphaneler ve yerel kütüphaneler sırasıyla üç ayrı blokta yapılmalı.\n",
    "    \n",
    "## Boşluk Kullanımı\n",
    "\n",
    "    Fonksiyon çağrılarında ve dizinlerde parantez içlerinde boşluk bırakılmamalı: func(a, b) veya list[index].\n",
    "    Atama operatörünün etrafında bir boşluk bırakılmalı: x = 1.\n",
    "    \n",
    "## Yorum Satırları\n",
    "\n",
    "    Yorumlar güncel ve anlamlı olmalı, kodu açıklamalı.\n",
    "    Satır içi yorumlardan kaçınılmalı.\n",
    "    Blok yorumlar ve tek satırlık yorumlar uygun şekilde kullanılmalı.\n",
    "    \n",
    "## Dokümantasyon Dizgeleri (Docstrings)\n",
    "\n",
    "    Tüm genel modüller, fonksiyonlar, sınıflar ve metodlar docstring içermeli.\n",
    "    Docstringler, üç tırnak işareti içinde olmalı: \"\"\"Example\"\"\".\n",
    "\n",
    "## Adlandırma Kuralları\n",
    "\n",
    "\n",
    "    Fonksiyon ve değişken adları küçük harflerle ve gerektiğinde alt çizgi ile ayrılmış olmalı: my_function.\n",
    "    Sınıf adları CamelCase kullanılmalı: MyClass.\n",
    "    Sabitler büyük harflerle ve alt çizgi ile ayrılmış olmalı: MY_CONSTANT.\n",
    "\n",
    "## Kod Organizasyonu\n",
    "\n",
    "    Sınıflar ve üst seviye fonksiyonlar modülün başında yer almalı.\n",
    "    Ana kod bloğu if __name__ == \"__main__\": koşulu içinde bulunmalı.\n",
    "\n",
    "## İstisna Yönetimi\n",
    "\n",
    "    İstisnalar try-except blokları ile yönetilmeli.\n",
    "    Belirli istisna türleri yakalanmalı ve gerektiğinde finally bloğu kullanılmalı."
   ]
  },
  {
   "cell_type": "code",
   "execution_count": 34,
   "metadata": {
    "colab": {
     "base_uri": "https://localhost:8080/"
    },
    "id": "EeASZGye0HFs",
    "outputId": "24407e2e-9af5-460c-f2da-7a30471dcc0f"
   },
   "outputs": [
    {
     "name": "stdout",
     "output_type": "stream",
     "text": [
      "hello world\n"
     ]
    }
   ],
   "source": [
    "print(\"hello world\")  # Bu benim code ile aynı satırda olan ilk comment'im \n",
    "                      # inline comment\n",
    "# Single comment: satırda hiçbir code yoksa olur... Like this\n",
    "# print(\"hello\") burada ctl / (slash) yaparak satırın tamamını commente çevirdim.\n",
    "# ctrl / tekrar çalıştırılırsa commenti tekrar eski haline çevirir.\n",
    "# Bir satırda hem cod hem de commentler varsa buna multi-line comment denir.\n",
    "# comment: neccesary, sufficient and updated olmalı\n"
   ]
  },
  {
   "cell_type": "markdown",
   "metadata": {
    "id": "m_d1nUqnWG9S"
   },
   "source": [
    "Docstring: ._doc_ comment'ten farklı olarak daha çok metin ve açıklamanın yer aldığı açıklama bölümüne benzer metinlerdir. fonksiyonun dokümantasyonu anlamına gelir. print.__doc__ yazdığımız zaman print fonksiyonunun açıklamasına ulaşabiliriz."
   ]
  },
  {
   "cell_type": "code",
   "execution_count": 35,
   "metadata": {
    "colab": {
     "base_uri": "https://localhost:8080/",
     "height": 72
    },
    "id": "wjo9pdbGX3nH",
    "outputId": "19f0be99-e3b2-46e7-83ec-f1789abdbe58"
   },
   "outputs": [
    {
     "data": {
      "text/plain": [
       "'Prints the values to a stream, or to sys.stdout by default.\\n\\n  sep\\n    string inserted between values, default a space.\\n  end\\n    string appended after the last value, default a newline.\\n  file\\n    a file-like object (stream); defaults to the current sys.stdout.\\n  flush\\n    whether to forcibly flush the stream.'"
      ]
     },
     "execution_count": 35,
     "metadata": {},
     "output_type": "execute_result"
    }
   ],
   "source": [
    "print.__doc__"
   ]
  },
  {
   "cell_type": "code",
   "execution_count": 36,
   "metadata": {
    "colab": {
     "base_uri": "https://localhost:8080/"
    },
    "id": "2POhfKwCX9OO",
    "outputId": "05725989-b02b-4e91-efed-de5cff59156f"
   },
   "outputs": [
    {
     "name": "stdout",
     "output_type": "stream",
     "text": [
      "Prints the values to a stream, or to sys.stdout by default.\n",
      "\n",
      "  sep\n",
      "    string inserted between values, default a space.\n",
      "  end\n",
      "    string appended after the last value, default a newline.\n",
      "  file\n",
      "    a file-like object (stream); defaults to the current sys.stdout.\n",
      "  flush\n",
      "    whether to forcibly flush the stream.\n"
     ]
    }
   ],
   "source": [
    "print(print.__doc__) # bu şekilde de görebiliriz."
   ]
  },
  {
   "cell_type": "code",
   "execution_count": 37,
   "metadata": {
    "id": "U9AnX88HYLmg"
   },
   "outputs": [
    {
     "name": "stdout",
     "output_type": "stream",
     "text": [
      "map(func, *iterables) --> map object\n",
      "\n",
      "Make an iterator that computes the function using arguments from\n",
      "each of the iterables.  Stops when the shortest iterable is exhausted.\n"
     ]
    }
   ],
   "source": [
    "print(map.__doc__)"
   ]
  },
  {
   "cell_type": "code",
   "execution_count": 38,
   "metadata": {
    "id": "e29mk0b1Y0IT"
   },
   "outputs": [
    {
     "name": "stdout",
     "output_type": "stream",
     "text": [
      "Return the sum of a 'start' value (default: 0) plus an iterable of numbers\n",
      "\n",
      "When the iterable is empty, return the start value.\n",
      "This function is intended specifically for use with numeric values and may\n",
      "reject non-numeric types.\n"
     ]
    }
   ],
   "source": [
    "print(sum.__doc__)"
   ]
  },
  {
   "cell_type": "code",
   "execution_count": 39,
   "metadata": {
    "id": "uHjDzCM1Y9xi"
   },
   "outputs": [
    {
     "name": "stdout",
     "output_type": "stream",
     "text": [
      "Forward raw_input to frontends\n",
      "\n",
      "        Raises\n",
      "        ------\n",
      "        StdinNotImplementedError if active frontend doesn't support stdin.\n",
      "        \n"
     ]
    }
   ],
   "source": [
    "print(input.__doc__)"
   ]
  },
  {
   "cell_type": "code",
   "execution_count": 40,
   "metadata": {
    "id": "f8bY0z1WgjeO"
   },
   "outputs": [
    {
     "name": "stdout",
     "output_type": "stream",
     "text": [
      "dfgdf\n"
     ]
    },
    {
     "data": {
      "text/plain": [
       "'dfgdf'"
      ]
     },
     "execution_count": 40,
     "metadata": {},
     "output_type": "execute_result"
    }
   ],
   "source": [
    "input()"
   ]
  },
  {
   "cell_type": "markdown",
   "metadata": {
    "id": "HkAdWE1JZqLj"
   },
   "source": [
    "NAMİNG VARİABLE\n",
    "****küçük harfler kullanılır, büyük harf tercih edilmez, sözcükler arasında _ kullanılır, küçük L kullanılmaz, büyük \"O\" 0 ile karışabilir, bunların hepsi çalışır ama kafa karıştırır. Python a ait belli keywordleri kullanmamalıyız. keyword lerin rengi farklı oluyor zaten.\n",
    "**** Python case sensitive dir. Yani büyük harf küçük harf duyarlıdır. Büyük harf ve küçük harf birbirinden farklıdır.\n",
    "****İsimler rakamla başlayamaz, arada rakam olabilir, aralarında boşluk olmaz, özel karakterler kullanılmaz\n"
   ]
  },
  {
   "cell_type": "code",
   "execution_count": 41,
   "metadata": {
    "id": "UAwuAipjZDDa"
   },
   "outputs": [
    {
     "name": "stdout",
     "output_type": "stream",
     "text": [
      "11\n",
      "22.5\n",
      "otuz üç\n"
     ]
    }
   ],
   "source": [
    "# variable_name = value\n",
    "x = 11\n",
    "print(x)\n",
    "y = 22.5\n",
    "print(y)\n",
    "z = \"otuz üç\"\n",
    "print(z)"
   ]
  },
  {
   "cell_type": "code",
   "execution_count": 42,
   "metadata": {
    "id": "ElkEWtbva2KY"
   },
   "outputs": [
    {
     "name": "stdout",
     "output_type": "stream",
     "text": [
      "30\n"
     ]
    }
   ],
   "source": [
    "my_age = 33\n",
    "your_age = 30\n",
    "my_age = your_age # son atanan değişken değeri güncel olur. Sağdaki değeri eşittirin soluna atar.\n",
    "print(my_age)\n"
   ]
  },
  {
   "cell_type": "code",
   "execution_count": 43,
   "metadata": {
    "id": "XIYLM-bEbxhD"
   },
   "outputs": [
    {
     "name": "stdout",
     "output_type": "stream",
     "text": [
      "14\n"
     ]
    }
   ],
   "source": [
    "x = 10\n",
    "x = 12\n",
    "x = 13\n",
    "x = 14\n",
    "print(x) # x e atanan en son değeri çıktı alır."
   ]
  },
  {
   "cell_type": "code",
   "execution_count": 44,
   "metadata": {
    "id": "IZyk_JWqfUsX"
   },
   "outputs": [
    {
     "name": "stdout",
     "output_type": "stream",
     "text": [
      "21 21 21\n"
     ]
    }
   ],
   "source": [
    "xx = 11\n",
    "yy = 21\n",
    "zz = 15\n",
    "xx = yy\n",
    "zz = xx\n",
    "print(xx,yy,zz)"
   ]
  },
  {
   "cell_type": "code",
   "execution_count": 45,
   "metadata": {
    "id": "gXP-70IpgIcO"
   },
   "outputs": [],
   "source": [
    "cht = 14"
   ]
  },
  {
   "cell_type": "code",
   "execution_count": 46,
   "metadata": {
    "id": "9alWQ6lii1wk"
   },
   "outputs": [
    {
     "ename": "SyntaxError",
     "evalue": "invalid syntax (531735285.py, line 1)",
     "output_type": "error",
     "traceback": [
      "\u001b[1;36m  Cell \u001b[1;32mIn[46], line 1\u001b[1;36m\u001b[0m\n\u001b[1;33m    cht%/&%tsc = 15\u001b[0m\n\u001b[1;37m        ^\u001b[0m\n\u001b[1;31mSyntaxError\u001b[0m\u001b[1;31m:\u001b[0m invalid syntax\n"
     ]
    }
   ],
   "source": [
    "cht%/&%tsc = 15"
   ]
  },
  {
   "cell_type": "code",
   "execution_count": 47,
   "metadata": {
    "id": "hdAGFy-xi8oZ"
   },
   "outputs": [],
   "source": [
    "yağmur = \"sağanak\" # ğ gibi Türkçe karakterlerde problem çıkarmadığını görüyoruz."
   ]
  },
  {
   "cell_type": "code",
   "execution_count": 48,
   "metadata": {
    "id": "jbL2HKbQjDdt"
   },
   "outputs": [],
   "source": [
    "# Name okunabilir, anlamlı ve değerle uyumlu olarak verilmelidir."
   ]
  },
  {
   "cell_type": "code",
   "execution_count": 49,
   "metadata": {
    "id": "jydhmzyIjpva"
   },
   "outputs": [],
   "source": [
    "# Average incom of February\n",
    "avg_income_feb = \"....\""
   ]
  },
  {
   "cell_type": "markdown",
   "metadata": {
    "id": "vWN6d_fsr_8p"
   },
   "source": [
    "BASİC DATA TYPES"
   ]
  },
  {
   "cell_type": "markdown",
   "metadata": {
    "id": "n1c6hYzis5Sa"
   },
   "source": [
    "Integer"
   ]
  },
  {
   "cell_type": "markdown",
   "metadata": {
    "id": "Zb1D3sZ1sMl9"
   },
   "source": [
    "String"
   ]
  },
  {
   "cell_type": "markdown",
   "metadata": {
    "id": "LWkjm13gsbx8"
   },
   "source": [
    "Numeric:"
   ]
  },
  {
   "cell_type": "markdown",
   "metadata": {
    "id": "qz8BUKqNs45O"
   },
   "source": [
    "Float"
   ]
  },
  {
   "cell_type": "markdown",
   "metadata": {
    "id": "sowW9jPqsdlr"
   },
   "source": [
    "Boolean"
   ]
  },
  {
   "cell_type": "code",
   "execution_count": 50,
   "metadata": {
    "id": "6g7Sutc_j6Am"
   },
   "outputs": [
    {
     "name": "stdout",
     "output_type": "stream",
     "text": [
      "31 28 31 30 31 30 31 31 30 31 30 31\n"
     ]
    }
   ],
   "source": [
    "january = march = may = july = august = october = december = 31\n",
    "april = june = september = november = 30\n",
    "february = 28\n",
    "print(january, february, march, april, may, june, july, august, september, october, november, december)"
   ]
  },
  {
   "cell_type": "code",
   "execution_count": 51,
   "metadata": {
    "id": "ttWWxIA9r1g-"
   },
   "outputs": [
    {
     "name": "stdout",
     "output_type": "stream",
     "text": [
      "31 28 31 30 31 30 31 31 30 31 30 31\n"
     ]
    }
   ],
   "source": [
    "january,march,may,july,august,october,december = 31,31,31,31,31,31,31\n",
    "april,june,september,november = 30,30,30,30\n",
    "february = 28\n",
    "print(january, february, march, april, may, june, july, august, september, october, november, december)"
   ]
  },
  {
   "cell_type": "code",
   "execution_count": 52,
   "metadata": {
    "id": "94KsVu_VuTYH"
   },
   "outputs": [
    {
     "ename": "SyntaxError",
     "evalue": "cannot assign to literal here. Maybe you meant '==' instead of '='? (1743511231.py, line 1)",
     "output_type": "error",
     "traceback": [
      "\u001b[1;36m  Cell \u001b[1;32mIn[52], line 1\u001b[1;36m\u001b[0m\n\u001b[1;33m    11 = 12\u001b[0m\n\u001b[1;37m    ^\u001b[0m\n\u001b[1;31mSyntaxError\u001b[0m\u001b[1;31m:\u001b[0m cannot assign to literal here. Maybe you meant '==' instead of '='?\n"
     ]
    }
   ],
   "source": [
    "11 = 12\n",
    "print(11)"
   ]
  },
  {
   "cell_type": "code",
   "execution_count": 53,
   "metadata": {
    "id": "SMotxZu1vJY-"
   },
   "outputs": [],
   "source": [
    "thomas = 33\n",
    "marry = 28\n",
    "walter = None # Bir değişkeni boş bırakıp daha sonra kullanmak istiyorsam\n",
    "              #  None değeri atarım...\n",
    "isabella = 46"
   ]
  },
  {
   "cell_type": "code",
   "execution_count": 54,
   "metadata": {
    "id": "jzQ4yL0gvrq6"
   },
   "outputs": [
    {
     "name": "stdout",
     "output_type": "stream",
     "text": [
      "apple.com\n",
      "clarusway.com\n"
     ]
    }
   ],
   "source": [
    "website =\"apple.com\"\n",
    "print(website)\n",
    "website = \"clarusway.com\"\n",
    "print(website) # Bir değişkene sonradan burada olduğu gibi yeni bir değer atayabiliriz."
   ]
  },
  {
   "cell_type": "code",
   "execution_count": 55,
   "metadata": {
    "id": "PP1pcOAlrqcR"
   },
   "outputs": [
    {
     "data": {
      "text/plain": [
       "'clarusway.com'"
      ]
     },
     "execution_count": 55,
     "metadata": {},
     "output_type": "execute_result"
    }
   ],
   "source": [
    "website"
   ]
  },
  {
   "cell_type": "code",
   "execution_count": 56,
   "metadata": {
    "id": "RITUCxEWxTUW"
   },
   "outputs": [
    {
     "name": "stdout",
     "output_type": "stream",
     "text": [
      "16 12 15\n"
     ]
    }
   ],
   "source": [
    "x = 11\n",
    "y = 12\n",
    "z = 13\n",
    "x = 14\n",
    "z = 15\n",
    "x = 16\n",
    "print(x,y,z)"
   ]
  },
  {
   "cell_type": "code",
   "execution_count": 57,
   "metadata": {
    "id": "qMkRIZa8x8C1"
   },
   "outputs": [
    {
     "name": "stdout",
     "output_type": "stream",
     "text": [
      "5\n",
      "3.2\n",
      "Hello\n"
     ]
    }
   ],
   "source": [
    "a, b , c = 5, 3.2, \"Hello\" # eşitliğin iki tarafındaki değişken ve değer sayısı eşit olacak.\n",
    "print(a)\n",
    "print(b)\n",
    "print(c)"
   ]
  },
  {
   "cell_type": "code",
   "execution_count": 58,
   "metadata": {
    "id": "jSOuapqdybhE"
   },
   "outputs": [
    {
     "data": {
      "text/plain": [
       "str"
      ]
     },
     "execution_count": 58,
     "metadata": {},
     "output_type": "execute_result"
    }
   ],
   "source": [
    "my_text = \"Being a good person\"\n",
    "my_text = 'Being a good person'\n",
    "my_text = '''Being a good person''' # string iterable dır. yani elemanlarına teker teker ayrılabilir.\n",
    "# string veri tırnaklarla yapılır\n",
    "type(my_text) # bir değikenin type'ını yandaki type fonksiyonuyla öğrenebiliriz.\n",
    "# str: string değerlerin type ıdır."
   ]
  },
  {
   "cell_type": "code",
   "execution_count": 59,
   "metadata": {
    "id": "y5w91xLF1LYP"
   },
   "outputs": [
    {
     "name": "stdout",
     "output_type": "stream",
     "text": [
      "632\n"
     ]
    }
   ],
   "source": [
    "x = 632\n",
    "print(x)"
   ]
  },
  {
   "cell_type": "code",
   "execution_count": 60,
   "metadata": {
    "id": "vWwTdq_P1y36"
   },
   "outputs": [
    {
     "name": "stdout",
     "output_type": "stream",
     "text": [
      "<class 'int'>\n"
     ]
    }
   ],
   "source": [
    "print(type(x))"
   ]
  },
  {
   "cell_type": "code",
   "execution_count": 61,
   "metadata": {
    "id": "FkQ7DRxj2DHq"
   },
   "outputs": [
    {
     "name": "stdout",
     "output_type": "stream",
     "text": [
      "40 -18\n",
      "<class 'int'> <class 'int'>\n"
     ]
    }
   ],
   "source": [
    "# integer tamsayılardır. int\n",
    "\n",
    "my_integer = 40\n",
    "negative_integer = -18\n",
    "print(my_integer,negative_integer)\n",
    "print(type(my_integer),type(negative_integer))"
   ]
  },
  {
   "cell_type": "code",
   "execution_count": 62,
   "metadata": {
    "id": "ggPZwdCf2ycR"
   },
   "outputs": [
    {
     "name": "stdout",
     "output_type": "stream",
     "text": [
      "40.0 -18.66\n",
      "<class 'float'> <class 'float'>\n"
     ]
    }
   ],
   "source": [
    "# float ondalık sayılardır. float\n",
    "my_float = 40.0\n",
    "negative_float = -18.66\n",
    "print(my_float,negative_float)\n",
    "print(type(my_float),type(negative_float))"
   ]
  },
  {
   "cell_type": "code",
   "execution_count": 63,
   "metadata": {
    "id": "FvBi45ig3LJo"
   },
   "outputs": [],
   "source": [
    "# Herhangi bir değişkenin değeri True veya False ise o bir bloolean'dır.\n"
   ]
  },
  {
   "cell_type": "markdown",
   "metadata": {
    "id": "CgLWjJUQ5S4a"
   },
   "source": [
    "TYPE CONVERSİON YANİ VERİ TÜRLERİNİN BİRBİRİNE DÖNDÜRÜLMESİ\n"
   ]
  },
  {
   "cell_type": "code",
   "execution_count": 65,
   "metadata": {
    "id": "xxdNcf2MzJbH"
   },
   "outputs": [
    {
     "name": "stdout",
     "output_type": "stream",
     "text": [
      "Lütfen adınızı giriniz:a\n",
      "Lütfen adınızı giriniz:b\n",
      "Lütfen adınızı giriniz:r\n",
      "Lütfen adınızı giriniz:t\n",
      "Lütfen adınızı giriniz:y\n",
      "Lütfen adınızı giriniz:u\n",
      "Lütfen adınızı giriniz:ı\n",
      "Lütfen adınızı giriniz:o\n",
      "Lütfen adınızı giriniz:p\n",
      "Kuramız sona erdi\n",
      "Lütfen kurayı sonlandırın!\n",
      "Tebrikler o! Günün takım lideri sensin!\n"
     ]
    }
   ],
   "source": [
    "import random\n",
    "\n",
    "namelist = []\n",
    "while len(namelist) < 9:\n",
    "    namelist.append(input(\"Lütfen adınızı giriniz:\"))\n",
    "    if len(namelist) == 9:\n",
    "        print(\"Kuramız sona erdi\")\n",
    "nameindex = random.randint(0, len(namelist))\n",
    "input(\"Lütfen kurayı sonlandırın!\")\n",
    "print('Tebrikler {}! Günün takım lideri sensin!'.format(namelist[nameindex]))\n",
    "\n"
   ]
  },
  {
   "cell_type": "code",
   "execution_count": 66,
   "metadata": {
    "id": "v2hsR8iZlmTD"
   },
   "outputs": [
    {
     "name": "stdout",
     "output_type": "stream",
     "text": [
      "Lütfen adınızı giriniz:g\n",
      "Lütfen adınızı giriniz:g\n",
      "Kuramız sona erdi\n",
      "Lütfen kurayı sonlandırın!g\n",
      "İyi iş g. Günün takım lideri sensin!\n"
     ]
    }
   ],
   "source": [
    "import random\n",
    "\n",
    "namelist = []\n",
    "while True:\n",
    "    namelist.append(input(\"Lütfen adınızı giriniz:\"))  #Stored in namelist[0]\n",
    "    if len(namelist) == 2:\n",
    "        print(\"Kuramız sona erdi\")\n",
    "        break\n",
    "nameindex = random.randint(0, len(namelist))\n",
    "input(\"Lütfen kurayı sonlandırın!\")\n",
    "print('İyi iş {}. Günün takım lideri sensin!'.format(namelist[nameindex]))\n"
   ]
  },
  {
   "cell_type": "code",
   "execution_count": 67,
   "metadata": {
    "id": "Pf5an8aLUt5k"
   },
   "outputs": [
    {
     "name": "stdout",
     "output_type": "stream",
     "text": [
      "[(2019, 'Freshman'), (2020, 'Sophomore'), (2021, 'Junior'), (2022, 'Senior')]\n"
     ]
    }
   ],
   "source": [
    "college_years = ['Freshman', 'Sophomore', 'Junior', 'Senior']\n",
    "print(list(enumerate(college_years, 2019)))"
   ]
  },
  {
   "cell_type": "code",
   "execution_count": 68,
   "metadata": {
    "id": "VV4ArsWxTzXD"
   },
   "outputs": [
    {
     "data": {
      "text/plain": [
       "'hasan'"
      ]
     },
     "execution_count": 68,
     "metadata": {},
     "output_type": "execute_result"
    }
   ],
   "source": [
    "liste = [\"ali\", \"veli\",\"hasan\"]\n",
    "liste[-1]"
   ]
  },
  {
   "cell_type": "code",
   "execution_count": 69,
   "metadata": {
    "id": "wHwHU_As5XFw"
   },
   "outputs": [
    {
     "name": "stdout",
     "output_type": "stream",
     "text": [
      "True\n",
      "<class 'float'>\n",
      "3.14\n",
      "<class 'str'>\n"
     ]
    }
   ],
   "source": [
    "my_data = \"I am string\"\n",
    "# str() bu şekilde her türlü veriyi stringe çevirebiliriz.\n",
    "# int()\n",
    "# float()\n",
    "print(str(True))\n",
    "pi = 3.14\n",
    "print(type(pi))\n",
    "converted_str = str(pi)\n",
    "print(converted_str)\n",
    "print(type(converted_str))"
   ]
  },
  {
   "cell_type": "code",
   "execution_count": 70,
   "metadata": {
    "id": "3VvrWp8mLJjF"
   },
   "outputs": [
    {
     "name": "stdout",
     "output_type": "stream",
     "text": [
      "<class 'float'>\n",
      "1.0\n",
      "True\n"
     ]
    }
   ],
   "source": [
    "print(type(float(True)))\n",
    "print(float(True))\n",
    "print(True)"
   ]
  },
  {
   "cell_type": "code",
   "execution_count": 71,
   "metadata": {
    "id": "XOnAcJEO6TW5"
   },
   "outputs": [
    {
     "name": "stdout",
     "output_type": "stream",
     "text": [
      "<class 'float'>\n",
      "3\n",
      "<class 'int'>\n"
     ]
    }
   ],
   "source": [
    "# from float to integer' a dönüştürürken ondalık kısmı yuvarlar yani\n",
    "# virgülden sonrasını tamamen atar.\n",
    "pi = 3.14\n",
    "print(type(pi))\n",
    "converted_pi = int(pi)\n",
    "print(converted_pi)\n",
    "print(type(converted_pi))"
   ]
  },
  {
   "cell_type": "code",
   "execution_count": 72,
   "metadata": {
    "id": "4bSKk06k70rn"
   },
   "outputs": [
    {
     "name": "stdout",
     "output_type": "stream",
     "text": [
      "10\n",
      "<class 'int'>\n",
      "3.0\n",
      "<class 'float'>\n"
     ]
    }
   ],
   "source": [
    "# from integer to float and string: String'in içindeki tam sayı rakamla olursa döndürür, diğer durumlarda döndürmez.\n",
    "a = \"10\"\n",
    "print(int(a))\n",
    "x = 3\n",
    "print(type(x))\n",
    "converted_x = float(x)\n",
    "print(converted_x)\n",
    "print(type(converted_x))"
   ]
  },
  {
   "cell_type": "code",
   "execution_count": 73,
   "metadata": {
    "id": "y1pgI6C49VMB"
   },
   "outputs": [
    {
     "name": "stdout",
     "output_type": "stream",
     "text": [
      "11\n",
      "<class 'str'>\n",
      "<class 'int'>\n"
     ]
    }
   ],
   "source": [
    "b = \"11\" # String değeri başka bir değişkene atamazsak type yine string olur\n",
    "         # Ancak döndürmek istediğimiz veri tipinin sonucunu çıkrı alabiliriz.\n",
    "print(int(b))\n",
    "print(type(b))\n",
    "c = int(b)\n",
    "print(type(c))"
   ]
  },
  {
   "cell_type": "code",
   "execution_count": 74,
   "metadata": {
    "id": "wTE2KeWqwz7M"
   },
   "outputs": [
    {
     "name": "stdout",
     "output_type": "stream",
     "text": [
      "2.5\n",
      "<class 'str'>\n",
      "<class 'float'>\n"
     ]
    }
   ],
   "source": [
    "alfa = \"2.5\"\n",
    "print(float(alfa))\n",
    "print(type(alfa))\n",
    "beta = float(alfa)\n",
    "print(type(beta))"
   ]
  },
  {
   "cell_type": "code",
   "execution_count": 75,
   "metadata": {
    "id": "VY68kA2lxlc7"
   },
   "outputs": [
    {
     "ename": "TypeError",
     "evalue": "unsupported operand type(s) for +: 'int' and 'str'",
     "output_type": "error",
     "traceback": [
      "\u001b[1;31m---------------------------------------------------------------------------\u001b[0m",
      "\u001b[1;31mTypeError\u001b[0m                                 Traceback (most recent call last)",
      "Cell \u001b[1;32mIn[75], line 1\u001b[0m\n\u001b[1;32m----> 1\u001b[0m \u001b[38;5;241m3\u001b[39m \u001b[38;5;241m+\u001b[39m \u001b[38;5;124m\"\u001b[39m\u001b[38;5;124m3\u001b[39m\u001b[38;5;124m\"\u001b[39m\n",
      "\u001b[1;31mTypeError\u001b[0m: unsupported operand type(s) for +: 'int' and 'str'"
     ]
    }
   ],
   "source": [
    "3 + \"3\" # Error"
   ]
  },
  {
   "cell_type": "code",
   "execution_count": 78,
   "metadata": {
    "id": "3W-uCvVfM0vA"
   },
   "outputs": [
    {
     "name": "stdout",
     "output_type": "stream",
     "text": [
      "What is your first number? 85\n",
      "What is your second number? 789\n",
      "What is your third number? 54\n",
      "[85, 789, 54]\n",
      "Now I will remove the 3rd number\n",
      "54  has been removed\n",
      "The list now looks like  [85, 789]\n"
     ]
    }
   ],
   "source": [
    "num1 = int(input(\"What is your first number? \"))\n",
    "num2 = int(input(\"What is your second number? \"))\n",
    "num3 = int(input(\"What is your third number? \"))\n",
    "numlist = [num1, num2, num3]\n",
    "print(numlist)\n",
    "print(\"Now I will remove the 3rd number\")\n",
    "print(numlist.pop(2) , \" has been removed\") # pop() metodu listenin son elemanını kalıcı olarak kaldırır\n",
    "print(\"The list now looks like \" , str(numlist))  # ya da pop(2) 2. index'tekini kaldırır"
   ]
  },
  {
   "cell_type": "code",
   "execution_count": 79,
   "metadata": {
    "id": "6N1YrydvzKWX"
   },
   "outputs": [
    {
     "data": {
      "text/plain": [
       "6"
      ]
     },
     "execution_count": 79,
     "metadata": {},
     "output_type": "execute_result"
    }
   ],
   "source": [
    "3 + int(\"3\")"
   ]
  },
  {
   "cell_type": "code",
   "execution_count": 80,
   "metadata": {
    "id": "vYubbQOvzW3K"
   },
   "outputs": [
    {
     "data": {
      "text/plain": [
       "'33'"
      ]
     },
     "execution_count": 80,
     "metadata": {},
     "output_type": "execute_result"
    }
   ],
   "source": [
    "str(3) + \"3\""
   ]
  },
  {
   "cell_type": "code",
   "execution_count": 81,
   "metadata": {
    "id": "cx5PuqCgzbwx"
   },
   "outputs": [
    {
     "data": {
      "text/plain": [
       "6.0"
      ]
     },
     "execution_count": 81,
     "metadata": {},
     "output_type": "execute_result"
    }
   ],
   "source": [
    "3 + float(\"3\") # Float bir değerle işlem yapıldığında sonucu her zaman float olacaktır."
   ]
  },
  {
   "cell_type": "markdown",
   "metadata": {
    "id": "FrIjNGHikkwm"
   },
   "source": [
    "SIMPLE OPERATION\n"
   ]
  },
  {
   "cell_type": "markdown",
   "metadata": {
    "id": "LJkgYEp-lcsB"
   },
   "source": [
    "Aritmetic Operators"
   ]
  },
  {
   "cell_type": "code",
   "execution_count": 82,
   "metadata": {
    "id": "OaA6NXOUlhLz"
   },
   "outputs": [],
   "source": [
    "# / Bölme işlemidir ve sonucu Float olarak verir.\n",
    "# // Bölme işlemidir ve tam sayı olarak bölümü verir\n",
    "#  % Bölme işlemidir. Mod alma denir. Bölmede kalanı verir.\n",
    "# modulus 2 de kalan 1 ise tektir, kalan 0 ise çiftttir."
   ]
  },
  {
   "cell_type": "code",
   "execution_count": 83,
   "metadata": {
    "id": "9tOdW5gGm84R"
   },
   "outputs": [
    {
     "data": {
      "text/plain": [
       "10.0"
      ]
     },
     "execution_count": 83,
     "metadata": {},
     "output_type": "execute_result"
    }
   ],
   "source": [
    "20 / 2"
   ]
  },
  {
   "cell_type": "code",
   "execution_count": 84,
   "metadata": {
    "id": "zwmWBGmlmvOn"
   },
   "outputs": [
    {
     "data": {
      "text/plain": [
       "9"
      ]
     },
     "execution_count": 84,
     "metadata": {},
     "output_type": "execute_result"
    }
   ],
   "source": [
    "29 // 3\n"
   ]
  },
  {
   "cell_type": "code",
   "execution_count": 85,
   "metadata": {
    "id": "tpexLrN_-u96"
   },
   "outputs": [
    {
     "data": {
      "text/plain": [
       "10"
      ]
     },
     "execution_count": 85,
     "metadata": {},
     "output_type": "execute_result"
    }
   ],
   "source": [
    "31 // 3"
   ]
  },
  {
   "cell_type": "code",
   "execution_count": 86,
   "metadata": {
    "id": "f6H0uTogm3VB"
   },
   "outputs": [
    {
     "data": {
      "text/plain": [
       "1"
      ]
     },
     "execution_count": 86,
     "metadata": {},
     "output_type": "execute_result"
    }
   ],
   "source": [
    "21 % 2\n"
   ]
  },
  {
   "cell_type": "code",
   "execution_count": 87,
   "metadata": {
    "id": "5A3kJm60nFDJ"
   },
   "outputs": [
    {
     "data": {
      "text/plain": [
       "2"
      ]
     },
     "execution_count": 87,
     "metadata": {},
     "output_type": "execute_result"
    }
   ],
   "source": [
    "29 % 3"
   ]
  },
  {
   "cell_type": "code",
   "execution_count": 88,
   "metadata": {
    "id": "WRZKl7UgnJv5"
   },
   "outputs": [
    {
     "name": "stdout",
     "output_type": "stream",
     "text": [
      "4\n"
     ]
    }
   ],
   "source": [
    "print(11-7)"
   ]
  },
  {
   "cell_type": "code",
   "execution_count": 89,
   "metadata": {
    "id": "SfxKhSKpoAiE"
   },
   "outputs": [
    {
     "name": "stdout",
     "output_type": "stream",
     "text": [
      "15.0\n"
     ]
    }
   ],
   "source": [
    "print(4+11.0)"
   ]
  },
  {
   "cell_type": "code",
   "execution_count": 90,
   "metadata": {
    "id": "wQjAB_i0oC3a"
   },
   "outputs": [
    {
     "name": "stdout",
     "output_type": "stream",
     "text": [
      "11-7\n"
     ]
    }
   ],
   "source": [
    "print('11-7')"
   ]
  },
  {
   "cell_type": "code",
   "execution_count": 91,
   "metadata": {
    "id": "VizzeObgoGlQ"
   },
   "outputs": [
    {
     "ename": "TypeError",
     "evalue": "can only concatenate str (not \"int\") to str",
     "output_type": "error",
     "traceback": [
      "\u001b[1;31m---------------------------------------------------------------------------\u001b[0m",
      "\u001b[1;31mTypeError\u001b[0m                                 Traceback (most recent call last)",
      "Cell \u001b[1;32mIn[91], line 1\u001b[0m\n\u001b[1;32m----> 1\u001b[0m \u001b[38;5;28mprint\u001b[39m(\u001b[38;5;124m'\u001b[39m\u001b[38;5;124m4\u001b[39m\u001b[38;5;124m'\u001b[39m \u001b[38;5;241m+\u001b[39m \u001b[38;5;241m4\u001b[39m)\n",
      "\u001b[1;31mTypeError\u001b[0m: can only concatenate str (not \"int\") to str"
     ]
    }
   ],
   "source": [
    "print('4' + 4) # hata verir çünkü bir str ile int toplanamaz. İkisinin de aynı type olması gerekir."
   ]
  },
  {
   "cell_type": "code",
   "execution_count": 92,
   "metadata": {
    "id": "rjbiu_3AoIVp"
   },
   "outputs": [
    {
     "name": "stdout",
     "output_type": "stream",
     "text": [
      "78.5\n"
     ]
    }
   ],
   "source": [
    "pi = 3.14 # dairenin alanını hesaplayalım.\n",
    "r = 5\n",
    "area = pi * r**2\n",
    "print(area)"
   ]
  },
  {
   "cell_type": "code",
   "execution_count": 93,
   "metadata": {
    "id": "FHQSzGBWphFi"
   },
   "outputs": [
    {
     "name": "stdout",
     "output_type": "stream",
     "text": [
      "1\n",
      "10.0\n"
     ]
    }
   ],
   "source": [
    "print(11%2)\n",
    "print(4*5/2)"
   ]
  },
  {
   "cell_type": "code",
   "execution_count": 94,
   "metadata": {
    "id": "8LAGPzHyq25o"
   },
   "outputs": [
    {
     "name": "stdout",
     "output_type": "stream",
     "text": [
      "1\n",
      "9\n",
      "4.0\n"
     ]
    }
   ],
   "source": [
    "print(1**3)\n",
    "print(3**2)\n",
    "a = 2\n",
    "b = 8\n",
    "print((a*b)**0.5)"
   ]
  },
  {
   "cell_type": "code",
   "execution_count": 95,
   "metadata": {
    "id": "NCD6X_z4rV7D"
   },
   "outputs": [
    {
     "data": {
      "text/plain": [
       "0"
      ]
     },
     "execution_count": 95,
     "metadata": {},
     "output_type": "execute_result"
    }
   ],
   "source": [
    "a = 0\n",
    "a"
   ]
  },
  {
   "cell_type": "code",
   "execution_count": 96,
   "metadata": {
    "id": "PJYTbO5usdWe"
   },
   "outputs": [
    {
     "data": {
      "text/plain": [
       "1"
      ]
     },
     "execution_count": 96,
     "metadata": {},
     "output_type": "execute_result"
    }
   ],
   "source": [
    "a = a + 1\n",
    "a"
   ]
  },
  {
   "cell_type": "code",
   "execution_count": 97,
   "metadata": {
    "id": "HSzQ5A0Hsf46"
   },
   "outputs": [
    {
     "data": {
      "text/plain": [
       "2"
      ]
     },
     "execution_count": 97,
     "metadata": {},
     "output_type": "execute_result"
    }
   ],
   "source": [
    "a = a +1\n",
    "a"
   ]
  },
  {
   "cell_type": "code",
   "execution_count": 98,
   "metadata": {
    "id": "CXiKU4rcPxCW"
   },
   "outputs": [
    {
     "data": {
      "text/plain": [
       "3"
      ]
     },
     "execution_count": 98,
     "metadata": {},
     "output_type": "execute_result"
    }
   ],
   "source": [
    "a = a + 1\n",
    "a"
   ]
  },
  {
   "cell_type": "code",
   "execution_count": 99,
   "metadata": {
    "id": "4HouMarUslky"
   },
   "outputs": [
    {
     "data": {
      "text/plain": [
       "4"
      ]
     },
     "execution_count": 99,
     "metadata": {},
     "output_type": "execute_result"
    }
   ],
   "source": [
    "b = 4\n",
    "b"
   ]
  },
  {
   "cell_type": "code",
   "execution_count": 100,
   "metadata": {
    "id": "yva6YXE9s2tm"
   },
   "outputs": [
    {
     "data": {
      "text/plain": [
       "3"
      ]
     },
     "execution_count": 100,
     "metadata": {},
     "output_type": "execute_result"
    }
   ],
   "source": [
    "b = b - 1\n",
    "b"
   ]
  },
  {
   "cell_type": "code",
   "execution_count": 101,
   "metadata": {
    "id": "YvJ8gM6Qs72O"
   },
   "outputs": [
    {
     "data": {
      "text/plain": [
       "2"
      ]
     },
     "execution_count": 101,
     "metadata": {},
     "output_type": "execute_result"
    }
   ],
   "source": [
    "b = b -1\n",
    "b"
   ]
  },
  {
   "cell_type": "code",
   "execution_count": 102,
   "metadata": {
    "id": "1RmnFFGus-ki"
   },
   "outputs": [
    {
     "data": {
      "text/plain": [
       "1"
      ]
     },
     "execution_count": 102,
     "metadata": {},
     "output_type": "execute_result"
    }
   ],
   "source": [
    "b = b - 1\n",
    "b"
   ]
  },
  {
   "cell_type": "code",
   "execution_count": 103,
   "metadata": {
    "id": "sJ8lK1X0tB9i"
   },
   "outputs": [
    {
     "data": {
      "text/plain": [
       "2"
      ]
     },
     "execution_count": 103,
     "metadata": {},
     "output_type": "execute_result"
    }
   ],
   "source": [
    "c = 2\n",
    "c"
   ]
  },
  {
   "cell_type": "code",
   "execution_count": 104,
   "metadata": {
    "id": "YeeLsF3ath4a"
   },
   "outputs": [
    {
     "data": {
      "text/plain": [
       "4"
      ]
     },
     "execution_count": 104,
     "metadata": {},
     "output_type": "execute_result"
    }
   ],
   "source": [
    "c = c * 2\n",
    "c"
   ]
  },
  {
   "cell_type": "code",
   "execution_count": 105,
   "metadata": {
    "id": "2TZn8XMZtlsS"
   },
   "outputs": [
    {
     "data": {
      "text/plain": [
       "8"
      ]
     },
     "execution_count": 105,
     "metadata": {},
     "output_type": "execute_result"
    }
   ],
   "source": [
    "c = c*2\n",
    "c"
   ]
  },
  {
   "cell_type": "code",
   "execution_count": 106,
   "metadata": {
    "id": "T_kMphsCtolG"
   },
   "outputs": [],
   "source": [
    "# n = n + 1   ==  n += 1 bu diğer bütün aritmetic operatorlerimizde geçerlidir\n",
    "# İşlem öncelik sırası: önce parantez, son power ** yani üslere bakar,\n",
    "# sonra negatif sayıları parantez içinde gibi algılar, sonra çarpma * ve bölme /,\n",
    "# daha sonra toplama ve çıkarma işlemlerini yapar."
   ]
  },
  {
   "cell_type": "code",
   "execution_count": 107,
   "metadata": {
    "id": "hhJCwwwpwU2H"
   },
   "outputs": [
    {
     "name": "stdout",
     "output_type": "stream",
     "text": [
      "5.0\n"
     ]
    }
   ],
   "source": [
    "a = 3\n",
    "b = 4\n",
    "c = (a ** 2 + b ** 2) ** 0.5\n",
    "print(c)"
   ]
  },
  {
   "cell_type": "code",
   "execution_count": 108,
   "metadata": {
    "id": "VDZuHDgtQmvq"
   },
   "outputs": [
    {
     "data": {
      "text/plain": [
       "5.0"
      ]
     },
     "execution_count": 108,
     "metadata": {},
     "output_type": "execute_result"
    }
   ],
   "source": [
    "25**0.5"
   ]
  },
  {
   "cell_type": "code",
   "execution_count": 109,
   "metadata": {},
   "outputs": [
    {
     "data": {
      "text/plain": [
       "8"
      ]
     },
     "execution_count": 109,
     "metadata": {},
     "output_type": "execute_result"
    }
   ],
   "source": [
    "2**3"
   ]
  },
  {
   "cell_type": "markdown",
   "metadata": {
    "id": "SNWHRElGxqT8"
   },
   "source": [
    "OPERATİON WİTH PRİNT FUNCTİON"
   ]
  },
  {
   "cell_type": "code",
   "execution_count": 110,
   "metadata": {
    "id": "7wy7TAMdxutv"
   },
   "outputs": [],
   "source": [
    "# print() in içine hem değişkeni hem de değeri yazarak çıktı alabiliriz.\n",
    "# print(value, ..., sep=' ', end='\\n', file=sys.stdout, flush=False) value: içine yazılmasını istediğimiz şeylerdir.\n",
    "# sep='' default u space tir. tanımlama yapılırsa sep='+++' şeklindeki gibi boşluk değil value arasına +++ koyar.\n",
    "# end='\\n' default u new line dır. yani kabaca enter tuşuna basmaktır.\n"
   ]
  },
  {
   "cell_type": "code",
   "execution_count": 111,
   "metadata": {
    "id": "2aLWd4cNRNWG"
   },
   "outputs": [
    {
     "name": "stdout",
     "output_type": "stream",
     "text": [
      "11----***----cihat\n"
     ]
    }
   ],
   "source": [
    "print(\"11----\",  \"----cihat\",sep= \"***\")"
   ]
  },
  {
   "cell_type": "code",
   "execution_count": 112,
   "metadata": {
    "id": "DnP14rJZ4emy"
   },
   "outputs": [
    {
     "name": "stdout",
     "output_type": "stream",
     "text": [
      "ahmet mehmet sevilay\n",
      "ahmet-mehmet-sevilay\n",
      "ahmet+++mehmet+++sevilay\n"
     ]
    }
   ],
   "source": [
    "print(\"ahmet\", \"mehmet\", \"sevilay\")\n",
    "print(\"ahmet\", \"mehmet\", \"sevilay\", sep='-')\n",
    "print(\"ahmet\", \"mehmet\", \"sevilay\", sep='+++')"
   ]
  },
  {
   "cell_type": "code",
   "execution_count": 113,
   "metadata": {
    "id": "g0_G7vxq5EMe"
   },
   "outputs": [
    {
     "name": "stdout",
     "output_type": "stream",
     "text": [
      "ahmet\n",
      "mehmet\n",
      "sevilay\n"
     ]
    }
   ],
   "source": [
    "print(\"ahmet\", \"mehmet\", \"sevilay\", sep='\\n')"
   ]
  },
  {
   "cell_type": "code",
   "execution_count": 114,
   "metadata": {
    "id": "iwtBDG7Q56YG"
   },
   "outputs": [
    {
     "name": "stdout",
     "output_type": "stream",
     "text": [
      "ahmet-mehmet sevilay\n",
      "sevilay\n"
     ]
    }
   ],
   "source": [
    "print(\"ahmet\", end='-')\n",
    "print(\"mehmet\", end=' ')\n",
    "print(\"sevilay\")\n",
    "print(\"sevilay\")"
   ]
  },
  {
   "cell_type": "code",
   "execution_count": 115,
   "metadata": {
    "id": "4qA_x6vv6zeX"
   },
   "outputs": [
    {
     "name": "stdout",
     "output_type": "stream",
     "text": [
      "clarusway\n",
      "\n",
      "istanbul\n",
      "\n",
      "\n",
      "end ile aslında satıra bir  enter vurmuş oldum\n"
     ]
    }
   ],
   "source": [
    "print(\"clarusway\", end='\\n\\n')\n",
    "print('istanbul',end='\\n\\n\\n')\n",
    "print(\"end ile aslında satıra bir  enter vurmuş oldum\")"
   ]
  },
  {
   "cell_type": "markdown",
   "metadata": {
    "id": "cpI_FCI0Ku7J"
   },
   "source": [
    "ESCAPE SEQUENCES\n"
   ]
  },
  {
   "cell_type": "code",
   "execution_count": 116,
   "metadata": {
    "id": "izAruIUpJEDK"
   },
   "outputs": [
    {
     "name": "stdout",
     "output_type": "stream",
     "text": [
      "\"\n",
      "C:\\\n",
      "orth pole\n",
      "oise_penguins.txt\n",
      "_ _ _ _ _ _ _ _ _\n",
      "first\tsecond\tthird\n"
     ]
    }
   ],
   "source": [
    "# \\n means newline\n",
    "# \\t means tab mark\n",
    "# \\b means backspace. It moves the cursor one charecter to the left\n",
    "print(\"\\\"\")\n",
    "print('C:\\\\\\north pole\\noise_penguins.txt') # \\\\ çift backslash olunca normal str olmuş oluyor.\n",
    "print(\"_ _ _ _ _ _ _ _ _\")\n",
    "print('first', 'second', 'third', sep='\\t')"
   ]
  },
  {
   "cell_type": "markdown",
   "metadata": {
    "id": "409LN0R2MoQV"
   },
   "source": [
    "BOOLEAN OPERATİON"
   ]
  },
  {
   "cell_type": "code",
   "execution_count": 117,
   "metadata": {
    "id": "18rQcs7DMsgH"
   },
   "outputs": [],
   "source": [
    "# True veya False value alır.\n",
    "# and operatörü: Bir satırda hepsi True ise and en sondaki(sağdaki) değeri verir. Aksi halde ilk False' döndürür.\n",
    "# Yani bir tane bile False varsa False'a çevirir. Birden fazla False varsa o zaman ilk False döndürür.\n",
    "\n",
    "# or operatörü eğer hepsi False ise en sondakini verir. Eğer bir tane bile True varsa ilk True yu verir.\n",
    "\n",
    "# not operatörü önüne geldiği ifadeyi tersine döndürür. yani True'nun önüne gelirse False yapar; False'ın önüne gelirse True yapar\n",
    "\n",
    "#  Order of priority: 1- not 2- and 3-or ama eğer parantez varsa öncelik tabiki parantezindir."
   ]
  },
  {
   "cell_type": "markdown",
   "metadata": {
    "id": "pUvZ7UBrQVdp"
   },
   "source": [
    "Falsy Values in Python"
   ]
  },
  {
   "cell_type": "code",
   "execution_count": 118,
   "metadata": {
    "id": "9mYmFeFCQYqU"
   },
   "outputs": [],
   "source": [
    "# Python'da her değerin bir truty veya falsy değeri vardır.\n",
    "# None\n",
    "# Zero: 0, 0.0, 0j\n",
    "# ''(Boş str), [] (Boş list), {} (Boş dictionary) falsy'dir.\n",
    "\n",
    "# Geri kalan her şey Truety dir."
   ]
  },
  {
   "cell_type": "code",
   "execution_count": 119,
   "metadata": {
    "id": "SfMGXLTFRIwZ"
   },
   "outputs": [
    {
     "data": {
      "text/plain": [
       "True"
      ]
     },
     "execution_count": 119,
     "metadata": {},
     "output_type": "execute_result"
    }
   ],
   "source": [
    "1 and True"
   ]
  },
  {
   "cell_type": "code",
   "execution_count": 120,
   "metadata": {
    "id": "k7LBW50S5SyQ"
   },
   "outputs": [
    {
     "data": {
      "text/plain": [
       "0"
      ]
     },
     "execution_count": 120,
     "metadata": {},
     "output_type": "execute_result"
    }
   ],
   "source": [
    "1 and 1 and 1 and 1 and 0"
   ]
  },
  {
   "cell_type": "code",
   "execution_count": 121,
   "metadata": {
    "id": "NPrILihATlYO"
   },
   "outputs": [
    {
     "data": {
      "text/plain": [
       "3"
      ]
     },
     "execution_count": 121,
     "metadata": {},
     "output_type": "execute_result"
    }
   ],
   "source": [
    "2 and 3"
   ]
  },
  {
   "cell_type": "code",
   "execution_count": 122,
   "metadata": {
    "id": "_ljYF_U9T1x3"
   },
   "outputs": [
    {
     "data": {
      "text/plain": [
       "0"
      ]
     },
     "execution_count": 122,
     "metadata": {},
     "output_type": "execute_result"
    }
   ],
   "source": [
    "0 and 1"
   ]
  },
  {
   "cell_type": "code",
   "execution_count": 123,
   "metadata": {
    "id": "paBVuscZT42Q"
   },
   "outputs": [
    {
     "data": {
      "text/plain": [
       "1"
      ]
     },
     "execution_count": 123,
     "metadata": {},
     "output_type": "execute_result"
    }
   ],
   "source": [
    "3 and 2 and 1"
   ]
  },
  {
   "cell_type": "code",
   "execution_count": 124,
   "metadata": {
    "id": "FY9Ph4gET8I4"
   },
   "outputs": [
    {
     "data": {
      "text/plain": [
       "False"
      ]
     },
     "execution_count": 124,
     "metadata": {},
     "output_type": "execute_result"
    }
   ],
   "source": [
    "bool(\"\") # String verinin içinde boş elemanolduğu için False verdi"
   ]
  },
  {
   "cell_type": "code",
   "execution_count": 125,
   "metadata": {
    "id": "gzHqpyr_UKw6"
   },
   "outputs": [
    {
     "data": {
      "text/plain": [
       "True"
      ]
     },
     "execution_count": 125,
     "metadata": {},
     "output_type": "execute_result"
    }
   ],
   "source": [
    "bool(\" \") # burada stringin içinde space değeri olduğu için boş değil. Bu nedenle True verdi."
   ]
  },
  {
   "cell_type": "code",
   "execution_count": 126,
   "metadata": {
    "id": "EO-EtHCOUfnt"
   },
   "outputs": [
    {
     "data": {
      "text/plain": [
       "False"
      ]
     },
     "execution_count": 126,
     "metadata": {},
     "output_type": "execute_result"
    }
   ],
   "source": [
    "bool(0.0)"
   ]
  },
  {
   "cell_type": "code",
   "execution_count": 127,
   "metadata": {
    "id": "XWaTb7uOUi0B"
   },
   "outputs": [
    {
     "data": {
      "text/plain": [
       "False"
      ]
     },
     "execution_count": 127,
     "metadata": {},
     "output_type": "execute_result"
    }
   ],
   "source": [
    "bool(0j)"
   ]
  },
  {
   "cell_type": "code",
   "execution_count": 128,
   "metadata": {
    "id": "2e0p2PANUoUl"
   },
   "outputs": [
    {
     "data": {
      "text/plain": [
       "False"
      ]
     },
     "execution_count": 128,
     "metadata": {},
     "output_type": "execute_result"
    }
   ],
   "source": [
    "bool(0)"
   ]
  },
  {
   "cell_type": "code",
   "execution_count": 129,
   "metadata": {
    "id": "40DpJfM9UyFx"
   },
   "outputs": [
    {
     "name": "stdout",
     "output_type": "stream",
     "text": [
      "hello world\n",
      "[]\n",
      "None\n"
     ]
    }
   ],
   "source": [
    "print(2 and \"hello world\")\n",
    "print([] and \"be happy\")\n",
    "print(None and ())"
   ]
  },
  {
   "cell_type": "code",
   "execution_count": 130,
   "metadata": {
    "id": "-INi3MgKVQrV"
   },
   "outputs": [
    {
     "data": {
      "text/plain": [
       "False"
      ]
     },
     "execution_count": 130,
     "metadata": {},
     "output_type": "execute_result"
    }
   ],
   "source": [
    "bool(()) # boş tupple da False"
   ]
  },
  {
   "cell_type": "code",
   "execution_count": 131,
   "metadata": {
    "id": "9ySpO90SVZvM"
   },
   "outputs": [
    {
     "data": {
      "text/plain": [
       "2"
      ]
     },
     "execution_count": 131,
     "metadata": {},
     "output_type": "execute_result"
    }
   ],
   "source": [
    "2 or 3"
   ]
  },
  {
   "cell_type": "code",
   "execution_count": 132,
   "metadata": {
    "id": "PUfpaUmzWUYd"
   },
   "outputs": [
    {
     "data": {
      "text/plain": [
       "1"
      ]
     },
     "execution_count": 132,
     "metadata": {},
     "output_type": "execute_result"
    }
   ],
   "source": [
    "None or 1"
   ]
  },
  {
   "cell_type": "code",
   "execution_count": 133,
   "metadata": {
    "id": "evhfUbqwWeza"
   },
   "outputs": [
    {
     "ename": "NameError",
     "evalue": "name 'none' is not defined",
     "output_type": "error",
     "traceback": [
      "\u001b[1;31m---------------------------------------------------------------------------\u001b[0m",
      "\u001b[1;31mNameError\u001b[0m                                 Traceback (most recent call last)",
      "Cell \u001b[1;32mIn[133], line 1\u001b[0m\n\u001b[1;32m----> 1\u001b[0m none \u001b[38;5;129;01mor\u001b[39;00m \u001b[38;5;241m1\u001b[39m\n",
      "\u001b[1;31mNameError\u001b[0m: name 'none' is not defined"
     ]
    }
   ],
   "source": [
    "none or 1 # \"none\" yazıma dikkat"
   ]
  },
  {
   "cell_type": "code",
   "execution_count": 134,
   "metadata": {
    "id": "wf9FkF1IWrKu"
   },
   "outputs": [
    {
     "data": {
      "text/plain": [
       "'none'"
      ]
     },
     "execution_count": 134,
     "metadata": {},
     "output_type": "execute_result"
    }
   ],
   "source": [
    "\"none\" or 1"
   ]
  },
  {
   "cell_type": "code",
   "execution_count": 135,
   "metadata": {
    "id": "9ndltO0gXKLf"
   },
   "outputs": [
    {
     "name": "stdout",
     "output_type": "stream",
     "text": [
      "2\n",
      "be happy\n",
      "0\n",
      "{0}\n",
      "True\n"
     ]
    }
   ],
   "source": [
    "print(2 or \"hello world\")\n",
    "print([] or \"be happy\")\n",
    "print({} or 0)\n",
    "print({0} or False)\n",
    "print(bool({0}))"
   ]
  },
  {
   "cell_type": "code",
   "execution_count": 136,
   "metadata": {
    "id": "uIYk7d1jXhBI"
   },
   "outputs": [
    {
     "data": {
      "text/plain": [
       "True"
      ]
     },
     "execution_count": 136,
     "metadata": {},
     "output_type": "execute_result"
    }
   ],
   "source": [
    "True or False and \"False\"and not \"False\" and 0"
   ]
  },
  {
   "cell_type": "code",
   "execution_count": 137,
   "metadata": {
    "id": "3xDn0HIEYZwO"
   },
   "outputs": [
    {
     "data": {
      "text/plain": [
       "True"
      ]
     },
     "execution_count": 137,
     "metadata": {},
     "output_type": "execute_result"
    }
   ],
   "source": [
    "not (\"None\" or None) and False or (\"and\" and not ()) # örneği atomlarına parçalayalım"
   ]
  },
  {
   "cell_type": "code",
   "execution_count": 138,
   "metadata": {
    "id": "jdozjJ2uZeiC"
   },
   "outputs": [
    {
     "data": {
      "text/plain": [
       "True"
      ]
     },
     "execution_count": 138,
     "metadata": {},
     "output_type": "execute_result"
    }
   ],
   "source": [
    "not \"None\" and False or True"
   ]
  },
  {
   "cell_type": "code",
   "execution_count": 139,
   "metadata": {
    "id": "mWDPJWDqZrNo"
   },
   "outputs": [
    {
     "data": {
      "text/plain": [
       "True"
      ]
     },
     "execution_count": 139,
     "metadata": {},
     "output_type": "execute_result"
    }
   ],
   "source": [
    "False and False or True"
   ]
  },
  {
   "cell_type": "code",
   "execution_count": 140,
   "metadata": {
    "id": "N2g7tYL8ZyHd"
   },
   "outputs": [
    {
     "data": {
      "text/plain": [
       "True"
      ]
     },
     "execution_count": 140,
     "metadata": {},
     "output_type": "execute_result"
    }
   ],
   "source": [
    "False or True"
   ]
  },
  {
   "cell_type": "code",
   "execution_count": 141,
   "metadata": {
    "id": "OPH-_QURbnnV"
   },
   "outputs": [
    {
     "name": "stdout",
     "output_type": "stream",
     "text": [
      "[]\n"
     ]
    }
   ],
   "source": [
    "print(False or {0} and [])"
   ]
  },
  {
   "cell_type": "code",
   "execution_count": 142,
   "metadata": {
    "id": "PTk4X6D6bsA8"
   },
   "outputs": [
    {
     "data": {
      "text/plain": [
       "[]"
      ]
     },
     "execution_count": 142,
     "metadata": {},
     "output_type": "execute_result"
    }
   ],
   "source": [
    "{0} and []"
   ]
  },
  {
   "cell_type": "code",
   "execution_count": 143,
   "metadata": {
    "id": "w23C9Hldbz4t"
   },
   "outputs": [
    {
     "data": {
      "text/plain": [
       "[]"
      ]
     },
     "execution_count": 143,
     "metadata": {},
     "output_type": "execute_result"
    }
   ],
   "source": [
    "False or []"
   ]
  },
  {
   "cell_type": "markdown",
   "metadata": {
    "id": "QGkG53TCcP7T"
   },
   "source": [
    "THE STRENGTH OF THE STRİNG"
   ]
  },
  {
   "cell_type": "code",
   "execution_count": 144,
   "metadata": {
    "id": "yTDz05wMcVda"
   },
   "outputs": [
    {
     "name": "stdout",
     "output_type": "stream",
     "text": [
      "A\n",
      "L\n",
      "I\n"
     ]
    }
   ],
   "source": [
    "# İNDEXİNG :\n",
    "# Stringler iterable dır. (Yani elemanlarına ayrılabilir.) Bu nedenle elemanlarını değerin içinden seçip çıkarabiliriz.\n",
    "print(\"ALI\"[0]) # index no 0 dan başlar.\n",
    "print(\"ALI\"[1])\n",
    "print(\"ALI\"[2])"
   ]
  },
  {
   "cell_type": "code",
   "execution_count": 145,
   "metadata": {
    "id": "03MQvchSeALv"
   },
   "outputs": [
    {
     "name": "stdout",
     "output_type": "stream",
     "text": [
      "h\n"
     ]
    }
   ],
   "source": [
    "isim = \"cihat\" #Değişkene bir değer atandıktan sonra değişken adıyla da indexleme yapılabilir.\n",
    "print(isim[2])"
   ]
  },
  {
   "cell_type": "code",
   "execution_count": 146,
   "metadata": {
    "id": "8az1iKz1eisV"
   },
   "outputs": [
    {
     "data": {
      "text/plain": [
       "'-w'"
      ]
     },
     "execution_count": 146,
     "metadata": {},
     "output_type": "execute_result"
    }
   ],
   "source": [
    "# SLİCİNG:\n",
    "# [start:stop:step] Start slice'lamaya dahildir ancak stop numarası dahil değildir. Step kaçarlı olarak ilerleneceğini gösterir.\n",
    "\"clarus-way\"[6:8]\n"
   ]
  },
  {
   "cell_type": "code",
   "execution_count": 147,
   "metadata": {
    "id": "OrKfrmr9f2c_"
   },
   "outputs": [
    {
     "name": "stdout",
     "output_type": "stream",
     "text": [
      "Word                 :  Orange\n",
      "First letter         :  O\n",
      "Second letter        :  r\n",
      "3rd to 5th letters   :  ang\n",
      "Letter all after 3rd :  ange\n"
     ]
    }
   ],
   "source": [
    "fruit = \"Orange\"\n",
    "print(\"Word                 : \", fruit)\n",
    "print(\"First letter         : \", fruit[0])\n",
    "print(\"Second letter        : \", fruit[1])\n",
    "print(\"3rd to 5th letters   : \", fruit[2:5])\n",
    "print(\"Letter all after 3rd : \", fruit[2:])"
   ]
  },
  {
   "cell_type": "code",
   "execution_count": 148,
   "metadata": {
    "id": "bRmFHCE1hkjg"
   },
   "outputs": [],
   "source": [
    "# [:] Baştan en sona git. 1 er 1 er.\n",
    "# [2:5] 2 den başla 5-1'e kadar 1'er 1'er git.\n",
    "# [2:10:2] 2'den başla 10-1'e kadar 2'şer e'şer git."
   ]
  },
  {
   "cell_type": "markdown",
   "metadata": {
    "id": "jvjWsCn_icD8"
   },
   "source": [
    "input() FUNCTİON"
   ]
  },
  {
   "cell_type": "code",
   "execution_count": 149,
   "metadata": {
    "id": "557vanYYiZAK"
   },
   "outputs": [
    {
     "name": "stdout",
     "output_type": "stream",
     "text": [
      "bir sayı giriniz :54\n"
     ]
    }
   ],
   "source": [
    "sayı = input(\"bir sayı giriniz :\")"
   ]
  },
  {
   "cell_type": "code",
   "execution_count": 150,
   "metadata": {
    "id": "X38nZ3YbioTq"
   },
   "outputs": [
    {
     "name": "stdout",
     "output_type": "stream",
     "text": [
      "54\n"
     ]
    }
   ],
   "source": [
    "print(sayı)"
   ]
  },
  {
   "cell_type": "code",
   "execution_count": 151,
   "metadata": {
    "id": "4Qeb2vnAisVL"
   },
   "outputs": [
    {
     "data": {
      "text/plain": [
       "str"
      ]
     },
     "execution_count": 151,
     "metadata": {},
     "output_type": "execute_result"
    }
   ],
   "source": [
    "type(sayı) # input() fonksiyonu; eğer değerin type'ını belirtmezsek str olarak algılar."
   ]
  },
  {
   "cell_type": "code",
   "execution_count": 152,
   "metadata": {
    "id": "QkX4AdJRi881"
   },
   "outputs": [
    {
     "name": "stdout",
     "output_type": "stream",
     "text": [
      "Bir rakam giriniz :4\n"
     ]
    }
   ],
   "source": [
    "rakam = int(input(\"Bir rakam giriniz :\"))"
   ]
  },
  {
   "cell_type": "code",
   "execution_count": 153,
   "metadata": {
    "id": "U45iPCcDjG2m"
   },
   "outputs": [
    {
     "name": "stdout",
     "output_type": "stream",
     "text": [
      "4\n"
     ]
    }
   ],
   "source": [
    "print(rakam)"
   ]
  },
  {
   "cell_type": "code",
   "execution_count": 154,
   "metadata": {
    "id": "woEqPfA3jIz8"
   },
   "outputs": [
    {
     "data": {
      "text/plain": [
       "int"
      ]
     },
     "execution_count": 154,
     "metadata": {},
     "output_type": "execute_result"
    }
   ],
   "source": [
    "type(rakam)"
   ]
  },
  {
   "cell_type": "code",
   "execution_count": 155,
   "metadata": {
    "id": "kYSJIlsOjLu7"
   },
   "outputs": [
    {
     "name": "stdout",
     "output_type": "stream",
     "text": [
      "hoenix\n",
      "Phoeni\n",
      "Ponx\n",
      "hei\n",
      "nix\n",
      "xineohP\n"
     ]
    }
   ],
   "source": [
    "city = 'Phoenix'\n",
    "print(city[1:]) # 1 Den başla sonuna kadar git\n",
    "print(city[:6]) # baştan başla 5 e kadar git\n",
    "print(city[::2]) # baştan başla, sonuna kadar 2'şerli olarak git\n",
    "print(city[1::2]) # 1'den başla sonuna kadar 2'şerli olarak git\n",
    "print(city[-3:]) # -3 ten başla sonuna kadar git. negative indexing\n",
    "print(city[::-1]) # negativ olarak en sağdan başla ve en başa gel"
   ]
  },
  {
   "cell_type": "markdown",
   "metadata": {
    "id": "AriB5U1vLk9C"
   },
   "source": [
    "Negative İndexing"
   ]
  },
  {
   "cell_type": "code",
   "execution_count": 156,
   "metadata": {
    "id": "rgvBqvSoLIvG"
   },
   "outputs": [
    {
     "name": "stdout",
     "output_type": "stream",
     "text": [
      "O\n",
      "e\n",
      "ran\n",
      "egnarO\n",
      "e\n",
      "enr\n",
      "gna\n",
      "ang\n",
      "gna\n",
      "\n"
     ]
    }
   ],
   "source": [
    "fruit = \"Orange\"\n",
    "print(fruit[-6])\n",
    "print(fruit[-1])\n",
    "print(fruit[-5:-2])\n",
    "print(fruit[::-1])\n",
    "print(fruit[-1])\n",
    "print(fruit[::-2])\n",
    "print(fruit[-2:-5:-1])\n",
    "print(fruit[-4:-1:])\n",
    "print(fruit[4:1:-1])\n",
    "print(fruit[-3:-6]) # boş string değeri verir. Çünkü step negatif oloarak belirtilmemiş bu nedenle pozitif alıyor.\n",
    "# Ancak pozitif aralıkta karşılığı yok."
   ]
  },
  {
   "cell_type": "markdown",
   "metadata": {
    "id": "Soy72GXUPLdH"
   },
   "source": [
    "len() FUNCTİON"
   ]
  },
  {
   "cell_type": "code",
   "execution_count": 157,
   "metadata": {
    "id": "HA2rA9xrL0qW"
   },
   "outputs": [
    {
     "data": {
      "text/plain": [
       "6"
      ]
     },
     "execution_count": 157,
     "metadata": {},
     "output_type": "execute_result"
    }
   ],
   "source": [
    "#  iterable bir değerin uzunluğunu verire.\n",
    "len('orange')"
   ]
  },
  {
   "cell_type": "code",
   "execution_count": 158,
   "metadata": {
    "id": "rVnVZvRqQCS_"
   },
   "outputs": [
    {
     "name": "stdout",
     "output_type": "stream",
     "text": [
      "length of the word  tomato is :  6\n"
     ]
    }
   ],
   "source": [
    "vegetable = 'tomato'\n",
    "print('length of the word ', vegetable, 'is : ', len(vegetable))"
   ]
  },
  {
   "cell_type": "markdown",
   "metadata": {
    "id": "hIm8pojlQzbE"
   },
   "source": [
    "STRİNG FORMATTİNG WİTH ARİTHMETİC SYNTAX"
   ]
  },
  {
   "cell_type": "code",
   "execution_count": 159,
   "metadata": {
    "id": "HF8fYQNgQZAR"
   },
   "outputs": [
    {
     "name": "stdout",
     "output_type": "stream",
     "text": [
      "uppercase\n",
      "uppercaseuppercaseuppercase\n",
      "u p p e r\n"
     ]
    }
   ],
   "source": [
    "print('upper' + 'case')\n",
    "print('uppercase' * 3)\n",
    "print(*'upper') # soluna asterix (*) koyduğumuz zaman elemanlarını iterate eder ve görünür hâle getirir.\n"
   ]
  },
  {
   "cell_type": "code",
   "execution_count": 160,
   "metadata": {
    "id": "EXz0US6qTBKS"
   },
   "outputs": [
    {
     "name": "stdout",
     "output_type": "stream",
     "text": [
      "I   a m   a n g r y . . .\n",
      "1 4 5 3\n",
      "j o s e p h @ c l a r u s w a y . c o m\n"
     ]
    }
   ],
   "source": [
    "string_1 = 'I am angry...'\n",
    "string_2 = '1453'\n",
    "print(*string_1)\n",
    "print(*string_2)\n",
    "print(*'joseph@clarusway.com') # space stringin bir karakteridir. eleman olarak onu da algılar"
   ]
  },
  {
   "cell_type": "code",
   "execution_count": 161,
   "metadata": {
    "id": "2FdNJosrV71L"
   },
   "outputs": [
    {
     "name": "stdout",
     "output_type": "stream",
     "text": [
      "uppercase\n",
      "uppercaseletter\n",
      "uppercaseletterend\n"
     ]
    }
   ],
   "source": [
    "str_one = 'upper'\n",
    "str_one += 'case'\n",
    "print(str_one) # uppercase\n",
    "str_one += 'letter'\n",
    "print(str_one) # uppercaseletter\n",
    "str_one += 'end'\n",
    "print(str_one) # uppercaseletterend"
   ]
  },
  {
   "cell_type": "markdown",
   "metadata": {
    "id": "S0EPMY51aML5"
   },
   "source": [
    "\"string\".format() METHOD"
   ]
  },
  {
   "cell_type": "code",
   "execution_count": 162,
   "metadata": {
    "id": "15dIBq-JZruD"
   },
   "outputs": [],
   "source": [
    "# 'string {} string {} string'.format(data1, data2) data1= 0. index, data2 = 1. index\n",
    "# index numaralarını {} içine yazarak da formatlama yapabiliriz. Ancak .format() metodunda\n",
    "# eğer bir atama yapmazsak index nu sırasıyla atanır."
   ]
  },
  {
   "cell_type": "code",
   "execution_count": 163,
   "metadata": {
    "id": "woTMBPyubZVJ"
   },
   "outputs": [
    {
     "name": "stdout",
     "output_type": "stream",
     "text": [
      "The amount of Orange and Tomato we bought is 4 pounds.\n"
     ]
    }
   ],
   "source": [
    "fruit = 'Orange'\n",
    "vegetable = 'Tomato'\n",
    "amount = 4\n",
    "print('The amount of {} and {} we bought is {} pounds.'\\\n",
    "      .format(fruit, vegetable, amount))"
   ]
  },
  {
   "cell_type": "code",
   "execution_count": 164,
   "metadata": {
    "id": "0RiAMKTzb5ui"
   },
   "outputs": [
    {
     "name": "stdout",
     "output_type": "stream",
     "text": [
      "California is the most crowded state of the USA.\n"
     ]
    }
   ],
   "source": [
    "print('{state} is the most {adjective} state of the {country}.'\\\n",
    "      .format(state = 'California', country = 'USA', adjective = 'crowded'))\n",
    "# değişken formatın içinde tanımlanabilir. {} içine değişken adı yazılarak da formatlama yapılabilir. Buna:\n",
    "# keyword, argument denir. Süslü parantezin içi boşsa sıra önemlidir."
   ]
  },
  {
   "cell_type": "code",
   "execution_count": 165,
   "metadata": {
    "id": "pfaJ6LA5ctkb"
   },
   "outputs": [
    {
     "name": "stdout",
     "output_type": "stream",
     "text": [
      "California is the most crowded state of the USA.\n"
     ]
    }
   ],
   "source": [
    "state = 'California'\n",
    "country = 'USA'\n",
    "adjective = 'crowded'\n",
    "\n",
    "print('{0} is the most {2} state of the {1}.'.format(state, country, adjective))\n",
    "# ******SONUÇ OLARAK*****\n",
    "# 1- Parantezin içinde tanımladığım değişkenleri süslü parantez içine yazarak çıktı alabilirim.\n",
    "# 2- Dışarıda tanımladığım değişkenleri, süslü parantez içine index numarası yazarak çıktı alabilirim.\n",
    "# 3- Dışarıda tanımladığım değişkenleri, Positional olarak sırayla atama yaptırabilirim."
   ]
  },
  {
   "cell_type": "code",
   "execution_count": 166,
   "metadata": {
    "id": "tj36vTn0gBHR"
   },
   "outputs": [
    {
     "name": "stdout",
     "output_type": "stream",
     "text": [
      "California is the most crowded state of the USA.\n"
     ]
    }
   ],
   "source": [
    "#  Mix olarak hepsini gösterelim\n",
    "print('{} is the most {adjective} state of the {}.'\\\n",
    "      .format('California', 'USA', adjective = 'crowded'))\n",
    "# positional keyword ler önce yazılmak zorunda yoksa hata verir.Eğer adjective değişkenini önce yazsak hata verecekti."
   ]
  },
  {
   "cell_type": "code",
   "execution_count": 167,
   "metadata": {
    "id": "9GxQF1J6hBJP"
   },
   "outputs": [
    {
     "name": "stdout",
     "output_type": "stream",
     "text": [
      "California is the most crowded state of the USA.\n"
     ]
    }
   ],
   "source": [
    "print('{0} is the most {2} state of the {1}.'.format('California', 'USA', 'crowded'))"
   ]
  },
  {
   "cell_type": "code",
   "execution_count": 168,
   "metadata": {
    "id": "oRvhXdmqhGLn"
   },
   "outputs": [
    {
     "name": "stdout",
     "output_type": "stream",
     "text": [
      "California is the most crowded state of the USA.\n"
     ]
    }
   ],
   "source": [
    "print('{} is the most {} state of the {}.'.format('California', 'crowded', 'USA'))"
   ]
  },
  {
   "cell_type": "code",
   "execution_count": 169,
   "metadata": {
    "id": "-xZgQT382heB"
   },
   "outputs": [
    {
     "name": "stdout",
     "output_type": "stream",
     "text": [
      "12 - Feb - Feb\n"
     ]
    }
   ],
   "source": [
    "print(\"{no} - {month} - {month}\".format(no = \"12\", month = \"Feb\"))\n",
    "# Bir değişkeni bir kaç süslü paranteze atayabilirim."
   ]
  },
  {
   "cell_type": "markdown",
   "metadata": {
    "id": "mLCkrAyX6LeD"
   },
   "source": [
    "f-string METODUYLA STRİNG FORMATLAMA"
   ]
  },
  {
   "cell_type": "code",
   "execution_count": 170,
   "metadata": {
    "id": "swyC8BCb2xvw"
   },
   "outputs": [
    {
     "name": "stdout",
     "output_type": "stream",
     "text": [
      "The amount of Orange and Tomato we bought is 6 pounds.\n"
     ]
    }
   ],
   "source": [
    "# f'string {variable1} string {variable2} string {variable3} string' syntax'i böyledir.\n",
    "# string'in başına bir f gelir sonra tırnak.\n",
    "fruit = 'Orange'\n",
    "vegetable = 'Tomato'\n",
    "amount = 6\n",
    "print(f'The amount of {fruit} and {vegetable} we bought is {amount} pounds.')"
   ]
  },
  {
   "cell_type": "code",
   "execution_count": 171,
   "metadata": {
    "id": "5-w0tSDn7Ev0"
   },
   "outputs": [
    {
     "name": "stdout",
     "output_type": "stream",
     "text": [
      "8\n",
      "<class 'str'>\n"
     ]
    }
   ],
   "source": [
    "sample = f\"{2 ** 3}\" # f ile bu tarz formatlamalar da yapabiliriz.\n",
    "print(sample)\n",
    "print(type(sample))"
   ]
  },
  {
   "cell_type": "code",
   "execution_count": 172,
   "metadata": {
    "id": "Ib0g5Vmv7057"
   },
   "outputs": [
    {
     "name": "stdout",
     "output_type": "stream",
     "text": [
      "Mariam\n",
      "My name is Mariam\n",
      "My name is Mariam\n"
     ]
    }
   ],
   "source": [
    "name = \"MARIAM\"\n",
    "name_capt = name.capitalize()\n",
    "print(name.capitalize())\n",
    "print(f\"My name is {name.capitalize()}\") # .capitalize kelimenin sadece baş harfini büyük yapar.\n",
    "print(f\"My name is {name_capt}\")"
   ]
  },
  {
   "cell_type": "code",
   "execution_count": 173,
   "metadata": {
    "id": "rDLCBhiZ8oxv"
   },
   "outputs": [
    {
     "name": "stdout",
     "output_type": "stream",
     "text": [
      "Hi Joseph. You are one of the teachers in the Data Science section.\n"
     ]
    }
   ],
   "source": [
    "name = \"Joseph\"\n",
    "job = \"teachers\"\n",
    "domain = \"Data Science\"\n",
    "message = (\n",
    "    f\"Hi {name}. \"\n",
    "    f\"You are one of the {job} \"\n",
    "    f\"in the {domain} section.\"\n",
    ")\n",
    "print(message)\n",
    "# Uzun bir stringi formatlarken görüntünün güzel ve okunaklı olması için parantez içinde alt alta bir kaç f\"string\" yapabiliriz."
   ]
  },
  {
   "cell_type": "code",
   "execution_count": 174,
   "metadata": {
    "id": "-fM7w9ED-U07"
   },
   "outputs": [
    {
     "name": "stdout",
     "output_type": "stream",
     "text": [
      "Susan is a young lady and she is a student at the CLRWAY IT university.\n"
     ]
    }
   ],
   "source": [
    "name = \"Susan\"\n",
    "age = \"young\"\n",
    "gender = \"lady\"\n",
    "school = \"CLRWAY IT university\"\n",
    "print(\n",
    "    f\"{name} is a {age} \"\n",
    "    f\"{gender} and she is a student \"\n",
    "    f\"at the {school}.\"\n",
    "    )"
   ]
  },
  {
   "cell_type": "code",
   "execution_count": 175,
   "metadata": {
    "id": "8tMAGgfPko4m"
   },
   "outputs": [
    {
     "name": "stdout",
     "output_type": "stream",
     "text": [
      "Susan is a young lady and she is a student at the CLARUSWAY IT university.\n"
     ]
    }
   ],
   "source": [
    "name = \"Susan\"\n",
    "age = \"young\"\n",
    "gender = \"lady\"\n",
    "school = \"CLARUSWAY IT university\"\n",
    "print(\n",
    "    f\"{name} is a {age} \"\n",
    "    f\"{gender} and she is a student \"\n",
    "    f\"at the {school}.\"\n",
    "    )"
   ]
  },
  {
   "cell_type": "markdown",
   "metadata": {
    "id": "KxFHAWqEDF0E"
   },
   "source": [
    "MAİN STRİNG OPERATİONS"
   ]
  },
  {
   "cell_type": "code",
   "execution_count": 176,
   "metadata": {
    "id": "FrX3OkBmBesQ"
   },
   "outputs": [
    {
     "name": "stdout",
     "output_type": "stream",
     "text": [
      "c l a r u s w a y\n",
      "C l a r u s W a y\n",
      "c l a r u s w a y\n"
     ]
    }
   ],
   "source": [
    "# Immutability (değiştirilemezlik)\n",
    "# Stringler yerinde değiştirilemez. Ancak değişkene yeni bir değer atanarak değiştirilebilirler.\n",
    "var_string = 'ClarusWay'\n",
    "print(*var_string.lower())\n",
    "print(*var_string)\n",
    "var_string = 'ClarusWay'.lower() # Burada yeni bir değer atadık. Bu arada .lower() bütün harfleri küçük yapar.\n",
    "print(*var_string) # * (asterix ile ne yapmaya çalıştığıma dikkat edelim)"
   ]
  },
  {
   "cell_type": "code",
   "execution_count": 177,
   "metadata": {
    "id": "ArFSJQA5ExM6"
   },
   "outputs": [
    {
     "name": "stdout",
     "output_type": "stream",
     "text": [
      "C L A R U S W A Y\n",
      "C L A R U S W A Y\n"
     ]
    }
   ],
   "source": [
    "değişken_1 = \"ClarusWay\"\n",
    "print(*değişken_1.upper())\n",
    "değişken_1 = \"ClarusWay\".upper() # upper() bütün harfleri büyük yapar.\n",
    "print(*değişken_1)"
   ]
  },
  {
   "cell_type": "markdown",
   "metadata": {
    "id": "Ob5E4o8IIBT3"
   },
   "source": [
    "SEARCHİNG A STRİNG\n"
   ]
  },
  {
   "cell_type": "code",
   "execution_count": 178,
   "metadata": {
    "id": "qt-SD8bEG3t1"
   },
   "outputs": [
    {
     "name": "stdout",
     "output_type": "stream",
     "text": [
      "True\n",
      "True\n",
      "False\n"
     ]
    }
   ],
   "source": [
    "# string.startswith() Bir stringin baş karakterinden sonuna kadar arar\n",
    "# string.endswith() bir stringin son karakterinden itibaren arar\n",
    "# ***** HER İKİSİ DE BOOLEAN SONUÇ DÖNDÜRÜR *****\n",
    "text = 'www.clarusway.com'\n",
    "print(text.endswith('.com')) # Doğruysa True döndürür\n",
    "print(text.startswith('www.'))\n",
    "print(text.startswith('http:')) # Yanlışsa False döndürür"
   ]
  },
  {
   "cell_type": "code",
   "execution_count": 179,
   "metadata": {
    "id": "AzGZSwkJJruY"
   },
   "outputs": [
    {
     "name": "stdout",
     "output_type": "stream",
     "text": [
      "True\n",
      "True\n"
     ]
    }
   ],
   "source": [
    "# **** STRİNG UZUNSA ***\n",
    "# string.startswith(prefix[, start[, end]])\n",
    "# string.endswith(suffix[, start[, end]]) (end dahil değil) yani end-1 olmalıdır.\n",
    "email = \"clarusway@clarusway.com is my e-mail address\"\n",
    "print(email.startswith(\"@\" , 9)) # index no 9 olandan başla\n",
    "print(email.endswith(\"-\", 10, 32)) # index no 10 olandan başla\n"
   ]
  },
  {
   "cell_type": "code",
   "execution_count": 180,
   "metadata": {
    "id": "uccWyTOS2dVy"
   },
   "outputs": [
    {
     "name": "stdout",
     "output_type": "stream",
     "text": [
      "clarusway.com\n"
     ]
    }
   ],
   "source": [
    "mail = \"mailto: Clarusway admission@clarusway.com, 21 Eki 2022 Cuma, 21:08 tarihinde şunu yazdı:\"\n",
    "index = mail.find(\"clarusway.com\")\n",
    "mail_long = len(\"clarusway.com\")\n",
    "web_adr = mail[index:index + mail_long]\n",
    "print(web_adr)"
   ]
  },
  {
   "cell_type": "code",
   "execution_count": 181,
   "metadata": {
    "id": "Lp_W-B9VdQDB"
   },
   "outputs": [
    {
     "name": "stdout",
     "output_type": "stream",
     "text": [
      "clarusway.com\n"
     ]
    }
   ],
   "source": [
    "mail = \"mailto: Clarusway admission@clarusway.com, 21 Eki 2022 Cuma, 21:08 tarihinde şunu yazdı:\"\n",
    "indx = mail.index(\"clarusway.com\")\n",
    "mail_long = len(\"clarusway.com\")\n",
    "web_adr = mail[indx:index + mail_long]\n",
    "print(web_adr)"
   ]
  },
  {
   "cell_type": "code",
   "execution_count": 182,
   "metadata": {
    "id": "q9-Tu15t4mzp"
   },
   "outputs": [
    {
     "data": {
      "text/plain": [
       "28"
      ]
     },
     "execution_count": 182,
     "metadata": {},
     "output_type": "execute_result"
    }
   ],
   "source": [
    "index"
   ]
  },
  {
   "cell_type": "code",
   "execution_count": 183,
   "metadata": {
    "id": "y3nBXCqzR42O"
   },
   "outputs": [
    {
     "name": "stdout",
     "output_type": "stream",
     "text": [
      "1000.00\n",
      "1070.00\n",
      "1144.90\n",
      "1225.04\n",
      "1310.80\n",
      "1402.55\n",
      "1500.73\n",
      "1605.78\n",
      "<class 'str'>\n"
     ]
    }
   ],
   "source": [
    "para = 1000\n",
    "print(\"{:.2f}\".format(para)) # \"{:.2f\".format() metodunu kullanarak noktadan sonra 2 basamaklı yaptım.\n",
    "para = para * 0.07 + para # pts\n",
    "print(\"{:.2f}\".format(para))\n",
    "para += para * 0.07 # salı\n",
    "print(\"{:.2f}\".format(para))\n",
    "para += para * 0.07 # çarş\n",
    "print(\"{:.2f}\".format(para))\n",
    "para += para * 0.07 # perş\n",
    "print(\"{:.2f}\".format(para))\n",
    "para += para * 0.07 # cuma\n",
    "print(\"{:.2f}\".format(para))\n",
    "para += para * 0.07 # cts\n",
    "print(\"{:.2f}\".format(para))\n",
    "para += para * 0.07 # pazar\n",
    "print(\"{:.2f}\".format(para))\n",
    "print(type(\"{:.2f}\".format(para)))"
   ]
  },
  {
   "cell_type": "markdown",
   "metadata": {
    "id": "6odopxaWRBrR"
   },
   "source": [
    "CHANGİNG A STRİNG"
   ]
  },
  {
   "cell_type": "code",
   "execution_count": 184,
   "metadata": {
    "id": "tHCQQWqXP-Sc"
   },
   "outputs": [],
   "source": [
    "# string.method(arguments) Method bir fonksiyondur ancak bir objeye bağlıdır.\n",
    "# str.replace(old, new[, count])\n",
    "# str.swapcase() string içindeki büyük harfleri küçük, küçük harfleri büyüğe çevirir.\n",
    "# str.capitalize() stringin ilk karakterini büyük harf yapar sonrakileri küçük...\n",
    "# str.upper() stringin bütün harflerini büyük yapar..\n",
    "# str.lower() stringin bütün harflerni küçük yapar...\n",
    "# str.title() string'deki bütün kelimelerin ilk harflerini büyük yapar.. Diğer harflerini de küçük yapar.\n"
   ]
  },
  {
   "cell_type": "code",
   "execution_count": 185,
   "metadata": {
    "id": "aozCtxjJS0Q1"
   },
   "outputs": [
    {
     "name": "stdout",
     "output_type": "stream",
     "text": [
      "Cihat Taşcı\n"
     ]
    }
   ],
   "source": [
    "print(\"cihaT taşcı\".title())"
   ]
  },
  {
   "cell_type": "code",
   "execution_count": 186,
   "metadata": {
    "id": "w8YyGfEeTT5y"
   },
   "outputs": [
    {
     "name": "stdout",
     "output_type": "stream",
     "text": [
      "I LIVE AND WORK IN VIRGINIA\n",
      "i live and work in virginia\n",
      "i LIVE AND WORK IN vIRGINIA\n",
      "I live and work in Virginia\n"
     ]
    }
   ],
   "source": [
    "sentence = \"I live and work in Virginia\"\n",
    "print(sentence.upper())\n",
    "print(sentence.lower())\n",
    "print(sentence.swapcase())\n",
    "print(sentence) # kaynak metin değişmemiştir çünkü değişkene yeni değer tanımlamadık."
   ]
  },
  {
   "cell_type": "code",
   "execution_count": 187,
   "metadata": {
    "id": "fX8G5fyqsFJp"
   },
   "outputs": [
    {
     "name": "stdout",
     "output_type": "stream",
     "text": [
      "The Better The Family, The Better The Society\n",
      "The better the family, the better the society\n",
      "tHE BETTER THE FAMILY, THE BETTER THE SOCIETY\n",
      "THE BETTER THE FAMILY, THE BETTER THE SOCIETY\n",
      "the better the family, the better the society\n",
      "THE better THE family, THE better THE society\n",
      "The Better The Family, The Better The Society\n"
     ]
    }
   ],
   "source": [
    "text = \"the better the family, the better the society\"\n",
    "print(text.title())\n",
    "print(text.title().capitalize())\n",
    "print(text.title().capitalize().swapcase())\n",
    "print(text.title().capitalize().swapcase().upper())\n",
    "print(text.title().capitalize().swapcase().upper().lower())\n",
    "print(text.title().capitalize().swapcase().upper().lower().replace(\"the\", \"THE\"))\n",
    "text = text.title()\n",
    "print(text)"
   ]
  },
  {
   "cell_type": "code",
   "execution_count": 188,
   "metadata": {
    "id": "qdkM6Mdzu_q4"
   },
   "outputs": [
    {
     "name": "stdout",
     "output_type": "stream",
     "text": [
      "Sodome and Gomore\n"
     ]
    }
   ],
   "source": [
    "text = \"S0d0me and G0m0re\"\n",
    "print(text.replace(\"0\",\"o\"))"
   ]
  },
  {
   "cell_type": "code",
   "execution_count": 189,
   "metadata": {
    "id": "ru-nPbT1T1ET"
   },
   "outputs": [
    {
     "name": "stdout",
     "output_type": "stream",
     "text": [
      "I Live And Work In Virginia\n",
      "I l+ve and work +n V+rg+n+a\n"
     ]
    }
   ],
   "source": [
    "# Yukarıdaki metodların tamamı str type çıktı üretir bu nedenle:\n",
    "# string.method1().method2().method3()... bu metodları sırasıyla uygular\n",
    "sentence = \"I live and work in Virginia\"\n",
    "title_sentence = sentence.title()\n",
    "print(title_sentence)\n",
    "changed_str = sentence.replace(\"i\", \"+\")\n",
    "print(changed_str)"
   ]
  },
  {
   "cell_type": "markdown",
   "metadata": {
    "id": "ar_1NDLky5ee"
   },
   "source": [
    "EDİTİNG A STRİNG"
   ]
  },
  {
   "cell_type": "code",
   "execution_count": 190,
   "metadata": {
    "id": "BYuvzC99y3nJ"
   },
   "outputs": [
    {
     "name": "stdout",
     "output_type": "stream",
     "text": [
      "başında ve sonunda boşluk olan bir cümle......\n",
      "       başında ve sonunda boşluk olan bir cümle......\n",
      "başında ve sonunda boşluk olan bir cümle......       \n"
     ]
    }
   ],
   "source": [
    "# string.method(arguments) str düzenlemenin yöntemleri\n",
    "\n",
    "örnek = \"       başında ve sonunda boşluk olan bir cümle......       \"\n",
    "print(örnek.strip())  # string.strip() stringin her iki yanındaki özel karakterleri veya boşluğu atmamızı sağlar.\n",
    "print(örnek.rstrip()) # string.rstrip() stringin sağındaki özel karakteri ya da boşlukları atar.\n",
    "print(örnek.lstrip()) # string.lstrip() stringin solundaki özel karakteri ya da boşlukları atar.\n"
   ]
  },
  {
   "cell_type": "code",
   "execution_count": 191,
   "metadata": {
    "id": "It0DwGQhyO_O"
   },
   "outputs": [
    {
     "name": "stdout",
     "output_type": "stream",
     "text": [
      "     yaz geldi bahar geldi açtı yeşil yapraklar     a   \n"
     ]
    }
   ],
   "source": [
    "# strip() parantez içinde default olarak boşluk alma tanımlandığı için bolukları attı\n",
    "# oysa biz kendimiz parantez içine atılacak öğeyi tanımlayabilirdikç Mesela:\n",
    "text = \"aaa     yaz geldi bahar geldi açtı yeşil yapraklar     a   aaaaaaa\"\n",
    "print(text.strip(\"aaa\"))\n",
    "#  Bu işlemi .rstrip() ve .lstrip için de kullanabiliriz."
   ]
  },
  {
   "cell_type": "code",
   "execution_count": 192,
   "metadata": {
    "id": "_2_HQ6da4B5i"
   },
   "outputs": [
    {
     "name": "stdout",
     "output_type": "stream",
     "text": [
      "nteroperabilit\n",
      "teroperability\n"
     ]
    }
   ],
   "source": [
    "ornek = \"interoperability\"\n",
    "print(ornek.strip(\"yi\")) # \"y\", \"i\", \"yi\" ya da \"y\", harflerini her iki taraftan atar\n",
    "print(ornek.lstrip(\"in\")) # stringimiz iki karakterli olduğu için sadece soldaki iki karakter içinde arayacak.\n"
   ]
  },
  {
   "cell_type": "code",
   "execution_count": 193,
   "metadata": {
    "id": "SXlpu63C5J2n"
   },
   "outputs": [
    {
     "name": "stdout",
     "output_type": "stream",
     "text": [
      "YOU CAN LEARN ALMOST EVERYTHING IN PRE-CLASS\n",
      "YOU CAN LEARN ALMOST EVERYTHING IN PRE-CLASS\n"
     ]
    }
   ],
   "source": [
    "text = \"tyou can learn almost everything in pre-classz\"\n",
    "print(text.lstrip(\"t\").rstrip(\"z\").upper())\n",
    "print(text.strip(\"tz\").upper())"
   ]
  },
  {
   "cell_type": "code",
   "execution_count": 194,
   "metadata": {
    "id": "DNLkFPe68Rz6"
   },
   "outputs": [
    {
     "name": "stdout",
     "output_type": "stream",
     "text": [
      "In God we Trust\n",
      "In God we Trust\n",
      "In God we Trust\n",
      "In God We Trust\n",
      "In God We Trust\n"
     ]
    }
   ],
   "source": [
    "metin = \"In God wee Trust\"\n",
    "print(metin[0:9], metin[11:])\n",
    "print(metin.replace(\"e\", \"\", 1))\n",
    "print(metin.replace(\"ee\", \"e\"))\n",
    "print(metin.replace(\"wee\", \"we\").title())\n",
    "print(metin.replace(\"wee\", \"We\"))\n"
   ]
  },
  {
   "cell_type": "markdown",
   "metadata": {
    "id": "EqFR-_ZkWG_L"
   },
   "source": [
    "COLLECTION TYPES"
   ]
  },
  {
   "cell_type": "code",
   "execution_count": 195,
   "metadata": {
    "id": "g25Trfxp_LnF"
   },
   "outputs": [],
   "source": [
    "#  ***** Collection fonksiyonları (set, list, tupple, dict) iterable olan verileri parantez içerisine alır,\n",
    "# bunların elemanlarının her birini teker teker böler ve\n",
    "# böldüğü her bir elemanını o collection fonksiyonunun bir elemanı haline getirir**** buna iterasyon denir\n",
    "# Collection types veri kümeleridir.\n",
    "# List : listeler\n",
    "# Tupple : demetler\n",
    "# Dictionary : sözlükler\n",
    "# Set : kümeler"
   ]
  },
  {
   "cell_type": "markdown",
   "metadata": {
    "id": "xFpeMjhoW5wd"
   },
   "source": [
    "LİST"
   ]
  },
  {
   "cell_type": "code",
   "execution_count": 196,
   "metadata": {
    "id": "3HF789_JW7Je"
   },
   "outputs": [
    {
     "name": "stdout",
     "output_type": "stream",
     "text": [
      "['h', 'a', 'p', ' ', ' ', ' ', 'p', 'y']\n"
     ]
    }
   ],
   "source": [
    "# list() veya liste = []\n",
    "# list, içerisine iterable alır.\n",
    "word = \"hap   py\" # list fonksiyonu string bir değerdeki boşlukları da iterable olması nedeniyle listeye alır.\n",
    "print(list(word))"
   ]
  },
  {
   "cell_type": "code",
   "execution_count": 197,
   "metadata": {
    "id": "9UxTo_vSpprS"
   },
   "outputs": [
    {
     "name": "stdout",
     "output_type": "stream",
     "text": [
      "['h', 'a', 'p', 'p', ' ', ' ', ' ', 'y', 'y']\n"
     ]
    }
   ],
   "source": [
    "print(list(\"happ   yy\"))"
   ]
  },
  {
   "cell_type": "code",
   "execution_count": 198,
   "metadata": {
    "id": "40D4EC4D_TEd"
   },
   "outputs": [
    {
     "ename": "TypeError",
     "evalue": "'int' object is not iterable",
     "output_type": "error",
     "traceback": [
      "\u001b[1;31m---------------------------------------------------------------------------\u001b[0m",
      "\u001b[1;31mTypeError\u001b[0m                                 Traceback (most recent call last)",
      "Cell \u001b[1;32mIn[198], line 1\u001b[0m\n\u001b[1;32m----> 1\u001b[0m \u001b[38;5;28mprint\u001b[39m(\u001b[38;5;28mlist\u001b[39m(\u001b[38;5;241m111\u001b[39m))\n",
      "\u001b[1;31mTypeError\u001b[0m: 'int' object is not iterable"
     ]
    }
   ],
   "source": [
    "print(list(111)) #TypeError: 'int' object is not iterable"
   ]
  },
  {
   "cell_type": "code",
   "execution_count": 199,
   "metadata": {
    "id": "nJm0Od5VYlnQ"
   },
   "outputs": [
    {
     "name": "stdout",
     "output_type": "stream",
     "text": [
      "['1', '1', '1']\n"
     ]
    }
   ],
   "source": [
    "print(list(str(111))) # integer bir veri iterable olmadığı için hata verir. Ancak bunu str yaparsak list olarak çıktı alırız."
   ]
  },
  {
   "cell_type": "code",
   "execution_count": 200,
   "metadata": {
    "id": "QhjqUWNQZD_d"
   },
   "outputs": [
    {
     "name": "stdout",
     "output_type": "stream",
     "text": [
      "['1', '2', '3', 'p', 'o', ' ', ' ', 'ı', 'u', '-', ',', '.', 'ç']\n",
      "['123po  ıu-,.ç']\n"
     ]
    }
   ],
   "source": [
    "a = \"123po  ıu-,.ç\"\n",
    "print(list(a))\n",
    "b = [a]\n",
    "print(b) # b'ye a liste olarak atandığı için b'nin tek elemanı a'dır."
   ]
  },
  {
   "cell_type": "code",
   "execution_count": 201,
   "metadata": {
    "id": "QjOTmsEtaVHE"
   },
   "outputs": [
    {
     "name": "stdout",
     "output_type": "stream",
     "text": [
      "['ALİ']\n"
     ]
    }
   ],
   "source": [
    "a = [\"ALİ\"] # Burada köşeli parantez içindeki \"ALİ\" listenin tek elemanı oldu.\n",
    "print(a)"
   ]
  },
  {
   "cell_type": "code",
   "execution_count": 202,
   "metadata": {
    "id": "xgkAWQ-rboJ_"
   },
   "outputs": [
    {
     "name": "stdout",
     "output_type": "stream",
     "text": [
      "['I', ' ', 'q', 'u', 'i', 't', ' ', 's', 'm', 'o', 'k', 'i', 'n', 'g']\n",
      "['I quit smoking']\n"
     ]
    }
   ],
   "source": [
    "string_1 = \"I quit smoking\" # list() fonksiyonu ve [] listeğe değer atama arasındaki farkı bu örnekle net bir şekilde görebiliriz.\n",
    "new_list_1 = list(string_1)\n",
    "print(new_list_1)  # 14 elemanlı bir liste olur.\n",
    "new_list_2 = [string_1]\n",
    "print(new_list_2) # tek elemanlı bir liste olur."
   ]
  },
  {
   "cell_type": "code",
   "execution_count": 203,
   "metadata": {
    "id": "Mf5ll18-c0GS"
   },
   "outputs": [
    {
     "name": "stdout",
     "output_type": "stream",
     "text": [
      "[11, 'joseph', False, 3.14, None, [1, 2, 3]]\n"
     ]
    }
   ],
   "source": [
    "from re import M\n",
    "joseph = \"joseph\"\n",
    "mixed_list = [11, joseph, False, 3.14, None, [1,2,3]]  #Liste içinde her türlü veriyi saklayabiliriz.\n",
    "print(mixed_list)"
   ]
  },
  {
   "cell_type": "code",
   "execution_count": 204,
   "metadata": {
    "id": "55R7_uGxddq7"
   },
   "outputs": [
    {
     "name": "stdout",
     "output_type": "stream",
     "text": [
      "3\n",
      "['joseph', 'Clarusway', 2020]\n",
      "3\n",
      "[['joseph', 'Clarusway', 2020]]\n",
      "1\n"
     ]
    }
   ],
   "source": [
    "my_list = ['joseph', 'Clarusway', 2020]\n",
    "new_list11 = list(my_list)\n",
    "new_list22 = [my_list]\n",
    "print(len(my_list))\n",
    "print(new_list11)\n",
    "print(len(new_list11))\n",
    "print(new_list22)\n",
    "print(len(new_list22))"
   ]
  },
  {
   "cell_type": "markdown",
   "metadata": {
    "id": "gETDELCUhfCG"
   },
   "source": [
    "Basic Operations with Lists"
   ]
  },
  {
   "cell_type": "code",
   "execution_count": 205,
   "metadata": {
    "id": "FTNZy4Y3hXHC"
   },
   "outputs": [],
   "source": [
    "# Boş liste list() veya [] şeklinde yapılır. İçine daha sonradan veri koymak için yapılır.\n",
    "# .append() metodu listenin sonuna bir eleman eklemek için kullanılır."
   ]
  },
  {
   "cell_type": "code",
   "execution_count": 206,
   "metadata": {
    "id": "ba4vngj_hCoE"
   },
   "outputs": [
    {
     "name": "stdout",
     "output_type": "stream",
     "text": [
      "[1, 4, 7, 9, '9']\n"
     ]
    }
   ],
   "source": [
    "numbers = [1,4,7]\n",
    "numbers.append(9) # listeleri mahallinde değiştirebiliriz. string gibi değil. yani değişkene yeniden tanımlamaya gerek yok. listenin sonuna int olarak ekleyecek.\n",
    "numbers.append(\"9\") # listenin sonuna string olarak ekleyecek\n",
    "print(numbers)"
   ]
  },
  {
   "cell_type": "code",
   "execution_count": 207,
   "metadata": {
    "id": "d3nyE6Auje7e"
   },
   "outputs": [],
   "source": [
    "cc = []"
   ]
  },
  {
   "cell_type": "code",
   "execution_count": 208,
   "metadata": {
    "id": "Rcoh4FVNjiWD"
   },
   "outputs": [
    {
     "data": {
      "text/plain": [
       "[11]"
      ]
     },
     "execution_count": 208,
     "metadata": {},
     "output_type": "execute_result"
    }
   ],
   "source": [
    "cc.append(11) # burada kod satırını her çalıştırdığımda cc değişkeninin sonuna eleman ekler ve değişkeni yerinde değiştirir.\n",
    "cc"
   ]
  },
  {
   "cell_type": "code",
   "execution_count": 209,
   "metadata": {
    "id": "ZDU2huckk760"
   },
   "outputs": [
    {
     "data": {
      "text/plain": [
       "[1]"
      ]
     },
     "execution_count": 209,
     "metadata": {},
     "output_type": "execute_result"
    }
   ],
   "source": [
    "empty_list = []\n",
    "empty_list.append(1)\n",
    "# empty_list.append(2)\n",
    "# empty_list.append(3)\n",
    "# empty_list.append(4)\n",
    "empty_list"
   ]
  },
  {
   "cell_type": "code",
   "execution_count": 210,
   "metadata": {
    "id": "x2bie4Y_lhaC"
   },
   "outputs": [
    {
     "name": "stdout",
     "output_type": "stream",
     "text": [
      "[1, 4, 9, 7]\n",
      "[1, 4, 6, 9, 7]\n"
     ]
    }
   ],
   "source": [
    "# .insert() metodu listenin içinde herhangi bir yere yeni bir eleman eklemek için kullanılır.\n",
    "# parantez içindeki birinci sayı index numarasıdır, ikincisi eklenecek veridir.\n",
    "# İlgili index numarasına atanan veri eklenir ve diğer veriler onu sağından takip eder.\n",
    "numbers = [1,4,7]\n",
    "numbers.insert(2, 9)\n",
    "print(numbers)\n",
    "numbers.insert(2, 6)\n",
    "print(numbers)"
   ]
  },
  {
   "cell_type": "code",
   "execution_count": 211,
   "metadata": {
    "id": "7CDVEauWrMJh"
   },
   "outputs": [
    {
     "name": "stdout",
     "output_type": "stream",
     "text": [
      "[True, 'beirut', 'tokyo']\n",
      "[True, 'c', 'l', 'a', 'r', 'u', 's']\n"
     ]
    }
   ],
   "source": [
    "city = [\"los\", \"beirut\", \"tokyo\"]\n",
    "city[0] = True\n",
    "print(city)\n",
    "city[1:] = \"clarus\"\n",
    "print(city)"
   ]
  },
  {
   "cell_type": "code",
   "execution_count": 212,
   "metadata": {
    "id": "dZgZ3GZZsffi"
   },
   "outputs": [
    {
     "name": "stdout",
     "output_type": "stream",
     "text": [
      "['istanbul', 'yozgat', 'erzurum', 'ankara']\n",
      "['a', 'b', 'erzurum', 'ankara']\n",
      "['a', 'b', 'c', 'd', 'erzurum', 'ankara']\n"
     ]
    }
   ],
   "source": [
    "city1 = [\"istanbul\", \"yozgat\", \"erzurum\", \"ankara\"]\n",
    "print(city1)\n",
    "city1[0:2] = [\"a\",\"b\"]\n",
    "print(city1)\n",
    "city1[0:2] = \"abcd\"\n",
    "print(city1)"
   ]
  },
  {
   "cell_type": "code",
   "execution_count": 213,
   "metadata": {},
   "outputs": [
    {
     "name": "stdout",
     "output_type": "stream",
     "text": [
      "['1']\n"
     ]
    }
   ],
   "source": [
    "liste = []\n",
    "liste[0:] = \"1\"\n",
    "print(liste)"
   ]
  },
  {
   "cell_type": "code",
   "execution_count": 214,
   "metadata": {
    "id": "42q2wAnMt0yT"
   },
   "outputs": [
    {
     "name": "stdout",
     "output_type": "stream",
     "text": [
      "\\\n",
      "\\\\\n",
      "\\\\\n"
     ]
    }
   ],
   "source": [
    "#  \\\\ çıktı almak için ne yapmalı\n",
    "print(\"\\\\\")\n",
    "print(\"\\\\\\\\\")\n",
    "print(\"\\\\\" + \"\\\\\")"
   ]
  },
  {
   "cell_type": "code",
   "execution_count": 215,
   "metadata": {
    "id": "ahJ0A3cK1edi"
   },
   "outputs": [
    {
     "name": "stdout",
     "output_type": "stream",
     "text": [
      "3 + 4 'ün toplamı 7 'dir.\n"
     ]
    }
   ],
   "source": [
    "a = 3\n",
    "b = 4\n",
    "print(\"{} + {} 'ün toplamı {} 'dir.\".format(a, b, a+b)) # positional olarak hepsi sırayla gitti."
   ]
  },
  {
   "cell_type": "code",
   "execution_count": 216,
   "metadata": {
    "id": "CdKu8aEx2HNq"
   },
   "outputs": [
    {
     "name": "stdout",
     "output_type": "stream",
     "text": [
      "3.15, 5.368, 7.3246\n"
     ]
    }
   ],
   "source": [
    "text = \"{:.2f}, {:.3f}, {:.4f}\".format(3.1463, 5.3676, 7.324567)\n",
    "print(text) # virgüllden sonraki basamak sayısı Float'larda bu şekilde yani: \"{:.f}\" ile ayarlanır."
   ]
  },
  {
   "cell_type": "code",
   "execution_count": 217,
   "metadata": {
    "id": "Q3rmSo3q204f"
   },
   "outputs": [
    {
     "name": "stdout",
     "output_type": "stream",
     "text": [
      "3., 5.3, 7.32\n"
     ]
    }
   ],
   "source": [
    "text = \"{:.2s}, {:.3s}, {:.4s}\".format(\"3.1463\", \"5.3676\", \"7.324567\")\n",
    "print(text) # sondan itibaren almasını istediğimiz karakter sayısı stringler'lerde bu şekilde yan \"s\" ile ayarlanır.\n",
    "# . nın da string olduğunu unutmayalım."
   ]
  },
  {
   "cell_type": "code",
   "execution_count": 218,
   "metadata": {
    "id": "VAgVocf03hii"
   },
   "outputs": [
    {
     "name": "stdout",
     "output_type": "stream",
     "text": [
      "           clarusway\n",
      "clarusway           \n"
     ]
    }
   ],
   "source": [
    "text = \"{:>20}\".format(\"clarusway\")\n",
    "print(text) # bu işlemle yani '>' işlemiyle 20 karakter sağa yasladık\n",
    "text = \"{:<20}\".format(\"clarusway\")\n",
    "print(text) # bu işlemle yani '<' işlemiyle 20 karakter sola yasladık"
   ]
  },
  {
   "cell_type": "code",
   "execution_count": 219,
   "metadata": {
    "id": "lqtUDE6_4nGb"
   },
   "outputs": [
    {
     "name": "stdout",
     "output_type": "stream",
     "text": [
      "formatlama                           test formatlama\n"
     ]
    }
   ],
   "source": [
    "text1 = 'formatlama {:>30} formatlama'.format('test')\n",
    "print(text1) # sağa yasladık"
   ]
  },
  {
   "cell_type": "code",
   "execution_count": 220,
   "metadata": {
    "id": "J4vLIklW48YL"
   },
   "outputs": [
    {
     "name": "stdout",
     "output_type": "stream",
     "text": [
      "formatlama test       formatlama\n",
      "             test             \n",
      "formatlama         test         formatlama\n"
     ]
    }
   ],
   "source": [
    "text2 = 'formatlama {:<10} formatlama'.format('test')\n",
    "print(text2) # sola yasladık\n",
    "text2 = '{:^30}'.format('test') # sağından solundan 30 karakter hizalayarak ortaladık.\n",
    "print(text2)\n",
    "text2 = 'formatlama {:^20} formatlama'.format('test')\n",
    "print(text2)"
   ]
  },
  {
   "cell_type": "code",
   "execution_count": 221,
   "metadata": {
    "id": "d3hnnzfX50hm"
   },
   "outputs": [
    {
     "data": {
      "text/plain": [
       "'hippo'"
      ]
     },
     "execution_count": 221,
     "metadata": {},
     "output_type": "execute_result"
    }
   ],
   "source": [
    "\"{:.5}\".format(\"hippopotamus\")"
   ]
  },
  {
   "cell_type": "code",
   "execution_count": 222,
   "metadata": {
    "id": "tDe2gn4x6VPs"
   },
   "outputs": [
    {
     "data": {
      "text/plain": [
       "'hip       '"
      ]
     },
     "execution_count": 222,
     "metadata": {},
     "output_type": "execute_result"
    }
   ],
   "source": [
    "\"{:10.3}\".format(\"hippopotamus\")"
   ]
  },
  {
   "cell_type": "code",
   "execution_count": 223,
   "metadata": {
    "id": "zD1X64KC6xO2"
   },
   "outputs": [
    {
     "data": {
      "text/plain": [
       "'       hip'"
      ]
     },
     "execution_count": 223,
     "metadata": {},
     "output_type": "execute_result"
    }
   ],
   "source": [
    "\"{:>10.3}\".format(\"hippopotamus\")"
   ]
  },
  {
   "cell_type": "code",
   "execution_count": 224,
   "metadata": {
    "id": "bIysivkF64hy"
   },
   "outputs": [
    {
     "data": {
      "text/plain": [
       "'hip       '"
      ]
     },
     "execution_count": 224,
     "metadata": {},
     "output_type": "execute_result"
    }
   ],
   "source": [
    "\"{:<10.3}\".format(\"hippopotamus\")"
   ]
  },
  {
   "cell_type": "code",
   "execution_count": 225,
   "metadata": {
    "id": "HW9eC4_a68KN"
   },
   "outputs": [
    {
     "data": {
      "text/plain": [
       "'   hip    '"
      ]
     },
     "execution_count": 225,
     "metadata": {},
     "output_type": "execute_result"
    }
   ],
   "source": [
    "\"{:^10.3}\".format(\"hippopotamus\")"
   ]
  },
  {
   "cell_type": "code",
   "execution_count": 226,
   "metadata": {
    "id": "fnR4W8ed7RjY"
   },
   "outputs": [
    {
     "data": {
      "text/plain": [
       "'3.1432'"
      ]
     },
     "execution_count": 226,
     "metadata": {},
     "output_type": "execute_result"
    }
   ],
   "source": [
    "'{:.5}'.format(3.1432407568430765347345) # noktayla beraber 6 değeri alır\n"
   ]
  },
  {
   "cell_type": "code",
   "execution_count": 227,
   "metadata": {
    "id": "In9SYTh27pCZ"
   },
   "outputs": [
    {
     "data": {
      "text/plain": [
       "'3.143'"
      ]
     },
     "execution_count": 227,
     "metadata": {},
     "output_type": "execute_result"
    }
   ],
   "source": [
    "'{:.5}'.format(\"3.1432407568430765347345\") # noktayla beraber 5 değeri alır"
   ]
  },
  {
   "cell_type": "code",
   "execution_count": 228,
   "metadata": {
    "id": "xKN8Inom-OVA"
   },
   "outputs": [
    {
     "name": "stdout",
     "output_type": "stream",
     "text": [
      "[1, 2, 3, 4, 5]\n"
     ]
    }
   ],
   "source": [
    "a = [1,2,3,4] # .insert metodunu kullanarak listenin sonuna '5' i ekledik. İndex numarasına dikkat ettik\n",
    "a.insert(4, 5)\n",
    "print(a)\n"
   ]
  },
  {
   "cell_type": "markdown",
   "metadata": {
    "id": "YDFetJw1BRQi"
   },
   "source": [
    ".remove() METODU"
   ]
  },
  {
   "cell_type": "code",
   "execution_count": 229,
   "metadata": {
    "id": "_0mjA3wjBJL4"
   },
   "outputs": [
    {
     "name": "stdout",
     "output_type": "stream",
     "text": [
      "[1, 4, 9]\n",
      "[4, 9]\n"
     ]
    }
   ],
   "source": [
    "# .remove listeden elemanı kaldırır. kaldırmak istediğimiz elemanı veya index numarasını girerek elemanı listeden çıkarır\n",
    "numbers = [1,4,7,9]\n",
    "numbers.remove(7)\n",
    "\n",
    "print(numbers)\n",
    "numbers.remove(numbers[0])\n",
    "print(numbers)"
   ]
  },
  {
   "cell_type": "code",
   "execution_count": 230,
   "metadata": {
    "id": "47mQmQ1XChV_"
   },
   "outputs": [
    {
     "name": "stdout",
     "output_type": "stream",
     "text": [
      "['New York', 'Stockholm', 'Istanbul', 'Seoul', 'Sydney', 'Addis Ababa']\n",
      "['New York', 'Stockholm', 'Seoul', 'Sydney', 'Addis Ababa']\n"
     ]
    }
   ],
   "source": [
    "city = ['New York', 'London', 'Stockholm', 'Istanbul', 'Seoul', 'Sydney', 'Addis Ababa']\n",
    "city.remove('London')\n",
    "print(city)  # we have deleted 'London'\n",
    "city.remove(city[2]) # İstanbul elemanını index numarası girerek kaldırdım\n",
    "print(city)"
   ]
  },
  {
   "cell_type": "markdown",
   "metadata": {
    "id": "DbdgTP46BXLx"
   },
   "source": [
    ".sort() METODU"
   ]
  },
  {
   "cell_type": "code",
   "execution_count": 231,
   "metadata": {
    "id": "mQK9GpN_BWea"
   },
   "outputs": [
    {
     "name": "stdout",
     "output_type": "stream",
     "text": [
      "[1, 4, 7, 9]\n",
      "[9, 7, 4, 1]\n"
     ]
    }
   ],
   "source": [
    "# listenin elemanlarını sıralar.\n",
    "numbers = [4,1,9,7]\n",
    "numbers.sort()\n",
    "print(numbers)\n",
    "numbers.sort(reverse=True)\n",
    "print(numbers)"
   ]
  },
  {
   "cell_type": "code",
   "execution_count": 232,
   "metadata": {
    "id": "iPbfJnAOAlg0"
   },
   "outputs": [
    {
     "name": "stdout",
     "output_type": "stream",
     "text": [
      "['Addis Ababa', 'Istanbul', 'London', 'New York', 'Seoul', 'Stockholm', 'Sydney']\n"
     ]
    }
   ],
   "source": [
    "city = ['New York', 'London', 'Stockholm', 'Istanbul', 'Seoul', 'Sydney', 'Addis Ababa']\n",
    "city.sort()\n",
    "print(city)  # Stringleri Alfabetik olarak sıraladı."
   ]
  },
  {
   "cell_type": "code",
   "execution_count": 233,
   "metadata": {
    "id": "QXknAMyEF21x"
   },
   "outputs": [
    {
     "name": "stdout",
     "output_type": "stream",
     "text": [
      "[1, 7]\n",
      "['a', 'd']\n"
     ]
    }
   ],
   "source": [
    "mix_list = ['d', 1, 'a', 7]   # ******SIRALAMAZ****** Karışık sıralamadığı için içinden str ve int çekerek kendi içinde sıraladım.\n",
    "mix_str = []\n",
    "mix_int = []\n",
    "for i in mix_list:\n",
    "    if type(i) == str:\n",
    "        mix_str.append(i)\n",
    "    elif type(i) == int:\n",
    "        mix_int.append(i)\n",
    "mix_int.sort()\n",
    "mix_str.sort()\n",
    "print(mix_int)\n",
    "print(mix_str)"
   ]
  },
  {
   "cell_type": "code",
   "execution_count": 234,
   "metadata": {
    "id": "5ymiahORGOY8"
   },
   "outputs": [
    {
     "name": "stdout",
     "output_type": "stream",
     "text": [
      "['Nine', 'four', 'one']\n"
     ]
    }
   ],
   "source": [
    "list_1 = ['one', 'four', 'Nine']\n",
    "list_1.sort()\n",
    "print(list_1) # NORMALDE ALFABETİK OLARAK SIRALAR ANCAK BÜYÜK HARFLE BAŞLAYAN STRİNG DEĞER VARSA İLK SIRAYA ONU ALIR.\n",
    "# o zaman  biz de her zaman doğru bir sıralama elde etmek için kodumuzu yazalım. Yani alfabetik olarak doğru sıralama istiyorum\n"
   ]
  },
  {
   "cell_type": "code",
   "execution_count": 235,
   "metadata": {
    "id": "he3JwV9aQ7sO"
   },
   "outputs": [
    {
     "name": "stdout",
     "output_type": "stream",
     "text": [
      "['Four', 'Nine', 'One']\n"
     ]
    }
   ],
   "source": [
    "list_1 = ['one', 'four', 'Nine'] # alfabetik olarak doğru sıralama için\n",
    "list_2 = []\n",
    "for i in list_1:\n",
    "    i = str(i).title()\n",
    "    list_2.append(i)\n",
    "\n",
    "list_2.sort()\n",
    "print(list_2)"
   ]
  },
  {
   "cell_type": "code",
   "execution_count": 236,
   "metadata": {
    "id": "ATz8p-9_G---"
   },
   "outputs": [
    {
     "name": "stdout",
     "output_type": "stream",
     "text": [
      "['*-', '@', 'False']\n"
     ]
    }
   ],
   "source": [
    "list_2 = ['@', '*-', 'False']  # Stringlerin Ascii kodları var. Burada buna göre büyükten küçüğe sıralıyor.\n",
    "list_2.sort()\n",
    "print(list_2)"
   ]
  },
  {
   "cell_type": "markdown",
   "metadata": {
    "id": "2SwQ-2bbP2ui"
   },
   "source": [
    "ord()   ve chr() FONKSİYONLARININ KULLANIMI"
   ]
  },
  {
   "cell_type": "code",
   "execution_count": 237,
   "metadata": {
    "id": "uQI_pDPAIFMg"
   },
   "outputs": [
    {
     "data": {
      "text/plain": [
       "64"
      ]
     },
     "execution_count": 237,
     "metadata": {},
     "output_type": "execute_result"
    }
   ],
   "source": [
    "ord('@') # ord() fonksiyonu ile stringlerin ascii değerlerini öğrenebiliriz\n"
   ]
  },
  {
   "cell_type": "code",
   "execution_count": 238,
   "metadata": {
    "id": "ViqAt07QIIdq"
   },
   "outputs": [
    {
     "data": {
      "text/plain": [
       "42"
      ]
     },
     "execution_count": 238,
     "metadata": {},
     "output_type": "execute_result"
    }
   ],
   "source": [
    "ord('*')"
   ]
  },
  {
   "cell_type": "code",
   "execution_count": 239,
   "metadata": {
    "id": "XDc42KL1QGER"
   },
   "outputs": [
    {
     "data": {
      "text/plain": [
       "'*'"
      ]
     },
     "execution_count": 239,
     "metadata": {},
     "output_type": "execute_result"
    }
   ],
   "source": [
    "chr(42) # chr() fonksiyonu Ascii değeri girilen karakterin hangisi olduğunu çıktı verir."
   ]
  },
  {
   "cell_type": "code",
   "execution_count": 240,
   "metadata": {
    "id": "zT-mtfVBKLgI"
   },
   "outputs": [
    {
     "name": "stdout",
     "output_type": "stream",
     "text": [
      "[False, True]\n"
     ]
    }
   ],
   "source": [
    "xx = [True, False] # Flase = 0, True = 1 olduğu için sıralamaya küçükten başlıyor.\n",
    "xx.sort()\n",
    "print(xx)\n"
   ]
  },
  {
   "cell_type": "code",
   "execution_count": 241,
   "metadata": {
    "id": "0YyR3ZI2K8Dd"
   },
   "outputs": [
    {
     "name": "stdout",
     "output_type": "stream",
     "text": [
      "[[-12], [3], [44]]\n"
     ]
    }
   ],
   "source": [
    "list_4 = [[3], [44], [-12]] # liste içini de en küçükten itibaren sıralıyor.\n",
    "list_4.sort()\n",
    "print(list_4)"
   ]
  },
  {
   "cell_type": "code",
   "execution_count": 242,
   "metadata": {
    "id": "f_xNxf7DL7UY"
   },
   "outputs": [
    {
     "name": "stdout",
     "output_type": "stream",
     "text": [
      "[[-12, 1], [1, 3], [44, -40]]\n"
     ]
    }
   ],
   "source": [
    "list_5 = [[1, 3], [44, -40], [-12, 1]] # liste içindeki ilk elemena göre sıralıyor.\n",
    "list_5.sort()\n",
    "print(list_5)"
   ]
  },
  {
   "cell_type": "code",
   "execution_count": 243,
   "metadata": {
    "id": "Efvm1L3OOvZc"
   },
   "outputs": [
    {
     "name": "stdout",
     "output_type": "stream",
     "text": [
      "[[-1, 'iki'], [1, 'bir'], [3, 'üç']]\n"
     ]
    }
   ],
   "source": [
    "yy = [[1, \"bir\"], [-1, \"iki\"], [3, \"üç\"]]  # liste içindeki ilk elemena göre sıralıyor.\n",
    "yy.sort()\n",
    "print(yy)"
   ]
  },
  {
   "cell_type": "code",
   "execution_count": 244,
   "metadata": {
    "id": "d84bsLiGPVrQ"
   },
   "outputs": [
    {
     "ename": "TypeError",
     "evalue": "'<' not supported between instances of 'int' and 'str'",
     "output_type": "error",
     "traceback": [
      "\u001b[1;31m---------------------------------------------------------------------------\u001b[0m",
      "\u001b[1;31mTypeError\u001b[0m                                 Traceback (most recent call last)",
      "Cell \u001b[1;32mIn[244], line 2\u001b[0m\n\u001b[0;32m      1\u001b[0m yy \u001b[38;5;241m=\u001b[39m [[\u001b[38;5;124m\"\u001b[39m\u001b[38;5;124mbir\u001b[39m\u001b[38;5;124m\"\u001b[39m, \u001b[38;5;241m1\u001b[39m], [\u001b[38;5;241m-\u001b[39m\u001b[38;5;241m1\u001b[39m, \u001b[38;5;124m\"\u001b[39m\u001b[38;5;124miki\u001b[39m\u001b[38;5;124m\"\u001b[39m], [\u001b[38;5;241m3\u001b[39m, \u001b[38;5;124m\"\u001b[39m\u001b[38;5;124müç\u001b[39m\u001b[38;5;124m\"\u001b[39m]] \u001b[38;5;66;03m# Python tutarlı ilk elemanlarına göre sıraladığı üstteki ve bu örnekte açık bir şekilde görülüyor.\u001b[39;00m\n\u001b[1;32m----> 2\u001b[0m yy\u001b[38;5;241m.\u001b[39msort()\n\u001b[0;32m      3\u001b[0m \u001b[38;5;28mprint\u001b[39m(yy)\n",
      "\u001b[1;31mTypeError\u001b[0m: '<' not supported between instances of 'int' and 'str'"
     ]
    }
   ],
   "source": [
    "yy = [[\"bir\", 1], [-1, \"iki\"], [3, \"üç\"]] # Python tutarlı ilk elemanlarına göre sıraladığı üstteki ve bu örnekte açık bir şekilde görülüyor.\n",
    "yy.sort()\n",
    "print(yy)"
   ]
  },
  {
   "cell_type": "code",
   "execution_count": 245,
   "metadata": {
    "id": "1KpAy5yKPtVs"
   },
   "outputs": [
    {
     "name": "stdout",
     "output_type": "stream",
     "text": [
      "[8, 7, 5, 3, 1]\n"
     ]
    }
   ],
   "source": [
    "yy = [1,5,8,3,7]   # yy.sort(*, key=None, reverse = False) olduğu için küçükten büğüye sıralıyor.reverse'in default'u False'tur.\n",
    "yy.sort(reverse=True)  # ancak biz bu parametreyi yy.sort(*, key=None, reverse = True) yaparsak büyükten küçüğe sıralar\n",
    "print(yy)"
   ]
  },
  {
   "cell_type": "markdown",
   "metadata": {
    "id": "GwF2FgIhToDR"
   },
   "source": [
    "ACCESİNG THE LİST"
   ]
  },
  {
   "cell_type": "code",
   "execution_count": 246,
   "metadata": {
    "id": "bjMjtIKyS7eT"
   },
   "outputs": [
    {
     "name": "stdout",
     "output_type": "stream",
     "text": [
      "h\n",
      "a\n",
      "p\n",
      "p\n",
      "y\n",
      "h\n",
      "['h', 'p']\n"
     ]
    }
   ],
   "source": [
    "#  İNDEXİNG AND SLİCİNG: SYNTAX: list_name[index no]\n",
    "word = ['h', 'a', 'p', 'p', 'y']\n",
    "print(word[0])\n",
    "print(word[1])\n",
    "print(word[2])\n",
    "print(word[3])\n",
    "print(word[4])\n",
    "print(word[0])\n",
    "print(word[0:4:2])\n"
   ]
  },
  {
   "cell_type": "code",
   "execution_count": 247,
   "metadata": {
    "id": "ZXbaquS1Ubaj"
   },
   "outputs": [
    {
     "name": "stdout",
     "output_type": "stream",
     "text": [
      "blue\n"
     ]
    },
    {
     "data": {
      "text/plain": [
       "str"
      ]
     },
     "execution_count": 247,
     "metadata": {},
     "output_type": "execute_result"
    }
   ],
   "source": [
    "colors = ['red', 'purple', 'blue', 'yellow', 'green']\n",
    "print(colors[2])  # If we start at zero,\n",
    "# the second element will be 'blue'.\n",
    "type(colors[2])"
   ]
  },
  {
   "cell_type": "code",
   "execution_count": 248,
   "metadata": {
    "id": "AKDtWceTVIOl"
   },
   "outputs": [
    {
     "name": "stdout",
     "output_type": "stream",
     "text": [
      "[['New York', 'London', 'Istanbul', 'Seoul', 'Sydney']]\n"
     ]
    }
   ],
   "source": [
    "city = ['New York', 'London', 'Istanbul', 'Seoul', 'Sydney']\n",
    "\n",
    "city_list = []\n",
    "city_list.append(city) # we have created a nested list\n",
    "\n",
    "print(city_list) # city_list listesinin içinde city adlı listeden oluşan tek bir eleman vardır."
   ]
  },
  {
   "cell_type": "code",
   "execution_count": 249,
   "metadata": {
    "id": "s4hqO7W2tRBl"
   },
   "outputs": [
    {
     "name": "stdout",
     "output_type": "stream",
     "text": [
      "['New York', 'London', 'Istanbul', 'Seoul', 'Sydney']\n",
      "New York\n",
      "London\n",
      "Istanbul\n",
      "Seoul\n",
      "Sydney\n",
      "['London', 'Istanbul', 'Seoul']\n",
      "a\n"
     ]
    }
   ],
   "source": [
    "sehirler = [['New York', 'London', 'Istanbul', 'Seoul', 'Sydney']]\n",
    "print(sehirler[0])\n",
    "print(sehirler[0][0])\n",
    "print(sehirler[0][1])\n",
    "print(sehirler[0][2])\n",
    "print(sehirler[0][3])\n",
    "print(sehirler[0][4])\n",
    "print(sehirler[0][1:4])\n",
    "print(sehirler[0][2][3]) # Istanbul' un \"a\"sına ulaştırmış olacak bizi."
   ]
  },
  {
   "cell_type": "code",
   "execution_count": 250,
   "metadata": {
    "id": "su31d-R4vR3f"
   },
   "outputs": [
    {
     "name": "stdout",
     "output_type": "stream",
     "text": [
      "3\n"
     ]
    }
   ],
   "source": [
    "print(len([[1,2,3]][0])) # [[1,2,3]] [0] listenin ilk elemanını indexler. Yani Bize [1,2,3] listesini verir.\n",
    "                         # len([1,2,3]) de; listenin 3 elemanı olduğu için 3 sonucunu verir."
   ]
  },
  {
   "cell_type": "markdown",
   "metadata": {
    "id": "GwvrYlhdx5ys"
   },
   "source": [
    "range() FUNCTİON\n"
   ]
  },
  {
   "cell_type": "code",
   "execution_count": 251,
   "metadata": {
    "id": "Nn0x5wD6x3hq"
   },
   "outputs": [
    {
     "name": "stdout",
     "output_type": "stream",
     "text": [
      "range(1, 11)\n",
      "[1, 2, 3, 4, 5, 6, 7, 8, 9, 10]\n"
     ]
    }
   ],
   "source": [
    "# range() function bir objenin ilkini alarak sonuncusunu almadan bir sıra üreten fonksiyondur.\n",
    "range(1,11)\n",
    "print(range(1,11))\n",
    "number = list(range(1,11))\n",
    "print(number)\n"
   ]
  },
  {
   "cell_type": "code",
   "execution_count": 252,
   "metadata": {
    "id": "mMQUI95d0Ecf"
   },
   "outputs": [
    {
     "name": "stdout",
     "output_type": "stream",
     "text": [
      "[1, 3, 5, 7, 9]\n",
      "[1, 3, 5, 7, 9]\n"
     ]
    }
   ],
   "source": [
    "number = list(range(1,11)) # tek sayıları seçelim...\n",
    "odd_1 = list(range(1,11,2))\n",
    "odd_2 = number[0:11:2]\n",
    "print(odd_1)\n",
    "print(odd_2)"
   ]
  },
  {
   "cell_type": "code",
   "execution_count": 253,
   "metadata": {
    "id": "P7MXGGfW2BlI"
   },
   "outputs": [
    {
     "name": "stdout",
     "output_type": "stream",
     "text": [
      "['one', 'two', 'three']\n",
      "['one', 'two', 'three']\n"
     ]
    }
   ],
   "source": [
    "mix_list = [1,[1,\"one\", 2, \"two\", 3, \"three\"], 4] # str olan numaraları seçelim...\n",
    "print(mix_list[1][1::2])\n",
    "print(mix_list[1][1:6:2])"
   ]
  },
  {
   "cell_type": "markdown",
   "metadata": {
    "id": "FexTHAeB3fKy"
   },
   "source": [
    "Negative İndexing and Negative Slicing"
   ]
  },
  {
   "cell_type": "code",
   "execution_count": 254,
   "metadata": {
    "id": "NJrFxN3f2u3A"
   },
   "outputs": [
    {
     "name": "stdout",
     "output_type": "stream",
     "text": [
      "['lobster', 'squid', 'octopus']\n"
     ]
    }
   ],
   "source": [
    "# Negatif index ve negatif step aynı şey değildir.\n",
    "reef = ['swordfish', 'shark', 'whale', 'jellyfish', 'lobster', 'squid', 'octopus']\n",
    "print(reef[-3:])"
   ]
  },
  {
   "cell_type": "code",
   "execution_count": 255,
   "metadata": {
    "id": "m5jNRRA3IoRc"
   },
   "outputs": [
    {
     "name": "stdout",
     "output_type": "stream",
     "text": [
      "London\n"
     ]
    }
   ],
   "source": [
    "city = ['New York', 'London', 'Istanbul', 'Seoul', 'Sydney']\n",
    "print(city[-4])"
   ]
  },
  {
   "cell_type": "code",
   "execution_count": 256,
   "metadata": {
    "id": "i3FyLJ8oIwLM"
   },
   "outputs": [
    {
     "name": "stdout",
     "output_type": "stream",
     "text": [
      "['octopus', 'lobster', 'whale', 'swordfish']\n"
     ]
    }
   ],
   "source": [
    "reef = ['swordfish', 'shark', 'whale', 'jellyfish', 'lobster', 'squid', 'octopus']\n",
    "print(reef[::-2])\n"
   ]
  },
  {
   "cell_type": "code",
   "execution_count": 257,
   "metadata": {
    "id": "WQoKP53fMf9V"
   },
   "outputs": [
    {
     "name": "stdout",
     "output_type": "stream",
     "text": [
      "['octopus', 'squid', 'lobster', 'jellyfish', 'whale', 'shark', 'swordfish']\n"
     ]
    }
   ],
   "source": [
    "reef = ['swordfish', 'shark', 'whale', 'jellyfish', 'lobster', 'squid', 'octopus']\n",
    "print(reef[::-1])"
   ]
  },
  {
   "cell_type": "markdown",
   "metadata": {
    "id": "Jrj4pss-zSaK"
   },
   "source": [
    ".split() METODU"
   ]
  },
  {
   "cell_type": "code",
   "execution_count": 258,
   "metadata": {
    "id": "j_Ea8aIgzLm8"
   },
   "outputs": [
    {
     "name": "stdout",
     "output_type": "stream",
     "text": [
      "['a', 'b', 'c', 'd', 'e', 'f', 'g', 'h', 'i', 'j']\n"
     ]
    },
    {
     "data": {
      "text/plain": [
       "['h', 'g', 'f', 'e']"
      ]
     },
     "execution_count": 258,
     "metadata": {},
     "output_type": "execute_result"
    }
   ],
   "source": [
    "harfler = \"a b c d e f g h i j\".split() # STRİNG DEĞERLERİ ELMANLARINA AYIRARAK LİSTE YAPAR\n",
    "print(harfler)\n",
    "harfler[7:3:-1]"
   ]
  },
  {
   "cell_type": "code",
   "execution_count": 259,
   "metadata": {
    "id": "ovLpCs2u0ALx"
   },
   "outputs": [
    {
     "data": {
      "text/plain": [
       "[]"
      ]
     },
     "execution_count": 259,
     "metadata": {},
     "output_type": "execute_result"
    }
   ],
   "source": [
    "harfler[2:6:-1] # start indeximiz soldan başlayıp sağa  yani 6'ya gittiği için negatif step boş liste verir."
   ]
  },
  {
   "cell_type": "code",
   "execution_count": 260,
   "metadata": {
    "id": "URtw0KBu0goa"
   },
   "outputs": [
    {
     "data": {
      "text/plain": [
       "['a', 'b', 'c', 'd']"
      ]
     },
     "execution_count": 260,
     "metadata": {},
     "output_type": "execute_result"
    }
   ],
   "source": [
    "\"a-b-c-d\".split(\"-\")"
   ]
  },
  {
   "cell_type": "markdown",
   "metadata": {
    "id": "XT6TcVaE1ALL"
   },
   "source": [
    "sorted() FONKSİYONU"
   ]
  },
  {
   "cell_type": "code",
   "execution_count": 261,
   "metadata": {
    "id": "Q-SIeWhV0jNm"
   },
   "outputs": [
    {
     "data": {
      "text/plain": [
       "['ahmet', 'ceylan', 'mehmet', 'seyhan']"
      ]
     },
     "execution_count": 261,
     "metadata": {},
     "output_type": "execute_result"
    }
   ],
   "source": [
    "isimler = [\"ahmet\", \"mehmet\", \"ceylan\", \"seyhan\"]\n",
    "sorted([\"ahmet\", \"mehmet\", \"ceylan\", \"seyhan\"])\n",
    "\n"
   ]
  },
  {
   "cell_type": "code",
   "execution_count": null,
   "metadata": {},
   "outputs": [],
   "source": []
  },
  {
   "cell_type": "code",
   "execution_count": 262,
   "metadata": {
    "id": "mrUgdQUq04LC"
   },
   "outputs": [
    {
     "data": {
      "text/plain": [
       "['ahmet', 'ceylan', 'mehmet', 'seyhan']"
      ]
     },
     "execution_count": 262,
     "metadata": {},
     "output_type": "execute_result"
    }
   ],
   "source": [
    "sorted(isimler)"
   ]
  },
  {
   "cell_type": "code",
   "execution_count": 263,
   "metadata": {
    "id": "-K1-WYtL1eC-"
   },
   "outputs": [
    {
     "data": {
      "text/plain": [
       "['addis ababa', 'istanbul', 'rio', 'rome', 'tokyo']"
      ]
     },
     "execution_count": 263,
     "metadata": {},
     "output_type": "execute_result"
    }
   ],
   "source": [
    "sehirler = [\"tokyo\", \"addis ababa\", \"rome\", \"istanbul\", \"rio\"]\n",
    "sorted(sehirler)"
   ]
  },
  {
   "cell_type": "code",
   "execution_count": 264,
   "metadata": {
    "id": "7B1HaH-P1woy"
   },
   "outputs": [
    {
     "data": {
      "text/plain": [
       "['rio', 'rome', 'tokyo', 'istanbul', 'addis ababa']"
      ]
     },
     "execution_count": 264,
     "metadata": {},
     "output_type": "execute_result"
    }
   ],
   "source": [
    "sorted(sehirler, key = len) #  sorted fonksiyonu; sorted(iterable, *, key=None, reverse=False) şeklinde tanımlanmıştır.\n",
    "# # key parametresini key = len yaparsak uzunluğuna göre yani küçükten büyüğe sıralar.\n",
    "# key parametresine nasıl sorusunun cevabını veririz."
   ]
  },
  {
   "cell_type": "code",
   "execution_count": 265,
   "metadata": {
    "id": "AfAFXHuKfIWn"
   },
   "outputs": [
    {
     "data": {
      "text/plain": [
       "['addis ababa', 'istanbul', 'tokyo', 'rome', 'rio']"
      ]
     },
     "execution_count": 265,
     "metadata": {},
     "output_type": "execute_result"
    }
   ],
   "source": [
    "sorted(sehirler, key = len, reverse = True)  # reverse'ü reverse = True yaparsam bu safer de büyükten küçüğe sıralatmış olurum."
   ]
  },
  {
   "cell_type": "code",
   "execution_count": null,
   "metadata": {
    "id": "MJ_8NEi9f1gZ"
   },
   "outputs": [],
   "source": [
    "sehirler.sort(key = len, reverse = True) #   sehirler.sort(key = len, reverse = True) .sort() metodunu kullanarak da\n",
    "# sıralama yapabilirim.\n",
    "sehirler"
   ]
  },
  {
   "cell_type": "code",
   "execution_count": null,
   "metadata": {
    "id": "sCN8Nc9y-r0w"
   },
   "outputs": [],
   "source": [
    "isimler.sort(key = len) #   sehirler.sort(key = len, reverse = True) .sort() metodunu kullanarak da\n",
    "# sıralama yapabiliriz\n",
    "isimler"
   ]
  },
  {
   "cell_type": "markdown",
   "metadata": {
    "id": "sHKvq-twgcmt"
   },
   "source": [
    " *******   TUPLES     ********"
   ]
  },
  {
   "cell_type": "code",
   "execution_count": null,
   "metadata": {
    "id": "zPis8pqhgV0K"
   },
   "outputs": [],
   "source": [
    "#  Tuple'lar immutable olduğu için değiştirilemez. .append veya .remove metodları listelerde olduğu gibi Tuple'lerde kullanılamaz.\n",
    "# Tuple'larda () işareti kullanılır.\n",
    "# Değiştirilmesini istemediğimiz verileri Tuple'larda saklarız.\n",
    "# Tuple'lar memory de daha az yer kaplar.\n",
    "# Tuple'lar listelerden daha hızlı çalışır.\n",
    "#  Verilerimiz Tuple ile güvende."
   ]
  },
  {
   "cell_type": "code",
   "execution_count": null,
   "metadata": {
    "id": "RKQPNAwsijv_"
   },
   "outputs": [],
   "source": [
    "import sys # liste ve Tuple'nin ne kadar yer kapladığını görelim."
   ]
  },
  {
   "cell_type": "code",
   "execution_count": null,
   "metadata": {
    "id": "MYiuf9Fqik-Q"
   },
   "outputs": [],
   "source": [
    "x = [1,2,3]\n",
    "y = (1,2,3)"
   ]
  },
  {
   "cell_type": "code",
   "execution_count": null,
   "metadata": {
    "id": "KENoqPwLiqlu"
   },
   "outputs": [],
   "source": [
    "print(sys.getsizeof(x))\n",
    "print(sys.getsizeof(y)) # Görüldüğü gibi Tuple daha az yer kaplamaktadır."
   ]
  },
  {
   "cell_type": "code",
   "execution_count": null,
   "metadata": {
    "id": "SUhOCRtWjIJ-"
   },
   "outputs": [],
   "source": [
    "# collection type lara iterable olmayan verileri koyamıyorduk. tuple() ve () olmak üzere iki şekilde tuple yapabiliriz.\n",
    "tuple_1 = ('h', 'a', 'p', 'p', 'y')\n",
    "word = 'happy'\n",
    "tuple_2 = tuple(word)\n",
    "print(tuple_1)\n",
    "print(tuple_2)"
   ]
  },
  {
   "cell_type": "code",
   "execution_count": null,
   "metadata": {
    "id": "Dh9m8blrkQyJ"
   },
   "outputs": [],
   "source": [
    "benim = [\"a\", \"b\", \"c\"]"
   ]
  },
  {
   "cell_type": "code",
   "execution_count": null,
   "metadata": {
    "id": "Ya-QiN1RkSkv"
   },
   "outputs": [],
   "source": [
    "ben_tuple = tuple(benim)\n",
    "ben_tuple"
   ]
  },
  {
   "cell_type": "code",
   "execution_count": null,
   "metadata": {
    "id": "jZr4LxY2_a2z"
   },
   "outputs": [],
   "source": [
    "ben_list = list(ben_tuple) # Gördüğümüz gibi list i tuple a, tuple ı liste çevirebiliyoruz.\n",
    "ben_list"
   ]
  },
  {
   "cell_type": "code",
   "execution_count": null,
   "metadata": {
    "id": "C1JIGPYCkYVF"
   },
   "outputs": [],
   "source": [
    "x = 1, 2, 3 # Python paranteze alınmayan her şeyi tuple olarak algılar. Sanki parantez varmış gibi düşünür."
   ]
  },
  {
   "cell_type": "code",
   "execution_count": null,
   "metadata": {
    "id": "ZuM7VlzS_524"
   },
   "outputs": [],
   "source": [
    "ad = \"ali\", \"veli\", \"mehmet\"\n",
    "print(ad)\n",
    "print(type(ad))"
   ]
  },
  {
   "cell_type": "code",
   "execution_count": null,
   "metadata": {
    "id": "E2_D5f9XkeS4"
   },
   "outputs": [],
   "source": [
    "type(x)"
   ]
  },
  {
   "cell_type": "code",
   "execution_count": null,
   "metadata": {
    "id": "IxCc-rGjmkRa"
   },
   "outputs": [],
   "source": [
    "y1 = (1)\n",
    "y2 = 1\n",
    "y3 = 1,"
   ]
  },
  {
   "cell_type": "code",
   "execution_count": null,
   "metadata": {
    "id": "hQYe7rzbmmte"
   },
   "outputs": [],
   "source": [
    "type(y1)"
   ]
  },
  {
   "cell_type": "code",
   "execution_count": null,
   "metadata": {
    "id": "0sTPWL2wmprp"
   },
   "outputs": [],
   "source": [
    "type(y2)"
   ]
  },
  {
   "cell_type": "code",
   "execution_count": null,
   "metadata": {
    "id": "s98xgmRbApqV"
   },
   "outputs": [],
   "source": [
    "type(y3)"
   ]
  },
  {
   "cell_type": "code",
   "execution_count": null,
   "metadata": {
    "id": "zaA59Uzylhn4"
   },
   "outputs": [],
   "source": [
    "my_tuple = (\"Solar\",)\n",
    "print(my_tuple, type(my_tuple), sep=\"\\n\") # Tuple'da elemanın yanına virgül koyduğumuzda type tuple olur.\n",
    "#  Tek elemanlı bir tuple oluşturabilmek için yanına virgül koyarız."
   ]
  },
  {
   "cell_type": "code",
   "execution_count": null,
   "metadata": {
    "id": "R-EhFRZWm9fD"
   },
   "outputs": [],
   "source": [
    "aa = \"a\", \"b\", \"c\"\n",
    "aa"
   ]
  },
  {
   "cell_type": "code",
   "execution_count": null,
   "metadata": {
    "id": "vUoHbMVFnCZo"
   },
   "outputs": [],
   "source": [
    "aa = (\"a\", \"b\", \"c\")\n",
    "aa"
   ]
  },
  {
   "cell_type": "code",
   "execution_count": null,
   "metadata": {
    "id": "p8jdzJcWnDYn"
   },
   "outputs": [],
   "source": [
    "bb = (\"aa\")"
   ]
  },
  {
   "cell_type": "code",
   "execution_count": null,
   "metadata": {
    "id": "Rm9QXAW2nGSt"
   },
   "outputs": [],
   "source": [
    "type(bb)"
   ]
  },
  {
   "cell_type": "code",
   "execution_count": null,
   "metadata": {
    "id": "BxUyLsHonLgn"
   },
   "outputs": [],
   "source": [
    "cc = \"aa\",\n",
    "cc"
   ]
  },
  {
   "cell_type": "code",
   "execution_count": null,
   "metadata": {
    "id": "dAb1B6xHnzcN"
   },
   "outputs": [],
   "source": [
    "# tuple'dan liste'ye, liste'den tuple'ye çevirebiliriz."
   ]
  },
  {
   "cell_type": "code",
   "execution_count": null,
   "metadata": {
    "id": "UlIQojUIpJIW"
   },
   "outputs": [],
   "source": [
    "print(tuple(range(1,11)))"
   ]
  },
  {
   "cell_type": "markdown",
   "metadata": {
    "id": "Pu0aydcEpyjl"
   },
   "source": [
    "Tuple 'ları Nasıl Kullanabiliriz"
   ]
  },
  {
   "cell_type": "code",
   "execution_count": null,
   "metadata": {
    "id": "uBbq3SUnp3DS"
   },
   "outputs": [],
   "source": [
    "even_no = (0, 2, 4)\n",
    "print(even_no[0])\n",
    "print(even_no[1])\n",
    "print(even_no[2])\n"
   ]
  },
  {
   "cell_type": "code",
   "execution_count": null,
   "metadata": {
    "id": "yqaI9-j_0tIF"
   },
   "outputs": [],
   "source": [
    "print(even_no[3])  # Tuple'larda indexing var. [3] olmadığı için hata verdi."
   ]
  },
  {
   "cell_type": "code",
   "execution_count": null,
   "metadata": {
    "id": "bBstcjAmBLpg"
   },
   "outputs": [],
   "source": [
    "mail = \"mailto: Clarusway admission@clarusway.com, 21 Eki 2022 Cuma, 21:08 tarihinde şunu yazdı:\"\n",
    "print(mail.partition(\"clarusway.com\"))"
   ]
  },
  {
   "cell_type": "code",
   "execution_count": null,
   "metadata": {
    "id": "jKJMFdHaqba-"
   },
   "outputs": [],
   "source": [
    "city_list = ['Tokyo', 'Istanbul', 'Moskow', 'Dublin']\n",
    "\n",
    "city_tuple = tuple(city_list)\n",
    "\n",
    "city_tuple[0] = 'New York'  # Tuple'ye değer atayamayız.\n"
   ]
  },
  {
   "cell_type": "code",
   "execution_count": null,
   "metadata": {
    "id": "7SO2X1Niq0Jn"
   },
   "outputs": [],
   "source": [
    "mix_tuple = (\"11\", 11, [2, \"two\", (\"six\", 6)], (5, \"fair\"))\n",
    "str_six = mix_tuple[2][2][0]\n",
    "print(str_six) # indexing and slicing yapabiliriz."
   ]
  },
  {
   "cell_type": "code",
   "execution_count": null,
   "metadata": {
    "id": "iv5dkW6GsUSd"
   },
   "outputs": [],
   "source": [
    "mix_tuple = (\"11\", 11, [2, \"two\", (\"six\", 6)], (5, \"fair\"))\n",
    "str_six = mix_tuple[2][1:3]\n",
    "print(str_six, type(str_six), sep = \"\\n\")"
   ]
  },
  {
   "cell_type": "code",
   "execution_count": null,
   "metadata": {
    "id": "XyTS88quu0hn"
   },
   "outputs": [],
   "source": [
    "mix_tuple = (\"11\", 11, [2, \"two\", (\"six\", 6)], (5, \"fair\"))\n",
    "str_six = mix_tuple[1:3]\n",
    "print(str_six, type(str_six), sep = \"\\n\")"
   ]
  },
  {
   "cell_type": "code",
   "execution_count": null,
   "metadata": {
    "id": "nW0x4sZCvDDK"
   },
   "outputs": [],
   "source": [
    "mix_tuple[-1]"
   ]
  },
  {
   "cell_type": "code",
   "execution_count": null,
   "metadata": {
    "id": "6j4wF0Lhvoj5"
   },
   "outputs": [],
   "source": [
    "mix_tuple[-1][-1]"
   ]
  },
  {
   "cell_type": "markdown",
   "metadata": {
    "id": "-59lc_zGyQeR"
   },
   "source": [
    "*******DİCTİONARY******"
   ]
  },
  {
   "cell_type": "code",
   "execution_count": null,
   "metadata": {
    "id": "FUIbxSPryU-c"
   },
   "outputs": [],
   "source": [
    "# { } ile gösterilir. {key1 : value1, key2 : value2, key3: value3.....}\n",
    "# item = key and value.\n",
    "# { } ve dict() şeklinde dictionary oluşturulur.\n",
    "# Value her şey olabilir ancak key int, str, tuple, float, boolean olabilir. Ancak liste ve dict \"key\" olarak tanımlanamaz\n",
    "first_dict = {1 : \"one\", \"two\" : 2, False : [1, 2, 3], 1.5 : (\"one\", \"two\"), (1,2):\"clrswy\"}\n",
    "first_dict"
   ]
  },
  {
   "cell_type": "code",
   "execution_count": null,
   "metadata": {
    "id": "-bAmcMBg2863"
   },
   "outputs": [],
   "source": [
    "# Dict'te accesing [ ] içine key ler yazılır\n",
    "state_capitals = {'Arkansas': 'Little Rock',\n",
    "                  'Colorado': 'Denver',\n",
    "                  'California': 'Sacramento',\n",
    "                  'Georgia': 'Atlanta'\n",
    "                 }\n",
    "print(state_capitals[\"Arkansas\"])   # accesing method\n",
    "print(state_capitals[\"Colorado\"])\n",
    "print(state_capitals[\"California\"])\n",
    "print(state_capitals[\"Georgia\"])\n"
   ]
  },
  {
   "cell_type": "code",
   "execution_count": null,
   "metadata": {
    "id": "gjEk1zbg5v7r"
   },
   "outputs": [],
   "source": [
    "print(state_capitals)"
   ]
  },
  {
   "cell_type": "code",
   "execution_count": null,
   "metadata": {
    "id": "wgFwgg7xH41a"
   },
   "outputs": [],
   "source": [
    "sehir = \"istanbul\"\n",
    "sehir1 = \"ankara\"\n",
    "nüfus = 1000"
   ]
  },
  {
   "cell_type": "code",
   "execution_count": null,
   "metadata": {
    "id": "z5ehochYH_qk"
   },
   "outputs": [],
   "source": [
    "sehirler = {1 : sehir, 2 : sehir1, \"nüfusum\" : nüfus}\n",
    "print(sehirler)"
   ]
  },
  {
   "cell_type": "code",
   "execution_count": null,
   "metadata": {
    "id": "b3aeRDAHIR4h"
   },
   "outputs": [],
   "source": [
    "sehirler[2]"
   ]
  },
  {
   "cell_type": "code",
   "execution_count": null,
   "metadata": {
    "id": "gLbuJHpuIYyv"
   },
   "outputs": [],
   "source": [
    "sehirler['nüfusum']"
   ]
  },
  {
   "cell_type": "code",
   "execution_count": null,
   "metadata": {
    "id": "f4PDWtwaIu1k"
   },
   "outputs": [],
   "source": [
    "# yeni bir item atama da yapabiliriz veya mevcut key'in değerini de değiştirebiliriz.\n",
    "state_capitals['Virginia'] = 'Richmond'\n",
    "state_capitals"
   ]
  },
  {
   "cell_type": "code",
   "execution_count": null,
   "metadata": {
    "id": "GKS0bp4TJFjc"
   },
   "outputs": [],
   "source": [
    "mix_values = {'animal': ('dog', 'cat'),  # tuple type\n",
    "              'planet': ['Neptun', 'Saturn', 'Jupiter'],  # list type\n",
    "              'number': 40,  # int type\n",
    "              'pi': 3.14,  # float type\n",
    "              'is_good': True}  # bool type\n",
    "\n",
    "mix_keys = {22 : \"integer\",\n",
    "            1.2 : \"float\",\n",
    "            True : \"boolean\",\n",
    "            \"key\" : \"string\"}"
   ]
  },
  {
   "cell_type": "code",
   "execution_count": null,
   "metadata": {
    "id": "mm4aGn0nJdb5"
   },
   "outputs": [],
   "source": [
    "family = { 'name1': 'Elif','name2': 'Mesut', 'name3': 'Cihat'}\n",
    "family"
   ]
  },
  {
   "cell_type": "code",
   "execution_count": null,
   "metadata": {
    "id": "obD1pEM-KErt"
   },
   "outputs": [],
   "source": [
    "family['name4'] = \"Nihat\"\n",
    "family"
   ]
  },
  {
   "cell_type": "code",
   "execution_count": null,
   "metadata": {
    "id": "cqQv7cO4KajJ"
   },
   "outputs": [],
   "source": [
    "dict_by_dict = dict(animal='dog', planet='neptun', number=40, pi=3.14, is_good=True)\n",
    "\n",
    "print(dict_by_dict) # dict() fonksiyonunu kullanırken stringi stringe atayamayız. Değişkenlere değer atıyor gibi tanımlayacağız."
   ]
  },
  {
   "cell_type": "code",
   "execution_count": null,
   "metadata": {
    "id": "EeLOyygpLPej"
   },
   "outputs": [],
   "source": [
    "dict(name1 = 'Elif', name2 = 'Mesut', name3 = 'Cihat', name4 = 'Nihat') # dict() fonksiyonunu kullanarak yeni bir dict tanımladık."
   ]
  },
  {
   "cell_type": "markdown",
   "metadata": {
    "id": "OR5iXW06L5zq"
   },
   "source": [
    "Main Operation With dicts"
   ]
  },
  {
   "cell_type": "code",
   "execution_count": null,
   "metadata": {
    "id": "D8e0UQqTMBxQ"
   },
   "outputs": [],
   "source": [
    "# item'lar .items() methodunu\n",
    "# key'ler .keys() metodunu\n",
    "# value'lar .values() metodunu kullanır\n",
    "dict_by_dict = {'animal': 'dog',\n",
    "                'planet': 'neptun',\n",
    "                'number': 40,\n",
    "                'pi': 3.14,\n",
    "                'is_good': True}\n",
    "print(dict_by_dict.items(), '\\n') # Çıktıda items tuple tuple ayrılır. Yani her bir item bir tuple'den oluşur\n",
    "print(dict_by_dict.keys(), '\\n') # keys ve values liste olarak döner.\n",
    "print(dict_by_dict.values())"
   ]
  },
  {
   "cell_type": "code",
   "execution_count": null,
   "metadata": {
    "id": "ed2KxW_WO2IL"
   },
   "outputs": [],
   "source": [
    "family = {'name1': 'Elif', 'name2': 'Mesut', 'name3': 'Cihat', 'name4': 'Nihat'} # items, keys ve values liste şeklinde çıktı aldık.\n",
    "print(list(family.items()), '\\n')\n",
    "print(list(family.keys()), '\\n')\n",
    "print(list(family.values()))"
   ]
  },
  {
   "cell_type": "code",
   "execution_count": null,
   "metadata": {
    "id": "VpZsjFtGQpqg"
   },
   "outputs": [],
   "source": [
    "# .update() metodu: .append() metodu gibi dict formatında bir veriyi dict'in sonuna ekleme yapar.\n",
    "family.update({'name5':'Fatma'})\n",
    "print(family)"
   ]
  },
  {
   "cell_type": "code",
   "execution_count": null,
   "metadata": {
    "id": "lDmGqmJlSbNW"
   },
   "outputs": [],
   "source": [
    "family.update({\"a\" : 1, \"b\" : 2}) # Birden fazla item ekleyebiliriz.\n",
    "family"
   ]
  },
  {
   "cell_type": "code",
   "execution_count": null,
   "metadata": {
    "id": "U1iRKW3mIo9l"
   },
   "outputs": [],
   "source": [
    "# .update() metodu: .append() metodu gibi dict formatında bir veriyi dict'in sonuna ekleme yapar.\n",
    "family.update({'person':'ali'})\n",
    "print(family)"
   ]
  },
  {
   "cell_type": "code",
   "execution_count": null,
   "metadata": {
    "id": "uiVbLDIJT8FI"
   },
   "outputs": [],
   "source": [
    "# del fonksiyonu item'ı siler.\n",
    "# del dict_name[key]\n",
    "del family['name1']"
   ]
  },
  {
   "cell_type": "code",
   "execution_count": null,
   "metadata": {
    "id": "NBlJ-i38Vm7i"
   },
   "outputs": [],
   "source": [
    "print(family)"
   ]
  },
  {
   "cell_type": "code",
   "execution_count": null,
   "metadata": {
    "id": "VOjZNe9HVzGn"
   },
   "outputs": [],
   "source": [
    "del family['b']"
   ]
  },
  {
   "cell_type": "code",
   "execution_count": null,
   "metadata": {
    "id": "2_1paMU1V6OJ"
   },
   "outputs": [],
   "source": [
    "print(family)"
   ]
  },
  {
   "cell_type": "code",
   "execution_count": null,
   "metadata": {
    "id": "ly0LkIWcWgI-"
   },
   "outputs": [],
   "source": [
    "# tek satırda birden fazla item silme:\n",
    "\n",
    "del family['name2'], family['name3']\n"
   ]
  },
  {
   "cell_type": "code",
   "execution_count": null,
   "metadata": {
    "id": "JR2zN1M9XCi-"
   },
   "outputs": [],
   "source": [
    "print(family)"
   ]
  },
  {
   "cell_type": "code",
   "execution_count": null,
   "metadata": {
    "id": "eJT0FXIgXLxA"
   },
   "outputs": [],
   "source": [
    "#  key'ler üstünde in  veya not in operatörlerini kullanabiliriz. True ya da False sonucu döndürecek.\n",
    "family_2 = {'name1': 'Elif', 'name2': 'Mesut', 'name3': 'Cihat', 'name4': 'Nihat'}\n",
    "print(family_2)"
   ]
  },
  {
   "cell_type": "code",
   "execution_count": null,
   "metadata": {
    "id": "s7snAAxcXrXY"
   },
   "outputs": [],
   "source": [
    "print('name1' in family_2, '\\n')\n",
    "print('name2' not in family_2, '\\n')\n",
    "print('Elif' not in family_2)"
   ]
  },
  {
   "cell_type": "markdown",
   "metadata": {
    "id": "UEiBCotGY-bt"
   },
   "source": [
    "********   NESTED DİCTİONARY   *******"
   ]
  },
  {
   "cell_type": "code",
   "execution_count": null,
   "metadata": {
    "id": "NBINpViUY92e"
   },
   "outputs": [],
   "source": [
    "# school_records'ın 2 item'ı var. Value'lar dict üzerinden derinleşir yani valu iç içe bir sürü dict'ten oluşabilir.. Key'lerde dict olmaz.\n",
    "school_records={\n",
    "    \"personal_info\":\n",
    "        {\"kid\":{\"tom\": {\"class\": \"intermediate\", \"age\": 10},\n",
    "                \"sue\": {\"class\": \"elementary\", \"age\": 8}\n",
    "               },\n",
    "         \"teen\":{\"joseph\":{\"class\": \"college\", \"age\": 19},\n",
    "                 \"marry\":{\"class\": \"high school\", \"age\": 16}\n",
    "               },\n",
    "        },\n",
    "    \"grades_info\":\n",
    "        {\"kid\":{\"tom\": {\"math\": 88, \"speech\": 69},\n",
    "                \"sue\": {\"math\": 90, \"speech\": 81}\n",
    "               },\n",
    "         \"teen\":{\"joseph\":{\"coding\": 80, \"math\": 89},\n",
    "                 \"marry\":{\"coding\": 70, \"math\": 96}\n",
    "               },\n",
    "        },\n",
    "}\n",
    "# geleneksel accesing metodu [ ] ile nested dict'lere de ulaşabiliriz."
   ]
  },
  {
   "cell_type": "code",
   "execution_count": null,
   "metadata": {
    "id": "FyZwQHCKfUHC"
   },
   "outputs": [],
   "source": [
    "print(school_records['personal_info']['teen']['marry']['age'])\n"
   ]
  },
  {
   "cell_type": "code",
   "execution_count": null,
   "metadata": {
    "id": "r6U1ELRRYkK-"
   },
   "outputs": [],
   "source": [
    "print(school_records['grades_info']['teen']['joseph'])\n",
    "\n"
   ]
  },
  {
   "cell_type": "code",
   "execution_count": null,
   "metadata": {
    "id": "3UFE8Y-ej7uH"
   },
   "outputs": [],
   "source": [
    "aaaa = school_records[\"grades_info\"][\"teen\"][\"joseph\"].items()"
   ]
  },
  {
   "cell_type": "code",
   "execution_count": null,
   "metadata": {
    "id": "G6A1AQPPk_Pj"
   },
   "outputs": [],
   "source": [
    "list(aaaa)"
   ]
  },
  {
   "cell_type": "code",
   "execution_count": null,
   "metadata": {
    "id": "Ts8PwMEBlsYt"
   },
   "outputs": [],
   "source": [
    "friends = {\n",
    "    \"friend1\" : {\"first\" : \"Sue\", \"last\" : \"Bold\"},\n",
    "    \"friend2\" : {\"first\" : \"Steve\", \"last\" : \"Smith\"},\n",
    "    \"friend3\" : {\"first\" : \"Sergio\", \"last\" : \"Tatoo\"}\n",
    "}"
   ]
  },
  {
   "cell_type": "code",
   "execution_count": null,
   "metadata": {
    "id": "9666z35BmGBf"
   },
   "outputs": [],
   "source": [
    "\n",
    "favourite = {\n",
    "    'friends' : {\n",
    "        \"friend1\" : {\"first\" : \"Sue\", \"last\" : \"Bold\"},\n",
    "        \"friend2\" : {\"first\" : \"Steve\", \"last\" : \"Smith\"},\n",
    "        \"friend3\" : {\"first\" : \"Sergio\", \"last\" : \"Tatoo\"}\n",
    "    },\n",
    "    'family' : {\n",
    "        'name1': {'first' :'Elif', 'last' : 'Tascı'},\n",
    "        'name2': {'first' :'Mesut', 'last' : 'Tascı'},\n",
    "        'name3': {'first' :'Cihat', 'last' : 'Tascı'}\n",
    "    }\n",
    "}"
   ]
  },
  {
   "cell_type": "code",
   "execution_count": null,
   "metadata": {
    "id": "jhrcx7UqoQqW"
   },
   "outputs": [],
   "source": [
    "print(favourite)"
   ]
  },
  {
   "cell_type": "markdown",
   "metadata": {
    "id": "i2IqMZlLpOW0"
   },
   "source": [
    "*****SETS*****"
   ]
  },
  {
   "cell_type": "code",
   "execution_count": null,
   "metadata": {
    "id": "mItlP4rmpOEg"
   },
   "outputs": [],
   "source": [
    "# tekrara izin yok,  unique2leri seçip almak istersek kümeleri kullanabiliriz\n",
    "# union, intersection, difference işlemlerini yapabilirim.\n",
    "# elemanları her seferinde çıktı alırken farklı farklı sıralarda olabilir. unordered...\n",
    "# küme oluştururken set() fonksiyonunu kullanırız.\n",
    "set_1 = {'red', 'blue', 'pink', 'red'}\n",
    "print(set_1)"
   ]
  },
  {
   "cell_type": "code",
   "execution_count": null,
   "metadata": {
    "id": "2B5SCfXnrGJ9"
   },
   "outputs": [],
   "source": [
    "colors = 'red', 'blue', 'pink', 'red' #iterable olan tuple ı alıp set fonksiyonu uyguladık.\n",
    "set_2 = set(colors)\n",
    "print(set_2)"
   ]
  },
  {
   "cell_type": "code",
   "execution_count": null,
   "metadata": {
    "id": "bnhCg2e7rmlg"
   },
   "outputs": [],
   "source": [
    "letter = \"a b c d e f g h i j k l m n o p r s t u v y z\"\n",
    "print(set(letter))\n",
    "letter = \"a b c d e f g h i j k l m n o p r s t u v y z\".split()\n",
    "print(letter)"
   ]
  },
  {
   "cell_type": "code",
   "execution_count": null,
   "metadata": {
    "id": "UvWyMInesIab"
   },
   "outputs": [],
   "source": [
    "print(set(letter)) # sıralama unordered olur."
   ]
  },
  {
   "cell_type": "code",
   "execution_count": null,
   "metadata": {
    "id": "oXRb-tcksTsP"
   },
   "outputs": [],
   "source": [
    "empty_set = set() # boş bir küme sadece set() fonksiyonuyla oluşturulur. {} ile dict oluşturabiliriz.\n",
    "\n",
    "print(type(empty_set))"
   ]
  },
  {
   "cell_type": "markdown",
   "metadata": {
    "id": "M4xm0aC5EsO1"
   },
   "source": [
    "Main Operations with Sets"
   ]
  },
  {
   "cell_type": "code",
   "execution_count": null,
   "metadata": {
    "id": "78WS3Bi9tYxB"
   },
   "outputs": [],
   "source": [
    "# .add() : Adds a new item to the set.\n",
    "\n",
    "# .remove() : Allows us to delete an item.\n",
    "\n",
    "# .intersection() : Returns the intersection of two sets.\n",
    "\n",
    "# .union() : Returns the unification of two sets.\n",
    "\n",
    "# .difference() : Gets the difference of two sets.\n"
   ]
  },
  {
   "cell_type": "code",
   "execution_count": null,
   "metadata": {
    "id": "AUFfEld6FUjZ"
   },
   "outputs": [],
   "source": [
    "a = set('abracadabra')\n",
    "a"
   ]
  },
  {
   "cell_type": "code",
   "execution_count": null,
   "metadata": {
    "id": "DW17vFbsFgNH"
   },
   "outputs": [],
   "source": [
    "a = set('abracadabra')\n",
    "b = set('alacazam')\n",
    "\n",
    "print(a - b)  # same as '.difference()' method\n",
    "print(a.difference(b)) # a difference from b"
   ]
  },
  {
   "cell_type": "code",
   "execution_count": null,
   "metadata": {
    "id": "Hq09WberFh2I"
   },
   "outputs": [],
   "source": [
    "a = set('abracadabra')\n",
    "b = set('alacazam')\n",
    "\n",
    "print(a | b)  # same as '.union()' method\n",
    "print(a.union(b)) # unification of a with b"
   ]
  },
  {
   "cell_type": "code",
   "execution_count": null,
   "metadata": {
    "id": "kAjuYKBYFuPA"
   },
   "outputs": [],
   "source": [
    "a = set('abracadabra')\n",
    "b = set('alacazam')\n",
    "\n",
    "print(a & b)  # same as '.intersection()' method\n",
    "print(a.intersection(b)) # intersection of a and b"
   ]
  },
  {
   "cell_type": "code",
   "execution_count": null,
   "metadata": {
    "id": "Z3tkzVcPGo3N"
   },
   "outputs": [],
   "source": [
    "a = set('abracadabra')\n",
    "\n",
    "a.remove('c') # we delete 'c' from the set\n",
    "print(a)\n"
   ]
  },
  {
   "cell_type": "code",
   "execution_count": null,
   "metadata": {
    "id": "aeaQl5VsGzbV"
   },
   "outputs": [],
   "source": [
    "a = set('abracadabra')\n",
    "\n",
    "a.add('c') # we add 'c' again into the set\n",
    "print(a)\n"
   ]
  },
  {
   "cell_type": "code",
   "execution_count": null,
   "metadata": {
    "id": "sIZpq81bHpjP"
   },
   "outputs": [],
   "source": [
    "date = '05/05/2021'\n",
    "print(set(date))"
   ]
  },
  {
   "cell_type": "code",
   "execution_count": null,
   "metadata": {
    "id": "Te-rQQPQIBFZ"
   },
   "outputs": [],
   "source": [
    "boş = {date} # {} kümeye çevirdiğimiz zaman tek str içeren elemanı olan bir küme verdi.\n",
    "print(boş)"
   ]
  },
  {
   "cell_type": "code",
   "execution_count": null,
   "metadata": {
    "id": "GRYhGpchIdly"
   },
   "outputs": [],
   "source": [
    "given_list = [1,2,3,3,3,3,4,4,5,5,] #unique ler set() fonksiyonuyla bulunabilir.\n",
    "set(given_list)"
   ]
  },
  {
   "cell_type": "code",
   "execution_count": null,
   "metadata": {
    "id": "XJfblTk0JFBG"
   },
   "outputs": [],
   "source": [
    "new_z = set(\"Wellington\")\n",
    "u_s_a = set(\"Washington\")\n",
    "print(new_z.intersection(u_s_a))\n",
    "print(new_z.union(u_s_a))\n",
    "print(u_s_a.difference(new_z))\n",
    "print(new_z.difference(u_s_a))"
   ]
  },
  {
   "cell_type": "markdown",
   "metadata": {
    "id": "w_7V46MMLOhL"
   },
   "source": [
    "Control Flow Statements"
   ]
  },
  {
   "cell_type": "code",
   "execution_count": null,
   "metadata": {
    "id": "hSPlDF3hLmsu"
   },
   "outputs": [],
   "source": [
    "# bir program akışını kontrol etmemize yarayan syntax lardır.\n",
    "# kodlarımızın çalışmasını belli koşullara bağlar\n",
    "# aldığımız koşul döngülere yarayabilir, programımızı istediğimiz kadar çalıştırır.\n",
    "# Bunlar conditionals ve loops lardır."
   ]
  },
  {
   "cell_type": "markdown",
   "metadata": {
    "id": "OvwZbo5WLQ-l"
   },
   "source": [
    "Conditional Statements"
   ]
  },
  {
   "cell_type": "markdown",
   "metadata": {
    "id": "dSTNoNX5Mr59"
   },
   "source": [
    "if codition"
   ]
  },
  {
   "cell_type": "code",
   "execution_count": null,
   "metadata": {
    "id": "lfnLLCsgLVGu"
   },
   "outputs": [],
   "source": [
    "#                     if condition :------------->>>>> Bu koşul True veya False verecek.\n",
    "# indentation<<<<<<-------body"
   ]
  },
  {
   "cell_type": "code",
   "execution_count": null,
   "metadata": {
    "id": "2XQvEHJ_N0Q3"
   },
   "outputs": [],
   "source": [
    "if condition:\n",
    "    body\n",
    "    body2\n",
    "body3 # python girintiyi özel bir karakter olarak algılar."
   ]
  },
  {
   "cell_type": "code",
   "execution_count": null,
   "metadata": {
    "id": "b7ZEnmo1N_VG"
   },
   "outputs": [],
   "source": [
    "if True:\n",
    "    print(\"it is true\")"
   ]
  },
  {
   "cell_type": "code",
   "execution_count": null,
   "metadata": {
    "id": "a9EtdMqQOT3b"
   },
   "outputs": [],
   "source": [
    "if 1:  # Çünkü bir truety dir. Bu nedenle çıktı verir.\n",
    "    print(\"ben\")"
   ]
  },
  {
   "cell_type": "code",
   "execution_count": null,
   "metadata": {
    "id": "gEuCTfgpOefE"
   },
   "outputs": [],
   "source": [
    "if None: # Falsy değerlerde döndürmez\n",
    "    print(\"ben\")"
   ]
  },
  {
   "cell_type": "code",
   "execution_count": null,
   "metadata": {
    "id": "N-YsLaInQAKA"
   },
   "outputs": [],
   "source": [
    "\"ahmet\" == \"ahmet\""
   ]
  },
  {
   "cell_type": "code",
   "execution_count": null,
   "metadata": {
    "id": "YNO-XBjxQB9c"
   },
   "outputs": [],
   "source": [
    "\"mehmet\" <= \"mehmet\""
   ]
  },
  {
   "cell_type": "code",
   "execution_count": null,
   "metadata": {
    "id": "KUgF7cJvS-pn"
   },
   "outputs": [],
   "source": [
    "minced = True\n",
    "bread = True\n",
    "\n",
    "#greens\n",
    "lettuce = True\n",
    "pepper = False\n",
    "\n",
    "store = True"
   ]
  },
  {
   "cell_type": "code",
   "execution_count": null,
   "metadata": {
    "id": "6P8c8JhzTNis"
   },
   "outputs": [],
   "source": [
    "hamburger = (minced and store and bread) and (lettuce or pepper)"
   ]
  },
  {
   "cell_type": "code",
   "execution_count": null,
   "metadata": {
    "id": "pqAwN-rOTOlF"
   },
   "outputs": [],
   "source": [
    "hamburger"
   ]
  },
  {
   "cell_type": "code",
   "execution_count": null,
   "metadata": {
    "id": "X4prjK78TZyT"
   },
   "outputs": [],
   "source": [
    "if hamburger :\n",
    "    print(\"Bon Apetite\")"
   ]
  },
  {
   "cell_type": "markdown",
   "metadata": {
    "id": "NXzVyrk4UPRn"
   },
   "source": [
    "COMPARİSON OPERATOR"
   ]
  },
  {
   "cell_type": "code",
   "execution_count": null,
   "metadata": {
    "id": "YH0pj0Q7US-H"
   },
   "outputs": [],
   "source": [
    "# <, >, ==, !=, <=, >= Bu operatörler True ya da False döndürür."
   ]
  },
  {
   "cell_type": "code",
   "execution_count": null,
   "metadata": {
    "id": "Cs6ChlHLVww-"
   },
   "outputs": [],
   "source": [
    "set1 = set(\"TWELVE PLUS ONE\")\n",
    "set2 = set(\"ELEVEN PLUS TWO\")\n",
    "print(set1)\n",
    "print(set2)\n",
    "print(set1 == set2)\n",
    "print(set1 < set2)\n",
    "print(set1 > set2)\n",
    "print(set1 != set2)\n",
    "print(set1 <= set2)\n",
    "print(set1 >= set2)"
   ]
  },
  {
   "cell_type": "code",
   "execution_count": null,
   "metadata": {
    "id": "kXRpYk2bY4lH"
   },
   "outputs": [],
   "source": [
    "convert = input(\"Enter Yes or No : \").title().strip() == \"Yes\"\n",
    "print(\"You entered :\", convert)"
   ]
  },
  {
   "cell_type": "code",
   "execution_count": null,
   "metadata": {
    "id": "LBQju3BsZbGp"
   },
   "outputs": [],
   "source": [
    "print(\"You entered :\", input(\"Enter Yes or No : \").title().strip() == \"Yes\")"
   ]
  },
  {
   "cell_type": "code",
   "execution_count": null,
   "metadata": {
    "id": "qQcSzf01iabL"
   },
   "outputs": [],
   "source": [
    "print(\"You entered :\", input(\"Enter Yes or No : \").title().strip() == \"Yes\")"
   ]
  },
  {
   "cell_type": "markdown",
   "metadata": {
    "id": "0PXh95sxaZYm"
   },
   "source": [
    "if - else statements"
   ]
  },
  {
   "cell_type": "code",
   "execution_count": null,
   "metadata": {
    "id": "pVuqOZ6eaXid"
   },
   "outputs": [],
   "source": [
    "if condition1:\n",
    "    execute body1\n",
    "else : # if condition1 is not ensured execute body2\n",
    "    execute body2"
   ]
  },
  {
   "cell_type": "code",
   "execution_count": null,
   "metadata": {
    "id": "-h9LlGJ0azRn"
   },
   "outputs": [],
   "source": [
    "course = 'clarusway'\n",
    "\n",
    "if course == \"clarusway\":\n",
    "    print(\"you guaranteed the job\")\n",
    "else:\n",
    "    print(\"think about it again\")"
   ]
  },
  {
   "cell_type": "code",
   "execution_count": null,
   "metadata": {
    "id": "wfvLePPIa-bL"
   },
   "outputs": [],
   "source": [
    "number = int(input(\"Enter a number :\"))\n",
    "if number % 2 == 0 :\n",
    "    print(number, \"is even\")\n",
    "else :\n",
    "    print(number, \"is odd\")"
   ]
  },
  {
   "cell_type": "code",
   "execution_count": null,
   "metadata": {
    "id": "1G7EHocCc3Ew"
   },
   "outputs": [],
   "source": [
    "number = int(input(\"enter a number : \"))\n",
    "if number % 2 == 0 :\n",
    "    print(\"{} is Even\".format(number))\n",
    "else :\n",
    "    print(\"{} is Odd\".format(number))"
   ]
  },
  {
   "cell_type": "code",
   "execution_count": null,
   "metadata": {
    "id": "gqiVWMwjdHRW"
   },
   "outputs": [],
   "source": [
    "number = float(input(\"enter a number : \"))\n",
    "if number > 0 :\n",
    "    print(\"Positive number\")\n",
    "else :\n",
    "    print(\"Negative number\")"
   ]
  },
  {
   "cell_type": "code",
   "execution_count": null,
   "metadata": {
    "id": "rbnFnsPteaw6"
   },
   "outputs": [],
   "source": [
    "number1 =  float(input(\"enter a number : \"))\n",
    "number2 =  float(input(\"enter another number : \"))\n",
    "if number1 > number2 :\n",
    "    print(\"The large number is\", number1)\n",
    "else:\n",
    "    print(\"The large number is\", number2)"
   ]
  },
  {
   "cell_type": "code",
   "execution_count": null,
   "metadata": {
    "id": "7KqyUgpVhB8E"
   },
   "outputs": [],
   "source": [
    "num1 = float(input(\"Enter first number :\"))\n",
    "num2 = float(input(\"Enter second number :\"))\n",
    "\n",
    "if num1 > num2 :\n",
    "    larger = num1\n",
    "else :\n",
    "    larger = num2\n",
    "\n",
    "print(\"The larger number is :\", larger)"
   ]
  },
  {
   "cell_type": "code",
   "execution_count": null,
   "metadata": {
    "id": "xSRky5T9hOIE"
   },
   "outputs": [],
   "source": [
    "bool_value = True\n",
    "if bool_value :\n",
    "    print(\"Yes\")\n",
    "else:\n",
    "    print(\"No\")"
   ]
  },
  {
   "cell_type": "markdown",
   "metadata": {
    "id": "aoZDHyKG7pt6"
   },
   "source": [
    "if - elif -else statement"
   ]
  },
  {
   "cell_type": "code",
   "execution_count": null,
   "metadata": {
    "id": "T8I81HZl7nli"
   },
   "outputs": [],
   "source": [
    "# if for the ﬁrst one,\n",
    "# elif for the rest, up until the ﬁnal (optional),\n",
    "# else for anything not caught by the other conditionals."
   ]
  },
  {
   "cell_type": "code",
   "execution_count": null,
   "metadata": {
    "id": "yyrot4Sp8GrM"
   },
   "outputs": [],
   "source": [
    "if condition1:\n",
    "    execute body1\n",
    "\n",
    "elif condition2:  #istediğimiz kadar elif koyabiliriz.\n",
    "    execute body2\n",
    "\n",
    "else:\n",
    "    execute body3"
   ]
  },
  {
   "cell_type": "code",
   "execution_count": null,
   "metadata": {
    "id": "VLzQ8DD98MKv"
   },
   "outputs": [],
   "source": [
    "audience = \"baby\"\n",
    "\n",
    "if audience == \"kid\":\n",
    "    print(\"it is free to go to cinema\")\n",
    "elif audience == \"teen\":\n",
    "    print(\"discounted price!\")\n",
    "elif audience == \"adult\":\n",
    "    print(\"normal price\")\n",
    "else:\n",
    "    print(\"No such audience, stay at your home!\")\n"
   ]
  },
  {
   "cell_type": "markdown",
   "metadata": {
    "id": "Q63gHiDh81t6"
   },
   "source": [
    "Nested if-elif-else"
   ]
  },
  {
   "cell_type": "code",
   "execution_count": null,
   "metadata": {
    "id": "TN9PSpnG89KV"
   },
   "outputs": [],
   "source": [
    "number =  []\n",
    "number.append(int(input(\"Enter a number : \")))\n",
    "number.append(int(input(\"Enter a number : \")))\n",
    "number.append(int(input(\"Enter a number : \")))\n",
    "number.sort(reverse = True)\n",
    "print(\"The largest number is: \", number[0])"
   ]
  },
  {
   "cell_type": "code",
   "execution_count": null,
   "metadata": {
    "id": "SVzCkyibAaWI"
   },
   "outputs": [],
   "source": [
    "num1 = float(input(\"Enter the first number : \"))\n",
    "num2 = float(input(\"Enter the second number : \"))\n",
    "num3 = float(input(\"Enter the third number : \"))\n",
    "if (num1 > num2) and (num1 > num3) :\n",
    "    largest = num1\n",
    "elif (num2 > num1) and (num2 > num3) :\n",
    "    largest = num2\n",
    "else:\n",
    "    largest = num3\n",
    "print(\"the largest number is :\", largest)"
   ]
  },
  {
   "cell_type": "code",
   "execution_count": null,
   "metadata": {
    "id": "B-0BckYjC7Pi"
   },
   "outputs": [],
   "source": [
    "number = float(input(\"enter a number : \"))\n",
    "if number > 0 :\n",
    "    print(\"Positive number\")\n",
    "elif number == 0 :\n",
    "        print(\"Zero\")\n",
    "else :\n",
    "    print(\"Negative number\")"
   ]
  },
  {
   "cell_type": "code",
   "execution_count": null,
   "metadata": {
    "id": "eCdK12esEEPg"
   },
   "outputs": [],
   "source": [
    "audience_group = 'kid', 'teen', 'adult'\n",
    "\n",
    "audience = \"teen\"\n",
    "\n",
    "if audience in audience_group:\n",
    "    if audience == \"kid\":\n",
    "        print(\"it is free to go to cinema\")\n",
    "    elif audience == \"teen\":\n",
    "        print(\"discounted price!\")\n",
    "    else: # audience == \"adult\":\n",
    "        print(\"normal price\")\n",
    "else:\n",
    "    print(\"No such audience, stay at your home!\")"
   ]
  },
  {
   "cell_type": "code",
   "execution_count": null,
   "metadata": {
    "id": "dNQuzIldFO4g"
   },
   "outputs": [],
   "source": [
    "score = float(input(\"Enter your score: \")) # Bu çözüm doğru ama nested değil.\n",
    "if score >= 95 :\n",
    "    print(\"Your degree is A+\")\n",
    "elif score < 95 and score >= 90 :\n",
    "        print(\"Your degree is A\")\n",
    "elif  score < 90 and score >= 85 :\n",
    "        print(\"Your degree is B+\")\n",
    "elif score < 85 and score >= 80 :\n",
    "        print(\"Your degree is B\")\n",
    "else :\n",
    "    score > 80\n",
    "    print(\"Your degree is B-\")"
   ]
  },
  {
   "cell_type": "code",
   "execution_count": null,
   "metadata": {
    "id": "uppK8bOAJliO"
   },
   "outputs": [],
   "source": [
    "score = floatint(input(\"Enter your score : \")) # Bu cevap nested\n",
    "\n",
    "if score >= 90 :\n",
    "    if score >= 95 :\n",
    "        degree = \"A+\"\n",
    "    else :\n",
    "        degree = \"A\"\n",
    "elif score >= 80 :\n",
    "    if score >= 85 :\n",
    "        degree = \"B+\"\n",
    "    else :\n",
    "        degree = \"B\"\n",
    "else:\n",
    "    degree = \"B-\"\n",
    "\n",
    "print(\"Your degree is : \", degree)"
   ]
  },
  {
   "cell_type": "markdown",
   "metadata": {
    "id": "bZAn1rojLPCG"
   },
   "source": [
    "LOOPS"
   ]
  },
  {
   "cell_type": "code",
   "execution_count": null,
   "metadata": {
    "id": "3gjG60V3LRM9"
   },
   "outputs": [],
   "source": [
    "# Döngüler, bir kod bloğunun yürütülmesini tekrarlamak (yinelemek) için kullanılır.\n",
    "# WHİLE döngüleri koşul True olduğu müddetçe body'sini döndürür.\n",
    "#  for loop'lar kaç kez iterate edileceğini sayar"
   ]
  },
  {
   "cell_type": "code",
   "execution_count": null,
   "metadata": {
    "id": "yB-vzdBDNPhp"
   },
   "outputs": [],
   "source": [
    "while condition: #her döngüde buradaki conditionu kontrol eder.\n",
    "   body"
   ]
  },
  {
   "cell_type": "code",
   "execution_count": null,
   "metadata": {
    "id": "EOH08lhSNhHj"
   },
   "outputs": [],
   "source": [
    "while 1 : # koşul Truety olduğu için sonsuza kadar \"bir\" yazdırır.\n",
    "    print(\"bir\")\n",
    "    break #\n"
   ]
  },
  {
   "cell_type": "code",
   "execution_count": null,
   "metadata": {
    "id": "-hiKwiWrN6OP"
   },
   "outputs": [],
   "source": [
    "while 0 : # koşul Falsy olduğu için döngüden çıkar print(\"bir\") 'i yazdırmaz. ve 2 yazdırır.\n",
    "    print(\"bir\")\n",
    "print(2)"
   ]
  },
  {
   "cell_type": "code",
   "execution_count": null,
   "metadata": {
    "id": "wbG6DawqOnEV"
   },
   "outputs": [],
   "source": [
    "number = 0\n",
    "\n",
    "while number < 6:\n",
    "    print(number)\n",
    "    number += 1\n",
    "\n",
    "print('now, number is bigger or equal to 6')"
   ]
  },
  {
   "cell_type": "code",
   "execution_count": null,
   "metadata": {
    "id": "sNZLarwLO9W-"
   },
   "outputs": [],
   "source": [
    "my_list=[\"a\", \"b\", \"c\", \"d\", \"e\"]\n",
    "\n",
    "a = 0\n",
    "\n",
    "while a < len(my_list):\n",
    "    a+=1\n",
    "    print('square of {} is : {}'.format(a, a**2))"
   ]
  },
  {
   "cell_type": "code",
   "execution_count": null,
   "metadata": {
    "id": "ypX3FQ1qPeEI"
   },
   "outputs": [],
   "source": [
    "age = input(\"Enter your age : \")\n",
    "\n",
    "while not age.isdigit() :\n",
    "    print(\"You entered incorrectly!\")\n",
    "    age = input(\"Enter your age correctly please : \")\n",
    "\n",
    "print(\"Great! You entered valid age :\", age)"
   ]
  },
  {
   "cell_type": "code",
   "execution_count": null,
   "metadata": {
    "id": "A9IySHxtSCvS"
   },
   "outputs": [],
   "source": [
    "#  .isdigit() metodu stringin bir metodudur.\n",
    "\"onaltı\".isdigit() # numeric olmayan karakterleri False döndürür."
   ]
  },
  {
   "cell_type": "code",
   "execution_count": null,
   "metadata": {
    "id": "RNW7WDYXTnoP"
   },
   "outputs": [],
   "source": [
    "\"16\".isdigit() #numeric olan string değerleri True döndürür."
   ]
  },
  {
   "cell_type": "code",
   "execution_count": null,
   "metadata": {
    "id": "6NJgIW7-U_P5"
   },
   "outputs": [],
   "source": [
    "my_num = 45\n",
    "numbers = int(input(\"Enter a number :\"))\n",
    "while numbers != my_num :\n",
    "    if numbers > my_num :\n",
    "        print(\"Little lower!\")\n",
    "        numbers = int(input(\"Enter a number again :\"))\n",
    "    elif numbers < my_num :\n",
    "        print(\"Little higher!\")\n",
    "        numbers = int(input(\"Enter a number again :\"))\n",
    "else :\n",
    "    numbers = my_num\n",
    "    print(\"You are right\")"
   ]
  },
  {
   "cell_type": "markdown",
   "metadata": {
    "id": "AQl17rD2fPqi"
   },
   "source": [
    "Question: The Most Frequent Numbers:"
   ]
  },
  {
   "cell_type": "code",
   "execution_count": null,
   "metadata": {
    "id": "eRCNJaM1dhga"
   },
   "outputs": [],
   "source": [
    "numbers = [-1, 3, 7, 4, 3, 0, 3, 16, 3, 7, 0, 0, 1]\n"
   ]
  },
  {
   "cell_type": "code",
   "execution_count": null,
   "metadata": {
    "id": "HCjWNNXQjRW0"
   },
   "outputs": [],
   "source": [
    "max(1,2,3)"
   ]
  },
  {
   "cell_type": "code",
   "execution_count": null,
   "metadata": {
    "id": "8rCo_rArllz0"
   },
   "outputs": [],
   "source": [
    "sequence = [1,1,1,1,2,2,2,3,3,4]\n",
    "max(sequence)"
   ]
  },
  {
   "cell_type": "code",
   "execution_count": null,
   "metadata": {
    "id": "vBGQpBqOlz2p"
   },
   "outputs": [],
   "source": [
    "sequence.count(4)"
   ]
  },
  {
   "cell_type": "code",
   "execution_count": null,
   "metadata": {
    "id": "amfWgJSQl9w9"
   },
   "outputs": [],
   "source": [
    "sequence.count(3)"
   ]
  },
  {
   "cell_type": "code",
   "execution_count": null,
   "metadata": {
    "id": "MkCb7UWImFEJ"
   },
   "outputs": [],
   "source": [
    "numbers = [-1, 3, 7, 4, 3, 0, 3, 16, 3, 7, 0, 0, 1]"
   ]
  },
  {
   "cell_type": "code",
   "execution_count": null,
   "metadata": {
    "id": "X5XcCmybmRu0"
   },
   "outputs": [],
   "source": [
    "max(numbers)"
   ]
  },
  {
   "cell_type": "code",
   "execution_count": null,
   "metadata": {
    "id": "vE7CwxPGmrpP"
   },
   "outputs": [],
   "source": [
    "numbers.count(3)"
   ]
  },
  {
   "cell_type": "code",
   "execution_count": null,
   "metadata": {
    "id": "ykBdW6Mwmy51"
   },
   "outputs": [],
   "source": [
    "item = max(numbers, key = numbers.count)\n"
   ]
  },
  {
   "cell_type": "code",
   "execution_count": null,
   "metadata": {
    "id": "iAm1Cb6ty7a_"
   },
   "outputs": [],
   "source": [
    "item"
   ]
  },
  {
   "cell_type": "code",
   "execution_count": null,
   "metadata": {
    "id": "FsC2rz1SzXaI"
   },
   "outputs": [],
   "source": [
    "numbers.count(max(numbers, key = numbers.count))"
   ]
  },
  {
   "cell_type": "code",
   "execution_count": null,
   "metadata": {
    "id": "1aloPOOnzpqB"
   },
   "outputs": [],
   "source": [
    "numbers.count(item)"
   ]
  },
  {
   "cell_type": "markdown",
   "metadata": {
    "id": "SefDY3_VzxcR"
   },
   "source": [
    "Comfortable words"
   ]
  },
  {
   "cell_type": "code",
   "execution_count": null,
   "metadata": {
    "id": "kp745dPXIMjh"
   },
   "outputs": [],
   "source": [
    "left = set(\"qwertasdfgzxcvb\")\n",
    "right = set(\"yuiophjklmn\")\n",
    "word = set(str(input(\"Enter a word! \")))\n",
    "leftcheck = word.intersection(left)\n",
    "rightcheck = word.intersection(right)\n",
    "print(bool(leftcheck and rightcheck))\n"
   ]
  },
  {
   "cell_type": "code",
   "execution_count": null,
   "metadata": {
    "id": "_3jwxRY2IlVS"
   },
   "outputs": [],
   "source": []
  },
  {
   "cell_type": "code",
   "execution_count": null,
   "metadata": {
    "id": "I4BfNMFIzyXs"
   },
   "outputs": [],
   "source": [
    "left = set(\"qwertasdfgzxcvb\")\n",
    "right = set(\"yuiophjklmn\")"
   ]
  },
  {
   "cell_type": "code",
   "execution_count": null,
   "metadata": {
    "id": "fb54yVCNz6wM"
   },
   "outputs": [],
   "source": [
    "left"
   ]
  },
  {
   "cell_type": "code",
   "execution_count": null,
   "metadata": {
    "id": "4jQF6nrL0uum"
   },
   "outputs": [],
   "source": [
    "right"
   ]
  },
  {
   "cell_type": "code",
   "execution_count": null,
   "metadata": {
    "id": "xZLuPTbY1LmY"
   },
   "outputs": [],
   "source": [
    "word = set(\"clarusway\")"
   ]
  },
  {
   "cell_type": "code",
   "execution_count": null,
   "metadata": {
    "id": "mZyeuE6h1RFD"
   },
   "outputs": [],
   "source": [
    "leftcheck = word.intersection(left)\n",
    "rightcheck = word.intersection(right)"
   ]
  },
  {
   "cell_type": "code",
   "execution_count": null,
   "metadata": {
    "id": "KMF4amt923TK"
   },
   "outputs": [],
   "source": [
    "print(bool(leftcheck and rightcheck))"
   ]
  },
  {
   "cell_type": "code",
   "execution_count": null,
   "metadata": {
    "id": "CdMlzOYm1s1k"
   },
   "outputs": [],
   "source": [
    "leftcheck"
   ]
  },
  {
   "cell_type": "code",
   "execution_count": null,
   "metadata": {
    "id": "jciaBi-P1xIp"
   },
   "outputs": [],
   "source": [
    "rightcheck"
   ]
  },
  {
   "cell_type": "code",
   "execution_count": null,
   "metadata": {
    "id": "9hfKG9Gp1zQo"
   },
   "outputs": [],
   "source": [
    "sentence = input(\"give me a sentence :\")\n",
    "\n",
    "words = sentence.split()\n",
    "i = 0\n",
    "longest = 0\n",
    "while i < len(words) :\n",
    "    if len(words[i]) > longest :\n",
    "        longest = len(words[i])\n",
    "    i += 1\n",
    "\n",
    "print(\"the lengt of the longest word is :\", longest)"
   ]
  },
  {
   "cell_type": "code",
   "execution_count": null,
   "metadata": {
    "id": "zBwfkTifZFRY"
   },
   "outputs": [],
   "source": [
    "\"ben bir cümle girmiş olayım\".split()"
   ]
  },
  {
   "cell_type": "markdown",
   "metadata": {
    "id": "_lkRAvMNdv-M"
   },
   "source": [
    "for LOOP"
   ]
  },
  {
   "cell_type": "code",
   "execution_count": null,
   "metadata": {
    "id": "rFgB7h9Pd57v"
   },
   "outputs": [],
   "source": [
    "# for loop yapısı aşaüıdaki gibidir.\n",
    "for variable in iterable :\n",
    "    code block"
   ]
  },
  {
   "cell_type": "code",
   "execution_count": null,
   "metadata": {
    "id": "E_6Ppmr7emTV"
   },
   "outputs": [],
   "source": [
    "for i in [1, 2, 3, 4, 5] :  # for loop iterable sırayla ve teker teker alır ve değişkenin içine atar.\n",
    "    print(i)"
   ]
  },
  {
   "cell_type": "code",
   "execution_count": null,
   "metadata": {
    "id": "5HX1M_UKfMye"
   },
   "outputs": [],
   "source": [
    "seasons = ['spring', 'summer', 'autumn', 'winter']\n",
    "\n",
    "for season in seasons :\n",
    "    print(season)"
   ]
  },
  {
   "cell_type": "code",
   "execution_count": null,
   "metadata": {
    "id": "fhkRhU2FfcN3"
   },
   "outputs": [],
   "source": [
    "names = [\"Ahmed\", \"Aisha\", \"Adam\", \"Joseph\", \"Gabriel\"]\n",
    "for i in name:\n",
    "    print(\"Hello! \", i)"
   ]
  },
  {
   "cell_type": "code",
   "execution_count": null,
   "metadata": {
    "id": "Hiu3XpSSdnIX"
   },
   "outputs": [],
   "source": [
    "sayılar = []\n",
    "\n",
    "for i in range(1,6) :\n",
    "    sayılar.append(i)\n",
    "print(sayılar)"
   ]
  },
  {
   "cell_type": "code",
   "execution_count": null,
   "metadata": {
    "id": "6J6AlPyXh5cL"
   },
   "outputs": [],
   "source": [
    "eleman = \"ahmet -, clarusway[]\""
   ]
  },
  {
   "cell_type": "code",
   "execution_count": null,
   "metadata": {
    "id": "P1OPE2HZiyNY"
   },
   "outputs": [],
   "source": [
    "for i in eleman :\n",
    "    print(i, end = \"//\")"
   ]
  },
  {
   "cell_type": "code",
   "execution_count": null,
   "metadata": {
    "id": "UgspgDJei3GK"
   },
   "outputs": [],
   "source": [
    "word = input(\"Give me a word :\")\n",
    "\n",
    "count = 0\n",
    "for i in word :\n",
    "    count += 1\n",
    "    if count < len(word) :\n",
    "        i = i + \"-\"\n",
    "    print(i, end = \"\")"
   ]
  },
  {
   "cell_type": "code",
   "execution_count": null,
   "metadata": {
    "id": "nBiJYextivgw"
   },
   "outputs": [],
   "source": [
    "word = input(\"Give me a word :\")\n",
    "\n",
    "count = 0\n",
    "for i in word :\n",
    "    count += 1\n",
    "    if count < len(word) :\n",
    "        i = i + \"-\"\n",
    "    print(i,end = \"\")"
   ]
  },
  {
   "cell_type": "code",
   "execution_count": null,
   "metadata": {
    "id": "zspvnjSnnG4v"
   },
   "outputs": [],
   "source": [
    "# Python iterate ettiğimiz dictionary de sadece key'leri alır.\n",
    "user = {\n",
    "    \"name\": \"Daniel\",\n",
    "    \"surname\" : \"Smith\",\n",
    "    \"age\" : 35\n",
    "}\n",
    "for attribute in user :\n",
    "    print(attribute)"
   ]
  },
  {
   "cell_type": "markdown",
   "metadata": {
    "id": "KynENKdSpDzo"
   },
   "source": [
    "Samanlıkta iğne arayalım mı?"
   ]
  },
  {
   "cell_type": "code",
   "execution_count": null,
   "metadata": {
    "id": "M81QYlGNo_Lf"
   },
   "outputs": [],
   "source": [
    "# bir değişkenin içindeki herhangi bir verinin index numarasını nu şekilde öğrenebiliriz.\n",
    "samanlık = [\"yumurta\", \"yaba\", \"inek\", \"iğne\", \"saman\", \"tezek\", \"tırmık\" ]\n",
    "print(f\"iğne {samanlık.index('iğne')} numaralı indexte.\")"
   ]
  },
  {
   "cell_type": "markdown",
   "metadata": {
    "id": "DCYfHuuZK_AW"
   },
   "source": [
    "#### Tuple kullanarak çoklu değer assign etmek\n"
   ]
  },
  {
   "cell_type": "code",
   "execution_count": null,
   "metadata": {
    "id": "-78EilIeLRij"
   },
   "outputs": [],
   "source": [
    "v = (\"five\", 5, True)\n",
    "(x,y,z) = v\n",
    "print(x, y, z)"
   ]
  },
  {
   "cell_type": "code",
   "execution_count": null,
   "metadata": {
    "id": "ORZXLIw4LzJM"
   },
   "outputs": [],
   "source": [
    "(monday, tuesday, wednesday, thursday, friday, saturday, sunday) = tuple(range(1,8))"
   ]
  },
  {
   "cell_type": "code",
   "execution_count": null,
   "metadata": {
    "id": "JmcqS4wuMAcc"
   },
   "outputs": [],
   "source": [
    "sunday"
   ]
  },
  {
   "cell_type": "code",
   "execution_count": null,
   "metadata": {
    "id": "L0-DMvRbMB_L"
   },
   "outputs": [],
   "source": [
    "#  BİZE KENDİNİ KAPATAN KETUM DAVRANAN FONKSİYONLARA:\n",
    "#  1. for döngüleriyle\n",
    "#  2. collections larla\n",
    "#  3. * ile görsel hale getirebiliriz."
   ]
  },
  {
   "cell_type": "code",
   "execution_count": null,
   "metadata": {
    "id": "jRSj4dYJNGzE"
   },
   "outputs": [],
   "source": [
    "print([1,2,3,4] + [\"11\", \"22\", 33])"
   ]
  },
  {
   "cell_type": "code",
   "execution_count": null,
   "metadata": {
    "id": "FfE7PyqBNiD5"
   },
   "outputs": [],
   "source": [
    "tt = (1,2, [1,3,5])"
   ]
  },
  {
   "cell_type": "code",
   "execution_count": null,
   "metadata": {
    "id": "xZ00-tQoNujI"
   },
   "outputs": [],
   "source": [
    "tt[2].append(4)"
   ]
  },
  {
   "cell_type": "code",
   "execution_count": null,
   "metadata": {
    "id": "zqp6WfgzN0Hw"
   },
   "outputs": [],
   "source": [
    "tt"
   ]
  },
  {
   "cell_type": "code",
   "execution_count": null,
   "metadata": {
    "id": "NL7ytUuzN2NW"
   },
   "outputs": [],
   "source": [
    "x, y = (10, 20)"
   ]
  },
  {
   "cell_type": "code",
   "execution_count": null,
   "metadata": {
    "id": "0h7A9-o0N8a0"
   },
   "outputs": [],
   "source": [
    "print(x)\n",
    "print(y)"
   ]
  },
  {
   "cell_type": "code",
   "execution_count": null,
   "metadata": {
    "id": "4hAcc4R5N_wv"
   },
   "outputs": [],
   "source": [
    "a, b = (10, 20, 30, 40)"
   ]
  },
  {
   "cell_type": "code",
   "execution_count": null,
   "metadata": {
    "id": "p8wTl9L1OTiE"
   },
   "outputs": [],
   "source": [
    "a, _, b, _ = (10,20,30,40)"
   ]
  },
  {
   "cell_type": "code",
   "execution_count": null,
   "metadata": {
    "id": "y7W6nDu2OhtE"
   },
   "outputs": [],
   "source": [
    "print(a,b)"
   ]
  },
  {
   "cell_type": "code",
   "execution_count": null,
   "metadata": {
    "id": "Fo-5iWvbOj7J"
   },
   "outputs": [],
   "source": [
    "x, y, z =(11,22,33,44,55)"
   ]
  },
  {
   "cell_type": "code",
   "execution_count": null,
   "metadata": {
    "id": "AKQOvTC_dA2G"
   },
   "outputs": [],
   "source": [
    "x, y, *z = (11,22,33,44,55,66) # Başına yıldız koyunca diğer tüm değerleri yıldızın altında topluyor.\n",
    "print(x)\n",
    "print(y)\n",
    "print(z)"
   ]
  },
  {
   "cell_type": "code",
   "execution_count": null,
   "metadata": {
    "id": "PKdMAu5ldOlg"
   },
   "outputs": [],
   "source": [
    "x, y, *z, t = (11,22,33,44,55,66,77) # Aradakilerin hepsini *z içine atar.\n",
    "print(t)"
   ]
  },
  {
   "cell_type": "code",
   "execution_count": null,
   "metadata": {
    "id": "UIApy1tnduT1"
   },
   "outputs": [],
   "source": [
    "x, y, *_, t, w = (11,22,33,44,55,66,77,88)\n",
    "print(t)"
   ]
  },
  {
   "cell_type": "code",
   "execution_count": null,
   "metadata": {
    "id": "MKBJ4wOZd8u3"
   },
   "outputs": [],
   "source": [
    "isimler = {\"ali\" : 33,\n",
    "           \"veli\" : 44,\n",
    "           \"ayşe\" : 2}"
   ]
  },
  {
   "cell_type": "code",
   "execution_count": null,
   "metadata": {
    "id": "JHZUx8ieeS_2"
   },
   "outputs": [],
   "source": [
    "isimler.items()"
   ]
  },
  {
   "cell_type": "code",
   "execution_count": null,
   "metadata": {
    "id": "G0l41dcseT3e"
   },
   "outputs": [],
   "source": [
    "for a, b in isimler.items() :\n",
    "    print(a,b)"
   ]
  },
  {
   "cell_type": "code",
   "execution_count": null,
   "metadata": {
    "id": "cw6OIe8YgKUM"
   },
   "outputs": [],
   "source": [
    "times = int(input(\"How many times should I say 'I love you'\"))\n",
    "\n",
    "for i in range(times):\n",
    "    print('I love you')"
   ]
  },
  {
   "cell_type": "code",
   "execution_count": null,
   "metadata": {
    "id": "lPc5LsZYgU4T"
   },
   "outputs": [],
   "source": [
    "number = int(input(\"Enter a number betwen 0 - 10 :\"))\n",
    "\n",
    "for i  in range(11) :\n",
    "\n",
    "    print(\"{}x{} = \".format(number, i), number * i)\n"
   ]
  },
  {
   "cell_type": "code",
   "execution_count": null,
   "metadata": {
    "id": "w9791VwGjxEe"
   },
   "outputs": [],
   "source": [
    "number = int(input(\"Enter a number between 1-10 :\"))\n",
    "\n",
    "for i in range(11) :\n",
    "    print(\"{}x{} = {}\".format(number, i, number*i))"
   ]
  },
  {
   "cell_type": "code",
   "execution_count": null,
   "metadata": {
    "id": "JcC9lHPbmwrP"
   },
   "outputs": [],
   "source": [
    "seq = range(5)"
   ]
  },
  {
   "cell_type": "code",
   "execution_count": null,
   "metadata": {
    "id": "uVLSdV2fm0c4"
   },
   "outputs": [],
   "source": [
    "for i in seq :\n",
    "    print(i)"
   ]
  },
  {
   "cell_type": "code",
   "execution_count": null,
   "metadata": {
    "id": "RBv5eYi_m_M8"
   },
   "outputs": [],
   "source": [
    "print(list(seq))"
   ]
  },
  {
   "cell_type": "code",
   "execution_count": null,
   "metadata": {
    "id": "_cx8Mjx7nDIl"
   },
   "outputs": [],
   "source": [
    "print(tuple(seq))"
   ]
  },
  {
   "cell_type": "code",
   "execution_count": null,
   "metadata": {
    "id": "ZieS9QX9nE-V"
   },
   "outputs": [],
   "source": [
    "print(* seq)"
   ]
  },
  {
   "cell_type": "code",
   "execution_count": null,
   "metadata": {
    "id": "R2QfFF-mnI-3"
   },
   "outputs": [],
   "source": [
    "print(* \"separate\")"
   ]
  },
  {
   "cell_type": "code",
   "execution_count": null,
   "metadata": {
    "id": "WdO59CNUn2yH"
   },
   "outputs": [],
   "source": []
  },
  {
   "cell_type": "code",
   "execution_count": null,
   "metadata": {
    "id": "bNBGOuUgnSRd"
   },
   "outputs": [],
   "source": [
    "isimler = [\"tarık\", \"sevda\", \"selim\"]\n",
    "yaşlar = [11, 22, 33]"
   ]
  },
  {
   "cell_type": "code",
   "execution_count": null,
   "metadata": {
    "id": "q4w6cBQgnbrF"
   },
   "outputs": [],
   "source": [
    "xx = zip(isimler, yaşlar) # zip() fonksiyonu herbir elemanı tuple tuple birleştirir."
   ]
  },
  {
   "cell_type": "code",
   "execution_count": null,
   "metadata": {
    "id": "rdX0_98NogJi"
   },
   "outputs": [],
   "source": [
    "print(list(xx)) # Bir kez içini boşaltttıktan sonra artık iterate edemeyiz."
   ]
  },
  {
   "cell_type": "code",
   "execution_count": null,
   "metadata": {
    "id": "XyIwWMpIBeW5"
   },
   "outputs": [],
   "source": [
    "text = ['one','two','three','four','five']\n",
    "numbers = [1, 2, 3, 4, 5]\n",
    "city = [\"Tokyo\", \"Kiev\", \"Mekke\", \"İstanbul\", \"Washington\"]"
   ]
  },
  {
   "cell_type": "code",
   "execution_count": null,
   "metadata": {
    "id": "rXpl0jTDCLdM"
   },
   "outputs": [],
   "source": [
    "print(zip(text, numbers)) # zip içi görünür değil, 3 yöntem var: collection, * ve for loop ile görünür yapabilirim."
   ]
  },
  {
   "cell_type": "code",
   "execution_count": null,
   "metadata": {
    "id": "lvPu1535CQU0"
   },
   "outputs": [],
   "source": [
    "list(zip(text, numbers))"
   ]
  },
  {
   "cell_type": "code",
   "execution_count": null,
   "metadata": {
    "id": "EcByV1BrC_q1"
   },
   "outputs": [],
   "source": [
    "print(* zip(text, numbers))"
   ]
  },
  {
   "cell_type": "code",
   "execution_count": null,
   "metadata": {
    "id": "byOl-vNwDCtC"
   },
   "outputs": [],
   "source": [
    "print(* zip(text, numbers, city))"
   ]
  },
  {
   "cell_type": "code",
   "execution_count": null,
   "metadata": {
    "id": "YLc17KxKDFdZ"
   },
   "outputs": [],
   "source": [
    "evens = []\n",
    "odd = []\n",
    "for n in range(10) :\n",
    "    if n%2 == 0 :\n",
    "        evens.append(n)\n",
    "    else :\n",
    "        odd.append(n)\n",
    "print(evens)\n",
    "print(odd)"
   ]
  },
  {
   "cell_type": "code",
   "execution_count": null,
   "metadata": {
    "id": "sLkd7bDwJVAE"
   },
   "outputs": [],
   "source": [
    "numbers = [11, 36, 33, 66, 89, 21, 32, 16, 10]"
   ]
  },
  {
   "cell_type": "code",
   "execution_count": null,
   "metadata": {
    "id": "nChI65CeFkSw"
   },
   "outputs": [],
   "source": [
    "evens = 0\n",
    "odds = 0\n",
    "\n",
    "for i in numbers :\n",
    "    if not i%2 :\n",
    "        evens += 1\n",
    "    else:\n",
    "        odds += 1\n",
    "print(\"The count of even numbers : \", evens)\n",
    "print(\"The count of odd numbers : \", odds)"
   ]
  },
  {
   "cell_type": "code",
   "execution_count": null,
   "metadata": {
    "id": "CYzeoszLKkop"
   },
   "outputs": [],
   "source": [
    "for i in range(9):\n",
    "    i += 1\n",
    "    print(str(i) * i)"
   ]
  },
  {
   "cell_type": "code",
   "execution_count": null,
   "metadata": {
    "id": "rZHPygKOaC3p"
   },
   "outputs": [],
   "source": [
    "toplam = 0\n",
    "\n",
    "for i in range(1, 75) :\n",
    "    toplam = toplam + i\n",
    "toplam"
   ]
  },
  {
   "cell_type": "markdown",
   "metadata": {
    "id": "Ael2PfbDk68E"
   },
   "source": [
    "NESTED for LOOPS"
   ]
  },
  {
   "cell_type": "code",
   "execution_count": null,
   "metadata": {
    "id": "oMRwQ4GoWx4W"
   },
   "outputs": [],
   "source": [
    "who = ['I am ', 'You are ']\n",
    "mood = ['happy', 'confident']\n",
    "for i in who:\n",
    "    for ii in mood:\n",
    "        print(i + ii)"
   ]
  },
  {
   "cell_type": "code",
   "execution_count": null,
   "metadata": {
    "id": "hWS99oRUk_Eg"
   },
   "outputs": [],
   "source": [
    "names = [\"susan\", \"tom\", \"edward\"]\n",
    "mood = [\"happy\", \"sad\"]\n",
    "for i in names:\n",
    "    for ii in mood:\n",
    "        print(i+\" is \"+ii)"
   ]
  },
  {
   "cell_type": "code",
   "execution_count": null,
   "metadata": {
    "id": "fFfY0Zh0m-4d"
   },
   "outputs": [],
   "source": [
    "my_list = [1, 2, 3, 4, 5, 6]"
   ]
  },
  {
   "cell_type": "code",
   "execution_count": null,
   "metadata": {
    "id": "jqJVhLcKm_4M"
   },
   "outputs": [],
   "source": [
    "new_list = []"
   ]
  },
  {
   "cell_type": "code",
   "execution_count": null,
   "metadata": {
    "id": "uoh67a91nEpc"
   },
   "outputs": [],
   "source": [
    "for i in my_list :\n",
    "    if i % 2 :\n",
    "        new_list.append(i ** 2)\n",
    "new_list"
   ]
  },
  {
   "cell_type": "code",
   "execution_count": null,
   "metadata": {
    "id": "68zPxtLJs8T4"
   },
   "outputs": [],
   "source": []
  },
  {
   "cell_type": "markdown",
   "metadata": {
    "id": "xND5Bm4MBpvC"
   },
   "source": [
    "## list comprehension'ların temel yapısı :\n",
    "\n",
    "```python\n",
    "[expression for item in iterable]\n",
    "\n",
    "\n",
    "for item in iterable :\n",
    "    expression\n",
    "```"
   ]
  },
  {
   "cell_type": "code",
   "execution_count": null,
   "metadata": {
    "id": "lb9fk5OyBpvC"
   },
   "outputs": [],
   "source": [
    "listem = []\n",
    "for i in range(5):\n",
    "    listem.append(i)\n",
    "listem"
   ]
  },
  {
   "cell_type": "code",
   "execution_count": null,
   "metadata": {
    "id": "vfkT5BqVBpvD"
   },
   "outputs": [],
   "source": [
    "[i for i in range(5)]"
   ]
  },
  {
   "cell_type": "code",
   "execution_count": null,
   "metadata": {
    "id": "YGgKgmgpBpvD"
   },
   "outputs": [],
   "source": [
    "listem = []\n",
    "for i in range(5):\n",
    "    listem.append(i**2)\n",
    "listem"
   ]
  },
  {
   "cell_type": "code",
   "execution_count": null,
   "metadata": {
    "id": "ORTiu5kYBpvD"
   },
   "outputs": [],
   "source": [
    "[i**2 for i in range(5)]"
   ]
  },
  {
   "cell_type": "code",
   "execution_count": null,
   "metadata": {
    "id": "2n-si8sJBpvD"
   },
   "outputs": [],
   "source": [
    "condition = True\n",
    "\n",
    "if condition :\n",
    "    a = 1\n",
    "else :\n",
    "    a = 0\n",
    "\n",
    "print(a)"
   ]
  },
  {
   "cell_type": "code",
   "execution_count": null,
   "metadata": {
    "id": "uIoKdN9sBpvD"
   },
   "outputs": [],
   "source": [
    "a=1 if 2 < 4 else 0\n",
    "print(a)"
   ]
  },
  {
   "cell_type": "code",
   "execution_count": null,
   "metadata": {
    "id": "_f2ZYctoBpvE"
   },
   "outputs": [],
   "source": []
  },
  {
   "cell_type": "markdown",
   "metadata": {
    "id": "uOiTQsneWmU0"
   },
   "source": [
    "## ternary `if ` condition yapısı\n",
    "\n",
    "```python\n",
    "execute-body1 if condition else execute-body2\n",
    "```"
   ]
  },
  {
   "cell_type": "code",
   "execution_count": null,
   "metadata": {
    "id": "cgn7Ozd5WmU0"
   },
   "outputs": [],
   "source": [
    "my_list = [1, 2, 3, 4, 5, 6]"
   ]
  },
  {
   "cell_type": "code",
   "execution_count": null,
   "metadata": {
    "id": "w5oFczZ-WmU1"
   },
   "outputs": [],
   "source": [
    "[i ** 2 for i in my_list if i%2]"
   ]
  },
  {
   "cell_type": "code",
   "execution_count": null,
   "metadata": {
    "id": "QktCeGYLWmU1"
   },
   "outputs": [],
   "source": [
    "new_list = []\n",
    "for i in my_list :\n",
    "    if i % 2 :\n",
    "        new_list.append(i ** 2)\n",
    "new_list"
   ]
  },
  {
   "cell_type": "code",
   "execution_count": null,
   "metadata": {
    "id": "AxIf8xxrWmU2"
   },
   "outputs": [],
   "source": [
    "[i ** 2 for i in my_list if not i%2]"
   ]
  },
  {
   "cell_type": "code",
   "execution_count": null,
   "metadata": {
    "id": "Fx7VTopTWmU3"
   },
   "outputs": [],
   "source": [
    "a = [i ** 2 for i in my_list if not i%2]\n",
    "a"
   ]
  },
  {
   "cell_type": "code",
   "execution_count": null,
   "metadata": {
    "id": "77wH-9aRWmU3"
   },
   "outputs": [],
   "source": [
    "a = (i**2 for i in my_list)"
   ]
  },
  {
   "cell_type": "code",
   "execution_count": null,
   "metadata": {
    "id": "91rJ57SpWmU3"
   },
   "outputs": [],
   "source": [
    "a"
   ]
  },
  {
   "cell_type": "code",
   "execution_count": null,
   "metadata": {
    "id": "fSbzPGwZWmU4"
   },
   "outputs": [],
   "source": [
    "print(*a)"
   ]
  },
  {
   "cell_type": "code",
   "execution_count": null,
   "metadata": {
    "id": "hoO0d8AYWmU4"
   },
   "outputs": [],
   "source": [
    "for i in a:\n",
    "    print(i)"
   ]
  },
  {
   "cell_type": "code",
   "execution_count": null,
   "metadata": {
    "id": "tgVdK9idWmU5"
   },
   "outputs": [],
   "source": [
    "a = (i**2 for i in my_list)\n",
    "\n",
    "print(next(a))"
   ]
  },
  {
   "cell_type": "code",
   "execution_count": null,
   "metadata": {
    "id": "UqOA6tdvWmU6"
   },
   "outputs": [],
   "source": [
    "print(next(a))"
   ]
  },
  {
   "cell_type": "code",
   "execution_count": null,
   "metadata": {
    "id": "4Z0437ZWWmU6"
   },
   "outputs": [],
   "source": [
    "print(next(a))"
   ]
  },
  {
   "cell_type": "code",
   "execution_count": null,
   "metadata": {
    "id": "zsJ9qrNEWmU7"
   },
   "outputs": [],
   "source": [
    "print(next(a))"
   ]
  },
  {
   "cell_type": "code",
   "execution_count": null,
   "metadata": {
    "id": "aT9QbJ3CWmU7"
   },
   "outputs": [],
   "source": [
    "print(next(a))"
   ]
  },
  {
   "cell_type": "code",
   "execution_count": null,
   "metadata": {
    "id": "LY25aQlpWmU8"
   },
   "outputs": [],
   "source": [
    "print(next(a))"
   ]
  },
  {
   "cell_type": "code",
   "execution_count": null,
   "metadata": {
    "id": "oPdqSrXTWmU8"
   },
   "outputs": [],
   "source": [
    "print(next(a))"
   ]
  },
  {
   "cell_type": "code",
   "execution_count": null,
   "metadata": {
    "id": "LenTb6vVWmU9"
   },
   "outputs": [],
   "source": [
    "print(*range(5))"
   ]
  },
  {
   "cell_type": "code",
   "execution_count": null,
   "metadata": {
    "id": "7uovcLHRXBY4"
   },
   "outputs": [],
   "source": [
    "\n",
    "lower = 1\n",
    "upper = int(input(\"Enter upper range: \"))\n",
    "\n",
    "for num in range(lower,upper + 1):\n",
    "   if num > 1:\n",
    "       for i in range(2,num):\n",
    "           if (num % i) == 0:\n",
    "               break\n",
    "       else:\n",
    "           print(num)"
   ]
  },
  {
   "cell_type": "code",
   "execution_count": null,
   "metadata": {
    "id": "53p2fN50Zdr8"
   },
   "outputs": [],
   "source": [
    "for fizzbuzz in range(101):\n",
    "    if fizzbuzz % 3 == 0 and fizzbuzz % 5 == 0:\n",
    "        print(\"FizzBuzz\")\n",
    "\n",
    "    elif fizzbuzz % 3 == 0:\n",
    "        print(\"Fizz\")\n",
    "\n",
    "    elif fizzbuzz % 5 == 0:\n",
    "        print(\"Buzz\")\n",
    "\n",
    "    print(fizzbuzz)"
   ]
  },
  {
   "cell_type": "code",
   "execution_count": null,
   "metadata": {
    "id": "fO9VT6yQcEPx"
   },
   "outputs": [],
   "source": [
    "terim_say = 55\n",
    "# first two terms\n",
    "n1, n2 = 0, 1\n",
    "count = 0\n",
    "while count < terim_say:\n",
    "       print(n1)\n",
    "       nth = n1 + n2\n",
    "       # update values\n",
    "       n1 = n2\n",
    "       n2 = nth\n",
    "       count += 1"
   ]
  }
 ],
 "metadata": {
  "colab": {
   "provenance": []
  },
  "kernelspec": {
   "display_name": "Python 3 (ipykernel)",
   "language": "python",
   "name": "python3"
  },
  "language_info": {
   "codemirror_mode": {
    "name": "ipython",
    "version": 3
   },
   "file_extension": ".py",
   "mimetype": "text/x-python",
   "name": "python",
   "nbconvert_exporter": "python",
   "pygments_lexer": "ipython3",
   "version": "3.11.5"
  }
 },
 "nbformat": 4,
 "nbformat_minor": 1
}
